{
 "cells": [
  {
   "cell_type": "markdown",
   "source": [
    "## **네이버 API를 이용한 크롤링**\n",
    "**네이버 개발자 센터: https://developers.naver.com/main/**"
   ],
   "metadata": {
    "collapsed": false
   }
  },
  {
   "cell_type": "code",
   "execution_count": 1,
   "metadata": {
    "collapsed": true
   },
   "outputs": [],
   "source": [
    "import urllib.request # url 작업을 위한 여러 모듈을 모은 패키지\n",
    "\n",
    "client_id = \"GUAbJriDw6tfFddAKJ9l\"\n",
    "client_secret = \"Yad1E_SIpi\""
   ]
  },
  {
   "cell_type": "markdown",
   "source": [
    "**urllib 패키지**\n",
    "*   URL 작업을 위한 여러 모듈을 모은 패키지\n",
    "*   URL을 열고 읽기 위한 urllib.request 모듈 제공\n",
    "*   urllib.request 모듈에는 urlopen 함수의 형태로 매우 간단한 인터페이스를 제공"
   ],
   "metadata": {
    "collapsed": false
   }
  },
  {
   "cell_type": "code",
   "execution_count": 5,
   "outputs": [
    {
     "name": "stdout",
     "output_type": "stream",
     "text": [
      "{\n",
      "\"lastBuildDate\": \"Sun, 24 Apr 2022 04:06:14 +0900\",\n",
      "\"total\": 150,\n",
      "\"start\": 2,\n",
      "\"display\": 10,\n",
      "\"items\": [\n",
      "{\n",
      "\"title\": \"백견불여일타 스프링 부트 쇼핑몰 프로젝트 with <b>JPA</b> (이젠 프로젝트다!)\",\n",
      "\"link\": \"http://book.naver.com/bookdb/book_detail.php?bid=20883049\",\n",
      "\"image\": \"https://bookthumb-phinf.pstatic.net/cover/208/830/20883049.jpg?type=m1&udate=20210902\",\n",
      "\"author\": \"변구훈\",\n",
      "\"price\": \"30000\",\n",
      "\"discount\": \"27000\",\n",
      "\"publisher\": \"로드북\",\n",
      "\"pubdate\": \"20210907\",\n",
      "\"isbn\": \"8997924893 9788997924899\",\n",
      "\"description\": \"스프링 부트와 <b>JPA</b>를 활용하여 실제 이커머스 업계에서 활용되는 쇼핑몰 기술들을 직접 구현해볼 수 있게 구성하였다. <b>JPA</b>와 THYMELEAF에 대한 간단한 예제로 기본 개념과 사용법을 익히고 그 후 쇼핑몰의 기본적인 기능들을 구현해 가며 <b>JPA</b>와 스프링 부트를 자연스레 익힐 수 있다. &quot;JUST DO IT... \"\n",
      "\n",
      "},\n",
      "{\n",
      "\"title\": \"Mastering Java Persistence API (<b>JPA</b>) (Realize Java's Capabilities Spanning RDBMS, ORM, JDBC, Caching, Locking, Transaction Management, and JPQL)\",\n",
      "\"link\": \"http://book.naver.com/bookdb/book_detail.php?bid=22316281\",\n",
      "\"image\": \"https://bookthumb-phinf.pstatic.net/cover/223/162/22316281.jpg?type=m1&udate=20220403\",\n",
      "\"author\": \"Nisha Parameswaran Kurur\",\n",
      "\"price\": \"50660\",\n",
      "\"discount\": \"45960\",\n",
      "\"publisher\": \"BPBPublications\",\n",
      "\"pubdate\": \"20220312\",\n",
      "\"isbn\": \"9355511264 9789355511263\",\n",
      "\"description\": \"of <b>JPA</b> and the extent of its use in Java SE and Java EE applications. While the book's primary objective is to develop competence in <b>JPA</b>, it also takes a simpler approach to refresh readers on basic database management system concepts and how to design simple <b>JPA</b>... \"\n",
      "\n",
      "},\n",
      "{\n",
      "\"title\": \"<b>JPA</b> 퀵스타트\",\n",
      "\"link\": \"http://book.naver.com/bookdb/book_detail.php?bid=16655323\",\n",
      "\"image\": \"https://bookthumb-phinf.pstatic.net/cover/166/553/16655323.jpg?type=m1&udate=20200903\",\n",
      "\"author\": \"채규태\",\n",
      "\"price\": \"30000\",\n",
      "\"discount\": \"27000\",\n",
      "\"publisher\": \"루비페이퍼\",\n",
      "\"pubdate\": \"20200901\",\n",
      "\"isbn\": \"1186710586 9791186710586\",\n",
      "\"description\": \"데이터베이스 관점에서 바라보면 난해하게 느껴지는 <b>JPA</b>를 객체지향 관점으로 이해할 수 있도록 <b>JPA</b>의 개념과 클래스와 테이블 매핑 예제를 단계별로... 이러한 이해를 바탕으로 JPQL, 네이티브 쿼리, 크라이테리어 등을 학습하며, 스프링과 <b>JPA</b> 연동하는 방법을 알아보며 끝으로 스프링 MVC 모듈과 <b>JPA</b>를... \"\n",
      "\n",
      "},\n",
      "{\n",
      "\"title\": \"스프링과 <b>JPA</b>를 활용한 자바 엔터프라이즈 애플리케이션 개발 세트 (전3권,자바 ORM 표준 <b>JPA</b> 프로그래밍 + 토비의 스프링 3.1 Vol. 1~2)\",\n",
      "\"link\": \"http://book.naver.com/bookdb/book_detail.php?bid=9331619\",\n",
      "\"image\": \"https://bookthumb-phinf.pstatic.net/cover/093/316/09331619.jpg?type=m1&udate=20170218\",\n",
      "\"author\": \"김영한|이일민\",\n",
      "\"price\": \"108000\",\n",
      "\"discount\": \"97200\",\n",
      "\"publisher\": \"에이콘출판\",\n",
      "\"pubdate\": \"20150731\",\n",
      "\"isbn\": \"8960777447 9788960777446\",\n",
      "\"description\": \"<b>JPA</b> 기초 이론과 핵심 원리, 그리고 실무에 필요한 성능 최적화 방법까지 <b>JPA</b>에 대한 것을 다루는 『자바 ORM 표준 <b>JPA</b> 프로그래밍』과 대한민국 전자정부 표준 프레임워크 스프링을 설명하는 『토비의 스프링 3.1』 제1권, 제2권을 엮은 세트상품이다. <b>JPA</b>를 사용해서 엔터프라이즈 애플리케이션을... \"\n",
      "\n",
      "},\n",
      "{\n",
      "\"title\": \"실전 스프링 부트 웹 개발 Thymeleaf + <b>JPA</b> + MySQL 개정판\",\n",
      "\"link\": \"http://book.naver.com/bookdb/book_detail.php?bid=18215237\",\n",
      "\"image\": \"https://bookthumb-phinf.pstatic.net/cover/182/152/18215237.jpg?type=m1&udate=20210317\",\n",
      "\"author\": \"향단코드\",\n",
      "\"price\": \"10000\",\n",
      "\"discount\": \"\",\n",
      "\"publisher\": \"온노트\",\n",
      "\"pubdate\": \"20210316\",\n",
      "\"isbn\": \"1190230178 9791190230179\",\n",
      "\"description\": \"실전 프로젝트 개발에 필요한 스프링 부트의 기본 개념과 타임리프, <b>JPA</b>, 스프링 시큐리티, 롬복 등을 함께 설명합니다.\\n프로그램 코드 위주로 책이 구성이 되어 있어서 스프링 부트를 처음 접하시거나 자세한 개념적 내용을 원하시는 분은 맞지 않을 수 있습니다.\\n이 책은 소스코드를 다운로드 받은 다음에 직접... \"\n",
      "\n",
      "},\n",
      "{\n",
      "\"title\": \"실전 스프링 부트 웹 개발 Thymeleaf + <b>JPA</b> + MySQL\",\n",
      "\"link\": \"http://book.naver.com/bookdb/book_detail.php?bid=16328481\",\n",
      "\"image\": \"https://bookthumb-phinf.pstatic.net/cover/163/284/16328481.jpg?type=m1&udate=20200413\",\n",
      "\"author\": \"향단코드\",\n",
      "\"price\": \"10000\",\n",
      "\"discount\": \"\",\n",
      "\"publisher\": \"온노트\",\n",
      "\"pubdate\": \"20200413\",\n",
      "\"isbn\": \"1190230070 9791190230070\",\n",
      "\"description\": \"이 책은 스프링 부트를 이용하여 웹 시스템을 개발하고자 하는 사람을 위한 것이다.\\n이미지를 판매하는 간단한 디지털 컨텐츠 샵을 구축해 봄으로써 스프링 부트의 실제 사용법을 배울 수 있다.\\n실전 프로젝트 개발에 필요한 스프링 부트의 기본 개념과 타임리프, <b>JPA</b>, 스프링 시큐리티, 롬복 등을 함께 설명한다.\"\n",
      "\n",
      "},\n",
      "{\n",
      "\"title\": \"실전 스프링 부트 REST API 개발 <b>JPA</b> + MySQL 개정판\",\n",
      "\"link\": \"http://book.naver.com/bookdb/book_detail.php?bid=18868763\",\n",
      "\"image\": \"https://bookthumb-phinf.pstatic.net/cover/188/687/18868763.jpg?type=m1&udate=20210331\",\n",
      "\"author\": \"향단코드\",\n",
      "\"price\": \"10000\",\n",
      "\"discount\": \"\",\n",
      "\"publisher\": \"온노트\",\n",
      "\"pubdate\": \"20210331\",\n",
      "\"isbn\": \"1190230186 9791190230186\",\n",
      "\"description\": \"실전 프로젝트 개발에 필요한 Restful 서비스와 스프링 부트의 기본 개념, <b>JPA</b>, 스프링 시큐리티,  JWT, 토큰 인증, 롬복 등을 함께 설명합니다.\\n18장에는 실제로 REST API 서버를 사용하는 SPA 클라이언트를 리액트로 구현하여 보여주지만 리액트에 대해서는 자세하게 다루지 않습니다.\\n프로그램 코드 위주로... \"\n",
      "\n",
      "},\n",
      "{\n",
      "\"title\": \"<b>JPA</b> 프로그래밍 입문\",\n",
      "\"link\": \"http://book.naver.com/bookdb/book_detail.php?bid=12108204\",\n",
      "\"image\": \"https://bookthumb-phinf.pstatic.net/cover/121/082/12108204.jpg?type=m1&udate=20170601\",\n",
      "\"author\": \"최범균\",\n",
      "\"price\": \"25000\",\n",
      "\"discount\": \"22500\",\n",
      "\"publisher\": \"가메\",\n",
      "\"pubdate\": \"20170531\",\n",
      "\"isbn\": \"898078290X 9788980782901\",\n",
      "\"description\": \"<b>JPA</b>(JAVA PERSISTENCE API)를 시작하려는 개발자를 위한 입문서 『<b>JPA</b> 프로그래밍 입문』. 엔티티, 밸류에 대한 기본 매핑부터 콜렉션 매핑까지 핵심... 쿼리 방식 조회(JPQL), 코드 방식 쿼리(크리테리아), 네이티브 쿼리를 이용한 데이터 조회 방법, 스프링과 스프링 DATA <b>JPA</b> 연동 소개를 담고 있다.\"\n",
      "\n",
      "},\n",
      "{\n",
      "\"title\": \"실전 스프링 부트 REST API 개발 <b>JPA</b> + MySQL\",\n",
      "\"link\": \"http://book.naver.com/bookdb/book_detail.php?bid=16344921\",\n",
      "\"image\": \"https://bookthumb-phinf.pstatic.net/cover/163/449/16344921.jpg?type=m1&udate=20200428\",\n",
      "\"author\": \"향단코드\",\n",
      "\"price\": \"10000\",\n",
      "\"discount\": \"\",\n",
      "\"publisher\": \"온노트\",\n",
      "\"pubdate\": \"20200427\",\n",
      "\"isbn\": \"1190230089 9791190230087\",\n",
      "\"description\": \"이미지를 판매하는 간단한 디지털 컨텐츠 샵의  REST API를 구축해 봄으로써 Restful 서비스를 위한 스프링 부트의 실제 사용법을 배울 수 있다.\\n실전 프로젝트 개발에 필요한 Restful 서비스와 스프링 부트의 기본 개념, <b>JPA</b>, 스프링 시큐리티,  JWT, 토큰 인증, 롬복 등을 함께 설명한다.\"\n",
      "\n",
      "},\n",
      "{\n",
      "\"title\": \"Pro <b>Jpa</b> 2: Mastering the Java(tm) Persistence API (Mastering the Java Persistence Api)\",\n",
      "\"link\": \"http://book.naver.com/bookdb/book_detail.php?bid=5950909\",\n",
      "\"image\": \"https://bookthumb-phinf.pstatic.net/cover/059/509/05950909.jpg?type=m1&udate=20210421\",\n",
      "\"author\": \"Merrick Schincariol|Mike Keith\",\n",
      "\"price\": \"104150\",\n",
      "\"discount\": \"83320\",\n",
      "\"publisher\": \"APRESS\",\n",
      "\"pubdate\": \"20090601\",\n",
      "\"isbn\": \"1430219564 9781430219569\",\n",
      "\"description\": \"Sun is releasing its new Java Persistence API (<b>JPA</b>) 2.x as part of its new Java EE 6 Platform release in Summer of 2009. This book is a detailed learning and use reference, written by EJB co-spec lead and <b>JPA</b> contributor Mike Keith and his colleague.\"\n",
      "\n",
      "}\n",
      "]\n",
      "}\n",
      "\n"
     ]
    }
   ],
   "source": [
    "encText = urllib.parse.quote(\"jpa\") # quote(\"검색할 단어\")\n",
    "url = \"https://openapi.naver.com/v1/search/book?query=\" + encText + \"&start=2&display=10\" # json 결과\n",
    "# url = \"https://openapi.naver.com/v1/search/blog.xml?query=\" + encText # xml 결과\n",
    "\n",
    "request = urllib.request.Request(url)\n",
    "request.add_header(\"X-Naver-Client-Id\",client_id)\n",
    "request.add_header(\"X-Naver-Client-Secret\",client_secret)\n",
    "response = urllib.request.urlopen(request)\n",
    "rescode = response.getcode()\n",
    "if(rescode == 200):\n",
    "    response_body = response.read() # 인코딩(암호화)된 응답값\n",
    "    result = response_body.decode('utf-8') # 디코딩(해독) 하기\n",
    "    print(result)\n",
    "else:\n",
    "    print(\"Error Code:\" + rescode)"
   ],
   "metadata": {
    "collapsed": false,
    "pycharm": {
     "name": "#%%\n"
    }
   }
  },
  {
   "cell_type": "code",
   "execution_count": 6,
   "outputs": [
    {
     "data": {
      "text/plain": "'{\\n\"lastBuildDate\": \"Sun, 24 Apr 2022 04:06:14 +0900\",\\n\"total\": 150,\\n\"start\": 2,\\n\"display\": 10,\\n\"items\": [\\n{\\n\"title\": \"백견불여일타 스프링 부트 쇼핑몰 프로젝트 with <b>JPA</b> (이젠 프로젝트다!)\",\\n\"link\": \"http://book.naver.com/bookdb/book_detail.php?bid=20883049\",\\n\"image\": \"https://bookthumb-phinf.pstatic.net/cover/208/830/20883049.jpg?type=m1&udate=20210902\",\\n\"author\": \"변구훈\",\\n\"price\": \"30000\",\\n\"discount\": \"27000\",\\n\"publisher\": \"로드북\",\\n\"pubdate\": \"20210907\",\\n\"isbn\": \"8997924893 9788997924899\",\\n\"description\": \"스프링 부트와 <b>JPA</b>를 활용하여 실제 이커머스 업계에서 활용되는 쇼핑몰 기술들을 직접 구현해볼 수 있게 구성하였다. <b>JPA</b>와 THYMELEAF에 대한 간단한 예제로 기본 개념과 사용법을 익히고 그 후 쇼핑몰의 기본적인 기능들을 구현해 가며 <b>JPA</b>와 스프링 부트를 자연스레 익힐 수 있다. &quot;JUST DO IT... \"\\n\\n},\\n{\\n\"title\": \"Mastering Java Persistence API (<b>JPA</b>) (Realize Java\\'s Capabilities Spanning RDBMS, ORM, JDBC, Caching, Locking, Transaction Management, and JPQL)\",\\n\"link\": \"http://book.naver.com/bookdb/book_detail.php?bid=22316281\",\\n\"image\": \"https://bookthumb-phinf.pstatic.net/cover/223/162/22316281.jpg?type=m1&udate=20220403\",\\n\"author\": \"Nisha Parameswaran Kurur\",\\n\"price\": \"50660\",\\n\"discount\": \"45960\",\\n\"publisher\": \"BPBPublications\",\\n\"pubdate\": \"20220312\",\\n\"isbn\": \"9355511264 9789355511263\",\\n\"description\": \"of <b>JPA</b> and the extent of its use in Java SE and Java EE applications. While the book\\'s primary objective is to develop competence in <b>JPA</b>, it also takes a simpler approach to refresh readers on basic database management system concepts and how to design simple <b>JPA</b>... \"\\n\\n},\\n{\\n\"title\": \"<b>JPA</b> 퀵스타트\",\\n\"link\": \"http://book.naver.com/bookdb/book_detail.php?bid=16655323\",\\n\"image\": \"https://bookthumb-phinf.pstatic.net/cover/166/553/16655323.jpg?type=m1&udate=20200903\",\\n\"author\": \"채규태\",\\n\"price\": \"30000\",\\n\"discount\": \"27000\",\\n\"publisher\": \"루비페이퍼\",\\n\"pubdate\": \"20200901\",\\n\"isbn\": \"1186710586 9791186710586\",\\n\"description\": \"데이터베이스 관점에서 바라보면 난해하게 느껴지는 <b>JPA</b>를 객체지향 관점으로 이해할 수 있도록 <b>JPA</b>의 개념과 클래스와 테이블 매핑 예제를 단계별로... 이러한 이해를 바탕으로 JPQL, 네이티브 쿼리, 크라이테리어 등을 학습하며, 스프링과 <b>JPA</b> 연동하는 방법을 알아보며 끝으로 스프링 MVC 모듈과 <b>JPA</b>를... \"\\n\\n},\\n{\\n\"title\": \"스프링과 <b>JPA</b>를 활용한 자바 엔터프라이즈 애플리케이션 개발 세트 (전3권,자바 ORM 표준 <b>JPA</b> 프로그래밍 + 토비의 스프링 3.1 Vol. 1~2)\",\\n\"link\": \"http://book.naver.com/bookdb/book_detail.php?bid=9331619\",\\n\"image\": \"https://bookthumb-phinf.pstatic.net/cover/093/316/09331619.jpg?type=m1&udate=20170218\",\\n\"author\": \"김영한|이일민\",\\n\"price\": \"108000\",\\n\"discount\": \"97200\",\\n\"publisher\": \"에이콘출판\",\\n\"pubdate\": \"20150731\",\\n\"isbn\": \"8960777447 9788960777446\",\\n\"description\": \"<b>JPA</b> 기초 이론과 핵심 원리, 그리고 실무에 필요한 성능 최적화 방법까지 <b>JPA</b>에 대한 것을 다루는 『자바 ORM 표준 <b>JPA</b> 프로그래밍』과 대한민국 전자정부 표준 프레임워크 스프링을 설명하는 『토비의 스프링 3.1』 제1권, 제2권을 엮은 세트상품이다. <b>JPA</b>를 사용해서 엔터프라이즈 애플리케이션을... \"\\n\\n},\\n{\\n\"title\": \"실전 스프링 부트 웹 개발 Thymeleaf + <b>JPA</b> + MySQL 개정판\",\\n\"link\": \"http://book.naver.com/bookdb/book_detail.php?bid=18215237\",\\n\"image\": \"https://bookthumb-phinf.pstatic.net/cover/182/152/18215237.jpg?type=m1&udate=20210317\",\\n\"author\": \"향단코드\",\\n\"price\": \"10000\",\\n\"discount\": \"\",\\n\"publisher\": \"온노트\",\\n\"pubdate\": \"20210316\",\\n\"isbn\": \"1190230178 9791190230179\",\\n\"description\": \"실전 프로젝트 개발에 필요한 스프링 부트의 기본 개념과 타임리프, <b>JPA</b>, 스프링 시큐리티, 롬복 등을 함께 설명합니다.\\\\n프로그램 코드 위주로 책이 구성이 되어 있어서 스프링 부트를 처음 접하시거나 자세한 개념적 내용을 원하시는 분은 맞지 않을 수 있습니다.\\\\n이 책은 소스코드를 다운로드 받은 다음에 직접... \"\\n\\n},\\n{\\n\"title\": \"실전 스프링 부트 웹 개발 Thymeleaf + <b>JPA</b> + MySQL\",\\n\"link\": \"http://book.naver.com/bookdb/book_detail.php?bid=16328481\",\\n\"image\": \"https://bookthumb-phinf.pstatic.net/cover/163/284/16328481.jpg?type=m1&udate=20200413\",\\n\"author\": \"향단코드\",\\n\"price\": \"10000\",\\n\"discount\": \"\",\\n\"publisher\": \"온노트\",\\n\"pubdate\": \"20200413\",\\n\"isbn\": \"1190230070 9791190230070\",\\n\"description\": \"이 책은 스프링 부트를 이용하여 웹 시스템을 개발하고자 하는 사람을 위한 것이다.\\\\n이미지를 판매하는 간단한 디지털 컨텐츠 샵을 구축해 봄으로써 스프링 부트의 실제 사용법을 배울 수 있다.\\\\n실전 프로젝트 개발에 필요한 스프링 부트의 기본 개념과 타임리프, <b>JPA</b>, 스프링 시큐리티, 롬복 등을 함께 설명한다.\"\\n\\n},\\n{\\n\"title\": \"실전 스프링 부트 REST API 개발 <b>JPA</b> + MySQL 개정판\",\\n\"link\": \"http://book.naver.com/bookdb/book_detail.php?bid=18868763\",\\n\"image\": \"https://bookthumb-phinf.pstatic.net/cover/188/687/18868763.jpg?type=m1&udate=20210331\",\\n\"author\": \"향단코드\",\\n\"price\": \"10000\",\\n\"discount\": \"\",\\n\"publisher\": \"온노트\",\\n\"pubdate\": \"20210331\",\\n\"isbn\": \"1190230186 9791190230186\",\\n\"description\": \"실전 프로젝트 개발에 필요한 Restful 서비스와 스프링 부트의 기본 개념, <b>JPA</b>, 스프링 시큐리티,  JWT, 토큰 인증, 롬복 등을 함께 설명합니다.\\\\n18장에는 실제로 REST API 서버를 사용하는 SPA 클라이언트를 리액트로 구현하여 보여주지만 리액트에 대해서는 자세하게 다루지 않습니다.\\\\n프로그램 코드 위주로... \"\\n\\n},\\n{\\n\"title\": \"<b>JPA</b> 프로그래밍 입문\",\\n\"link\": \"http://book.naver.com/bookdb/book_detail.php?bid=12108204\",\\n\"image\": \"https://bookthumb-phinf.pstatic.net/cover/121/082/12108204.jpg?type=m1&udate=20170601\",\\n\"author\": \"최범균\",\\n\"price\": \"25000\",\\n\"discount\": \"22500\",\\n\"publisher\": \"가메\",\\n\"pubdate\": \"20170531\",\\n\"isbn\": \"898078290X 9788980782901\",\\n\"description\": \"<b>JPA</b>(JAVA PERSISTENCE API)를 시작하려는 개발자를 위한 입문서 『<b>JPA</b> 프로그래밍 입문』. 엔티티, 밸류에 대한 기본 매핑부터 콜렉션 매핑까지 핵심... 쿼리 방식 조회(JPQL), 코드 방식 쿼리(크리테리아), 네이티브 쿼리를 이용한 데이터 조회 방법, 스프링과 스프링 DATA <b>JPA</b> 연동 소개를 담고 있다.\"\\n\\n},\\n{\\n\"title\": \"실전 스프링 부트 REST API 개발 <b>JPA</b> + MySQL\",\\n\"link\": \"http://book.naver.com/bookdb/book_detail.php?bid=16344921\",\\n\"image\": \"https://bookthumb-phinf.pstatic.net/cover/163/449/16344921.jpg?type=m1&udate=20200428\",\\n\"author\": \"향단코드\",\\n\"price\": \"10000\",\\n\"discount\": \"\",\\n\"publisher\": \"온노트\",\\n\"pubdate\": \"20200427\",\\n\"isbn\": \"1190230089 9791190230087\",\\n\"description\": \"이미지를 판매하는 간단한 디지털 컨텐츠 샵의  REST API를 구축해 봄으로써 Restful 서비스를 위한 스프링 부트의 실제 사용법을 배울 수 있다.\\\\n실전 프로젝트 개발에 필요한 Restful 서비스와 스프링 부트의 기본 개념, <b>JPA</b>, 스프링 시큐리티,  JWT, 토큰 인증, 롬복 등을 함께 설명한다.\"\\n\\n},\\n{\\n\"title\": \"Pro <b>Jpa</b> 2: Mastering the Java(tm) Persistence API (Mastering the Java Persistence Api)\",\\n\"link\": \"http://book.naver.com/bookdb/book_detail.php?bid=5950909\",\\n\"image\": \"https://bookthumb-phinf.pstatic.net/cover/059/509/05950909.jpg?type=m1&udate=20210421\",\\n\"author\": \"Merrick Schincariol|Mike Keith\",\\n\"price\": \"104150\",\\n\"discount\": \"83320\",\\n\"publisher\": \"APRESS\",\\n\"pubdate\": \"20090601\",\\n\"isbn\": \"1430219564 9781430219569\",\\n\"description\": \"Sun is releasing its new Java Persistence API (<b>JPA</b>) 2.x as part of its new Java EE 6 Platform release in Summer of 2009. This book is a detailed learning and use reference, written by EJB co-spec lead and <b>JPA</b> contributor Mike Keith and his colleague.\"\\n\\n}\\n]\\n}\\n'"
     },
     "execution_count": 6,
     "metadata": {},
     "output_type": "execute_result"
    }
   ],
   "source": [
    "result"
   ],
   "metadata": {
    "collapsed": false,
    "pycharm": {
     "name": "#%%\n"
    }
   }
  },
  {
   "cell_type": "code",
   "execution_count": 7,
   "outputs": [],
   "source": [
    "import json"
   ],
   "metadata": {
    "collapsed": false,
    "pycharm": {
     "name": "#%%\n"
    }
   }
  },
  {
   "cell_type": "code",
   "execution_count": 8,
   "outputs": [
    {
     "data": {
      "text/plain": "{'lastBuildDate': 'Sun, 24 Apr 2022 04:06:14 +0900',\n 'total': 150,\n 'start': 2,\n 'display': 10,\n 'items': [{'title': '백견불여일타 스프링 부트 쇼핑몰 프로젝트 with <b>JPA</b> (이젠 프로젝트다!)',\n   'link': 'http://book.naver.com/bookdb/book_detail.php?bid=20883049',\n   'image': 'https://bookthumb-phinf.pstatic.net/cover/208/830/20883049.jpg?type=m1&udate=20210902',\n   'author': '변구훈',\n   'price': '30000',\n   'discount': '27000',\n   'publisher': '로드북',\n   'pubdate': '20210907',\n   'isbn': '8997924893 9788997924899',\n   'description': '스프링 부트와 <b>JPA</b>를 활용하여 실제 이커머스 업계에서 활용되는 쇼핑몰 기술들을 직접 구현해볼 수 있게 구성하였다. <b>JPA</b>와 THYMELEAF에 대한 간단한 예제로 기본 개념과 사용법을 익히고 그 후 쇼핑몰의 기본적인 기능들을 구현해 가며 <b>JPA</b>와 스프링 부트를 자연스레 익힐 수 있다. &quot;JUST DO IT... '},\n  {'title': \"Mastering Java Persistence API (<b>JPA</b>) (Realize Java's Capabilities Spanning RDBMS, ORM, JDBC, Caching, Locking, Transaction Management, and JPQL)\",\n   'link': 'http://book.naver.com/bookdb/book_detail.php?bid=22316281',\n   'image': 'https://bookthumb-phinf.pstatic.net/cover/223/162/22316281.jpg?type=m1&udate=20220403',\n   'author': 'Nisha Parameswaran Kurur',\n   'price': '50660',\n   'discount': '45960',\n   'publisher': 'BPBPublications',\n   'pubdate': '20220312',\n   'isbn': '9355511264 9789355511263',\n   'description': \"of <b>JPA</b> and the extent of its use in Java SE and Java EE applications. While the book's primary objective is to develop competence in <b>JPA</b>, it also takes a simpler approach to refresh readers on basic database management system concepts and how to design simple <b>JPA</b>... \"},\n  {'title': '<b>JPA</b> 퀵스타트',\n   'link': 'http://book.naver.com/bookdb/book_detail.php?bid=16655323',\n   'image': 'https://bookthumb-phinf.pstatic.net/cover/166/553/16655323.jpg?type=m1&udate=20200903',\n   'author': '채규태',\n   'price': '30000',\n   'discount': '27000',\n   'publisher': '루비페이퍼',\n   'pubdate': '20200901',\n   'isbn': '1186710586 9791186710586',\n   'description': '데이터베이스 관점에서 바라보면 난해하게 느껴지는 <b>JPA</b>를 객체지향 관점으로 이해할 수 있도록 <b>JPA</b>의 개념과 클래스와 테이블 매핑 예제를 단계별로... 이러한 이해를 바탕으로 JPQL, 네이티브 쿼리, 크라이테리어 등을 학습하며, 스프링과 <b>JPA</b> 연동하는 방법을 알아보며 끝으로 스프링 MVC 모듈과 <b>JPA</b>를... '},\n  {'title': '스프링과 <b>JPA</b>를 활용한 자바 엔터프라이즈 애플리케이션 개발 세트 (전3권,자바 ORM 표준 <b>JPA</b> 프로그래밍 + 토비의 스프링 3.1 Vol. 1~2)',\n   'link': 'http://book.naver.com/bookdb/book_detail.php?bid=9331619',\n   'image': 'https://bookthumb-phinf.pstatic.net/cover/093/316/09331619.jpg?type=m1&udate=20170218',\n   'author': '김영한|이일민',\n   'price': '108000',\n   'discount': '97200',\n   'publisher': '에이콘출판',\n   'pubdate': '20150731',\n   'isbn': '8960777447 9788960777446',\n   'description': '<b>JPA</b> 기초 이론과 핵심 원리, 그리고 실무에 필요한 성능 최적화 방법까지 <b>JPA</b>에 대한 것을 다루는 『자바 ORM 표준 <b>JPA</b> 프로그래밍』과 대한민국 전자정부 표준 프레임워크 스프링을 설명하는 『토비의 스프링 3.1』 제1권, 제2권을 엮은 세트상품이다. <b>JPA</b>를 사용해서 엔터프라이즈 애플리케이션을... '},\n  {'title': '실전 스프링 부트 웹 개발 Thymeleaf + <b>JPA</b> + MySQL 개정판',\n   'link': 'http://book.naver.com/bookdb/book_detail.php?bid=18215237',\n   'image': 'https://bookthumb-phinf.pstatic.net/cover/182/152/18215237.jpg?type=m1&udate=20210317',\n   'author': '향단코드',\n   'price': '10000',\n   'discount': '',\n   'publisher': '온노트',\n   'pubdate': '20210316',\n   'isbn': '1190230178 9791190230179',\n   'description': '실전 프로젝트 개발에 필요한 스프링 부트의 기본 개념과 타임리프, <b>JPA</b>, 스프링 시큐리티, 롬복 등을 함께 설명합니다.\\n프로그램 코드 위주로 책이 구성이 되어 있어서 스프링 부트를 처음 접하시거나 자세한 개념적 내용을 원하시는 분은 맞지 않을 수 있습니다.\\n이 책은 소스코드를 다운로드 받은 다음에 직접... '},\n  {'title': '실전 스프링 부트 웹 개발 Thymeleaf + <b>JPA</b> + MySQL',\n   'link': 'http://book.naver.com/bookdb/book_detail.php?bid=16328481',\n   'image': 'https://bookthumb-phinf.pstatic.net/cover/163/284/16328481.jpg?type=m1&udate=20200413',\n   'author': '향단코드',\n   'price': '10000',\n   'discount': '',\n   'publisher': '온노트',\n   'pubdate': '20200413',\n   'isbn': '1190230070 9791190230070',\n   'description': '이 책은 스프링 부트를 이용하여 웹 시스템을 개발하고자 하는 사람을 위한 것이다.\\n이미지를 판매하는 간단한 디지털 컨텐츠 샵을 구축해 봄으로써 스프링 부트의 실제 사용법을 배울 수 있다.\\n실전 프로젝트 개발에 필요한 스프링 부트의 기본 개념과 타임리프, <b>JPA</b>, 스프링 시큐리티, 롬복 등을 함께 설명한다.'},\n  {'title': '실전 스프링 부트 REST API 개발 <b>JPA</b> + MySQL 개정판',\n   'link': 'http://book.naver.com/bookdb/book_detail.php?bid=18868763',\n   'image': 'https://bookthumb-phinf.pstatic.net/cover/188/687/18868763.jpg?type=m1&udate=20210331',\n   'author': '향단코드',\n   'price': '10000',\n   'discount': '',\n   'publisher': '온노트',\n   'pubdate': '20210331',\n   'isbn': '1190230186 9791190230186',\n   'description': '실전 프로젝트 개발에 필요한 Restful 서비스와 스프링 부트의 기본 개념, <b>JPA</b>, 스프링 시큐리티,  JWT, 토큰 인증, 롬복 등을 함께 설명합니다.\\n18장에는 실제로 REST API 서버를 사용하는 SPA 클라이언트를 리액트로 구현하여 보여주지만 리액트에 대해서는 자세하게 다루지 않습니다.\\n프로그램 코드 위주로... '},\n  {'title': '<b>JPA</b> 프로그래밍 입문',\n   'link': 'http://book.naver.com/bookdb/book_detail.php?bid=12108204',\n   'image': 'https://bookthumb-phinf.pstatic.net/cover/121/082/12108204.jpg?type=m1&udate=20170601',\n   'author': '최범균',\n   'price': '25000',\n   'discount': '22500',\n   'publisher': '가메',\n   'pubdate': '20170531',\n   'isbn': '898078290X 9788980782901',\n   'description': '<b>JPA</b>(JAVA PERSISTENCE API)를 시작하려는 개발자를 위한 입문서 『<b>JPA</b> 프로그래밍 입문』. 엔티티, 밸류에 대한 기본 매핑부터 콜렉션 매핑까지 핵심... 쿼리 방식 조회(JPQL), 코드 방식 쿼리(크리테리아), 네이티브 쿼리를 이용한 데이터 조회 방법, 스프링과 스프링 DATA <b>JPA</b> 연동 소개를 담고 있다.'},\n  {'title': '실전 스프링 부트 REST API 개발 <b>JPA</b> + MySQL',\n   'link': 'http://book.naver.com/bookdb/book_detail.php?bid=16344921',\n   'image': 'https://bookthumb-phinf.pstatic.net/cover/163/449/16344921.jpg?type=m1&udate=20200428',\n   'author': '향단코드',\n   'price': '10000',\n   'discount': '',\n   'publisher': '온노트',\n   'pubdate': '20200427',\n   'isbn': '1190230089 9791190230087',\n   'description': '이미지를 판매하는 간단한 디지털 컨텐츠 샵의  REST API를 구축해 봄으로써 Restful 서비스를 위한 스프링 부트의 실제 사용법을 배울 수 있다.\\n실전 프로젝트 개발에 필요한 Restful 서비스와 스프링 부트의 기본 개념, <b>JPA</b>, 스프링 시큐리티,  JWT, 토큰 인증, 롬복 등을 함께 설명한다.'},\n  {'title': 'Pro <b>Jpa</b> 2: Mastering the Java(tm) Persistence API (Mastering the Java Persistence Api)',\n   'link': 'http://book.naver.com/bookdb/book_detail.php?bid=5950909',\n   'image': 'https://bookthumb-phinf.pstatic.net/cover/059/509/05950909.jpg?type=m1&udate=20210421',\n   'author': 'Merrick Schincariol|Mike Keith',\n   'price': '104150',\n   'discount': '83320',\n   'publisher': 'APRESS',\n   'pubdate': '20090601',\n   'isbn': '1430219564 9781430219569',\n   'description': 'Sun is releasing its new Java Persistence API (<b>JPA</b>) 2.x as part of its new Java EE 6 Platform release in Summer of 2009. This book is a detailed learning and use reference, written by EJB co-spec lead and <b>JPA</b> contributor Mike Keith and his colleague.'}]}"
     },
     "execution_count": 8,
     "metadata": {},
     "output_type": "execute_result"
    }
   ],
   "source": [
    "result = json.loads(result)\n",
    "result"
   ],
   "metadata": {
    "collapsed": false,
    "pycharm": {
     "name": "#%%\n"
    }
   }
  },
  {
   "cell_type": "code",
   "execution_count": 10,
   "outputs": [
    {
     "data": {
      "text/plain": "['lastBuildDate', 'total', 'start', 'display', 'items']"
     },
     "execution_count": 10,
     "metadata": {},
     "output_type": "execute_result"
    }
   ],
   "source": [
    "list(result.keys())"
   ],
   "metadata": {
    "collapsed": false,
    "pycharm": {
     "name": "#%%\n"
    }
   }
  },
  {
   "cell_type": "code",
   "execution_count": 12,
   "outputs": [
    {
     "data": {
      "text/plain": "150"
     },
     "execution_count": 12,
     "metadata": {},
     "output_type": "execute_result"
    }
   ],
   "source": [
    "result[\"total\"]"
   ],
   "metadata": {
    "collapsed": false,
    "pycharm": {
     "name": "#%%\n"
    }
   }
  },
  {
   "cell_type": "code",
   "execution_count": 26,
   "outputs": [
    {
     "data": {
      "text/plain": "[{'title': '백견불여일타 스프링 부트 쇼핑몰 프로젝트 with <b>JPA</b> (이젠 프로젝트다!)',\n  'link': 'http://book.naver.com/bookdb/book_detail.php?bid=20883049',\n  'image': 'https://bookthumb-phinf.pstatic.net/cover/208/830/20883049.jpg?type=m1&udate=20210902',\n  'author': '변구훈',\n  'price': '30000',\n  'discount': '27000',\n  'publisher': '로드북',\n  'pubdate': '20210907',\n  'isbn': '8997924893 9788997924899',\n  'description': '스프링 부트와 <b>JPA</b>를 활용하여 실제 이커머스 업계에서 활용되는 쇼핑몰 기술들을 직접 구현해볼 수 있게 구성하였다. <b>JPA</b>와 THYMELEAF에 대한 간단한 예제로 기본 개념과 사용법을 익히고 그 후 쇼핑몰의 기본적인 기능들을 구현해 가며 <b>JPA</b>와 스프링 부트를 자연스레 익힐 수 있다. &quot;JUST DO IT... '},\n {'title': \"Mastering Java Persistence API (<b>JPA</b>) (Realize Java's Capabilities Spanning RDBMS, ORM, JDBC, Caching, Locking, Transaction Management, and JPQL)\",\n  'link': 'http://book.naver.com/bookdb/book_detail.php?bid=22316281',\n  'image': 'https://bookthumb-phinf.pstatic.net/cover/223/162/22316281.jpg?type=m1&udate=20220403',\n  'author': 'Nisha Parameswaran Kurur',\n  'price': '50660',\n  'discount': '45960',\n  'publisher': 'BPBPublications',\n  'pubdate': '20220312',\n  'isbn': '9355511264 9789355511263',\n  'description': \"of <b>JPA</b> and the extent of its use in Java SE and Java EE applications. While the book's primary objective is to develop competence in <b>JPA</b>, it also takes a simpler approach to refresh readers on basic database management system concepts and how to design simple <b>JPA</b>... \"},\n {'title': '<b>JPA</b> 퀵스타트',\n  'link': 'http://book.naver.com/bookdb/book_detail.php?bid=16655323',\n  'image': 'https://bookthumb-phinf.pstatic.net/cover/166/553/16655323.jpg?type=m1&udate=20200903',\n  'author': '채규태',\n  'price': '30000',\n  'discount': '27000',\n  'publisher': '루비페이퍼',\n  'pubdate': '20200901',\n  'isbn': '1186710586 9791186710586',\n  'description': '데이터베이스 관점에서 바라보면 난해하게 느껴지는 <b>JPA</b>를 객체지향 관점으로 이해할 수 있도록 <b>JPA</b>의 개념과 클래스와 테이블 매핑 예제를 단계별로... 이러한 이해를 바탕으로 JPQL, 네이티브 쿼리, 크라이테리어 등을 학습하며, 스프링과 <b>JPA</b> 연동하는 방법을 알아보며 끝으로 스프링 MVC 모듈과 <b>JPA</b>를... '},\n {'title': '스프링과 <b>JPA</b>를 활용한 자바 엔터프라이즈 애플리케이션 개발 세트 (전3권,자바 ORM 표준 <b>JPA</b> 프로그래밍 + 토비의 스프링 3.1 Vol. 1~2)',\n  'link': 'http://book.naver.com/bookdb/book_detail.php?bid=9331619',\n  'image': 'https://bookthumb-phinf.pstatic.net/cover/093/316/09331619.jpg?type=m1&udate=20170218',\n  'author': '김영한|이일민',\n  'price': '108000',\n  'discount': '97200',\n  'publisher': '에이콘출판',\n  'pubdate': '20150731',\n  'isbn': '8960777447 9788960777446',\n  'description': '<b>JPA</b> 기초 이론과 핵심 원리, 그리고 실무에 필요한 성능 최적화 방법까지 <b>JPA</b>에 대한 것을 다루는 『자바 ORM 표준 <b>JPA</b> 프로그래밍』과 대한민국 전자정부 표준 프레임워크 스프링을 설명하는 『토비의 스프링 3.1』 제1권, 제2권을 엮은 세트상품이다. <b>JPA</b>를 사용해서 엔터프라이즈 애플리케이션을... '},\n {'title': '실전 스프링 부트 웹 개발 Thymeleaf + <b>JPA</b> + MySQL 개정판',\n  'link': 'http://book.naver.com/bookdb/book_detail.php?bid=18215237',\n  'image': 'https://bookthumb-phinf.pstatic.net/cover/182/152/18215237.jpg?type=m1&udate=20210317',\n  'author': '향단코드',\n  'price': '10000',\n  'discount': '',\n  'publisher': '온노트',\n  'pubdate': '20210316',\n  'isbn': '1190230178 9791190230179',\n  'description': '실전 프로젝트 개발에 필요한 스프링 부트의 기본 개념과 타임리프, <b>JPA</b>, 스프링 시큐리티, 롬복 등을 함께 설명합니다.\\n프로그램 코드 위주로 책이 구성이 되어 있어서 스프링 부트를 처음 접하시거나 자세한 개념적 내용을 원하시는 분은 맞지 않을 수 있습니다.\\n이 책은 소스코드를 다운로드 받은 다음에 직접... '},\n {'title': '실전 스프링 부트 웹 개발 Thymeleaf + <b>JPA</b> + MySQL',\n  'link': 'http://book.naver.com/bookdb/book_detail.php?bid=16328481',\n  'image': 'https://bookthumb-phinf.pstatic.net/cover/163/284/16328481.jpg?type=m1&udate=20200413',\n  'author': '향단코드',\n  'price': '10000',\n  'discount': '',\n  'publisher': '온노트',\n  'pubdate': '20200413',\n  'isbn': '1190230070 9791190230070',\n  'description': '이 책은 스프링 부트를 이용하여 웹 시스템을 개발하고자 하는 사람을 위한 것이다.\\n이미지를 판매하는 간단한 디지털 컨텐츠 샵을 구축해 봄으로써 스프링 부트의 실제 사용법을 배울 수 있다.\\n실전 프로젝트 개발에 필요한 스프링 부트의 기본 개념과 타임리프, <b>JPA</b>, 스프링 시큐리티, 롬복 등을 함께 설명한다.'},\n {'title': '실전 스프링 부트 REST API 개발 <b>JPA</b> + MySQL 개정판',\n  'link': 'http://book.naver.com/bookdb/book_detail.php?bid=18868763',\n  'image': 'https://bookthumb-phinf.pstatic.net/cover/188/687/18868763.jpg?type=m1&udate=20210331',\n  'author': '향단코드',\n  'price': '10000',\n  'discount': '',\n  'publisher': '온노트',\n  'pubdate': '20210331',\n  'isbn': '1190230186 9791190230186',\n  'description': '실전 프로젝트 개발에 필요한 Restful 서비스와 스프링 부트의 기본 개념, <b>JPA</b>, 스프링 시큐리티,  JWT, 토큰 인증, 롬복 등을 함께 설명합니다.\\n18장에는 실제로 REST API 서버를 사용하는 SPA 클라이언트를 리액트로 구현하여 보여주지만 리액트에 대해서는 자세하게 다루지 않습니다.\\n프로그램 코드 위주로... '},\n {'title': '<b>JPA</b> 프로그래밍 입문',\n  'link': 'http://book.naver.com/bookdb/book_detail.php?bid=12108204',\n  'image': 'https://bookthumb-phinf.pstatic.net/cover/121/082/12108204.jpg?type=m1&udate=20170601',\n  'author': '최범균',\n  'price': '25000',\n  'discount': '22500',\n  'publisher': '가메',\n  'pubdate': '20170531',\n  'isbn': '898078290X 9788980782901',\n  'description': '<b>JPA</b>(JAVA PERSISTENCE API)를 시작하려는 개발자를 위한 입문서 『<b>JPA</b> 프로그래밍 입문』. 엔티티, 밸류에 대한 기본 매핑부터 콜렉션 매핑까지 핵심... 쿼리 방식 조회(JPQL), 코드 방식 쿼리(크리테리아), 네이티브 쿼리를 이용한 데이터 조회 방법, 스프링과 스프링 DATA <b>JPA</b> 연동 소개를 담고 있다.'},\n {'title': '실전 스프링 부트 REST API 개발 <b>JPA</b> + MySQL',\n  'link': 'http://book.naver.com/bookdb/book_detail.php?bid=16344921',\n  'image': 'https://bookthumb-phinf.pstatic.net/cover/163/449/16344921.jpg?type=m1&udate=20200428',\n  'author': '향단코드',\n  'price': '10000',\n  'discount': '',\n  'publisher': '온노트',\n  'pubdate': '20200427',\n  'isbn': '1190230089 9791190230087',\n  'description': '이미지를 판매하는 간단한 디지털 컨텐츠 샵의  REST API를 구축해 봄으로써 Restful 서비스를 위한 스프링 부트의 실제 사용법을 배울 수 있다.\\n실전 프로젝트 개발에 필요한 Restful 서비스와 스프링 부트의 기본 개념, <b>JPA</b>, 스프링 시큐리티,  JWT, 토큰 인증, 롬복 등을 함께 설명한다.'},\n {'title': 'Pro <b>Jpa</b> 2: Mastering the Java(tm) Persistence API (Mastering the Java Persistence Api)',\n  'link': 'http://book.naver.com/bookdb/book_detail.php?bid=5950909',\n  'image': 'https://bookthumb-phinf.pstatic.net/cover/059/509/05950909.jpg?type=m1&udate=20210421',\n  'author': 'Merrick Schincariol|Mike Keith',\n  'price': '104150',\n  'discount': '83320',\n  'publisher': 'APRESS',\n  'pubdate': '20090601',\n  'isbn': '1430219564 9781430219569',\n  'description': 'Sun is releasing its new Java Persistence API (<b>JPA</b>) 2.x as part of its new Java EE 6 Platform release in Summer of 2009. This book is a detailed learning and use reference, written by EJB co-spec lead and <b>JPA</b> contributor Mike Keith and his colleague.'}]"
     },
     "execution_count": 26,
     "metadata": {},
     "output_type": "execute_result"
    }
   ],
   "source": [
    "result[\"items\"]"
   ],
   "metadata": {
    "collapsed": false,
    "pycharm": {
     "name": "#%%\n"
    }
   }
  },
  {
   "cell_type": "code",
   "execution_count": 27,
   "outputs": [
    {
     "name": "stdout",
     "output_type": "stream",
     "text": [
      "변구훈\n",
      "Nisha Parameswaran Kurur\n",
      "채규태\n",
      "김영한|이일민\n",
      "향단코드\n",
      "향단코드\n",
      "향단코드\n",
      "최범균\n",
      "향단코드\n",
      "Merrick Schincariol|Mike Keith\n"
     ]
    }
   ],
   "source": [
    "for n in range (len(result[\"items\"])):\n",
    "    print(result[\"items\"][n][\"author\"])"
   ],
   "metadata": {
    "collapsed": false,
    "pycharm": {
     "name": "#%%\n"
    }
   }
  },
  {
   "cell_type": "code",
   "execution_count": null,
   "outputs": [],
   "source": [],
   "metadata": {
    "collapsed": false,
    "pycharm": {
     "name": "#%%\n"
    }
   }
  }
 ],
 "metadata": {
  "kernelspec": {
   "display_name": "Python 3",
   "language": "python",
   "name": "python3"
  },
  "language_info": {
   "codemirror_mode": {
    "name": "ipython",
    "version": 2
   },
   "file_extension": ".py",
   "mimetype": "text/x-python",
   "name": "python",
   "nbconvert_exporter": "python",
   "pygments_lexer": "ipython2",
   "version": "2.7.6"
  }
 },
 "nbformat": 4,
 "nbformat_minor": 0
}