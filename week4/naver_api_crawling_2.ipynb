{
 "cells": [
  {
   "cell_type": "markdown",
   "source": [
    "## **네이버 API를 이용한 크롤링 - 함수**\n",
    "*   create_url(): url 값\n",
    "*   get_dataframe(): DataFrame 결과\n",
    "*   get_naversearch(): 100개 이상을 한번에 크롤링"
   ],
   "metadata": {
    "collapsed": false
   }
  },
  {
   "cell_type": "code",
   "execution_count": 2,
   "metadata": {
    "collapsed": true
   },
   "outputs": [],
   "source": [
    "import urllib.request\n",
    "import json\n",
    "import pandas as pd\n",
    "\n",
    "client_id = \"GUAbJriDw6tfFddAKJ9l\"\n",
    "client_secret = \"Yad1E_SIpi\""
   ]
  },
  {
   "cell_type": "code",
   "execution_count": 4,
   "outputs": [],
   "source": [
    "searchText = urllib.parse.quote(\"스프링 프레임워크\")\n",
    "url = \"https://openapi.naver.com/v1/search/book?query=\" + searchText + \"&start=1&display=10\"\n",
    "\n",
    "request = urllib.request.Request(url)\n",
    "request.add_header(\"X-Naver-Client-Id\",client_id)\n",
    "request.add_header(\"X-Naver-Client-Secret\",client_secret)\n",
    "\n",
    "response = urllib.request.urlopen(request)\n",
    "response_code = response.getcode()\n",
    "if (response_code == 200):\n",
    "    response_body = response.read()\n",
    "    result = response_body.decode(\"utf-8\")\n",
    "else:\n",
    "    print(\"Error Code: \" + response_code)"
   ],
   "metadata": {
    "collapsed": false,
    "pycharm": {
     "name": "#%%\n"
    }
   }
  },
  {
   "cell_type": "code",
   "execution_count": 5,
   "outputs": [
    {
     "data": {
      "text/plain": "{'lastBuildDate': 'Sun, 24 Apr 2022 14:45:19 +0900',\n 'total': 158,\n 'start': 1,\n 'display': 10,\n 'items': [{'title': '배워서 바로 쓰는 <b>스프링 프레임워크</b> (AOP, 보안, 메시징부터 <b>스프링</b> 웹 MVC까지 실용적인)',\n   'link': 'http://book.naver.com/bookdb/book_detail.php?bid=16339880',\n   'image': 'https://bookthumb-phinf.pstatic.net/cover/163/398/16339880.jpg?type=m1&udate=20211208',\n   'author': '애시시 사린|제이 샤르마',\n   'price': '50000',\n   'discount': '45000',\n   'publisher': '한빛미디어',\n   'pubdate': '20200501',\n   'isbn': '116224304X 9791162243046',\n   'description': '88가지 단계별 프로젝트로 익히는 <b>스프링 프레임워크</b>\\n\\n이 책은 스프링 5 기본과 개념, 최신 업데이트된 프레임워크 전반을 단계별로 접근합니다. IoC 컨테이너 같은 스프링 기초부터 스프링 데이터, 스프링 AOP, 스프링 메시징, 스프링 웹 MVC, 스트림 API, 스프링 시큐리티, RESTful 웹 서비스, 반응형... '},\n  {'title': 'JSP 웹 프로그래밍과 <b>스프링 프레임워크</b> (짧고 굵게 배우는)',\n   'link': 'http://book.naver.com/bookdb/book_detail.php?bid=20853713',\n   'image': 'https://bookthumb-phinf.pstatic.net/cover/208/537/20853713.jpg?type=m1&udate=20211208',\n   'author': '황희정',\n   'price': '27000',\n   'discount': '27000',\n   'publisher': '한빛아카데미',\n   'pubdate': '20210809',\n   'isbn': '1156645573 9791156645573',\n   'description': 'JSP부터 <b>스프링 프레임워크</b>까지 짧고 굵게 배운다!\\n\\n컴퓨터 관련학과 학생과 IT 전문학원에서 자바 웹 프로그래밍을 배우려는 학생을 대상으로 합니다. 이 책에서는 시대적 흐름을 반영하면서도 핵심 개념에 충실하도록 구성하였으며, 프런트엔드의 기초 내용(HTML, CSS, 자바스크립트, 부트스트랩)도... '},\n  {'title': '처음 시작하는 <b>스프링 프레임워크</b> (원리부터 실전까지)',\n   'link': 'http://book.naver.com/bookdb/book_detail.php?bid=21193746',\n   'image': 'https://bookthumb-phinf.pstatic.net/cover/211/937/21193746.jpg?type=m1&udate=20211029',\n   'author': '허진경',\n   'price': '39000',\n   'discount': '39000',\n   'publisher': 'BOOKK(부크크)',\n   'pubdate': '20211013',\n   'isbn': '1137259175 9791137259171',\n   'description': '이 책은 자바 개발자가 <b>스프링 프레임워크</b>를 이용해서 시스템을 구축하기 위한 <b>스프링 프레임워크</b>의 필수 내용을 원리와 함께 실전코드까지 설명하고 있다. 이 책의 주요 내용은 다음과 같다. 1장은 스프링의 개념 및 스프링에서 가장 중요한 빈(Bean) 생성 및 관리와 의존성 주입에 대한 내용이다. 반드시... '},\n  {'title': '<b>스프링 프레임워크</b> 원리부터 실전까지',\n   'link': 'http://book.naver.com/bookdb/book_detail.php?bid=12327686',\n   'image': 'https://bookthumb-phinf.pstatic.net/cover/123/276/12327686.jpg?type=m1&udate=20171117',\n   'author': '허진경',\n   'price': '19300',\n   'discount': '',\n   'publisher': '퍼플',\n   'pubdate': '20170731',\n   'isbn': '0000287458 1400000287453',\n   'description': '이 책은 <b>스프링 프레임워크</b>의 모든 내용을 담지 않았습니다. 지면상의 이유도 그렇지만 일주일 35시간~40시간 강의 분량으로 제작했기 때문입니다. 이 책에 언급되고 있는 내용들은 9장을 제외하고 스프링을 이용한 개발 시 반드시 필요한 내용들입니다. 꼭 숙지하여 개발에 활용하시기 바랍니다.1장은... '},\n  {'title': '<b>스프링 프레임워크</b>의 실제',\n   'link': 'http://book.naver.com/bookdb/book_detail.php?bid=9071728',\n   'image': 'https://bookthumb-phinf.pstatic.net/cover/090/717/09071728.jpg?type=m1&udate=20150715',\n   'author': 'Willie Wheeler|Joshua White',\n   'price': '33000',\n   'discount': '29700',\n   'publisher': 'ITC',\n   'pubdate': '20150518',\n   'isbn': '8963510522 9788963510521',\n   'description': '『<b>스프링 프레임워크</b>의 실제(SPRING IN PRACTICE)』는 자바 기반의 프로그래밍 기술을 어느 정도 이해하고 있으면서 최신 트렌드에 맞는 기법을 터득하고자 하는 독자들에게 유익한 실전 레시피 모음집 형태로 구성되어 있다. 각 레시피는 일종의 과제로서, 과제의 목표와 상세한 과정, 얻을 수 있는 결론과... '},\n  {'title': '개발자를 위한 <b>스프링 프레임워크</b> 원리부터 실전까지 2018 개정판',\n   'link': 'http://book.naver.com/bookdb/book_detail.php?bid=13329428',\n   'image': 'https://bookthumb-phinf.pstatic.net/cover/133/294/13329428.jpg?type=m1&udate=20180215',\n   'author': '허진경',\n   'price': '23200',\n   'discount': '',\n   'publisher': '퍼플',\n   'pubdate': '20180113',\n   'isbn': '0000298581 1400000298589',\n   'description': '이 책은 자바 개발자가 <b>스프링 프레임워크</b>를 이용해서 시스템을 구축하기 위한 <b>스프링 프레임워크</b>의 필수 내용을 원리와 함께 실전코드까지 설명하고 있습니다. 이 책의 9장은 빅데이터 분석 개발자를 위한 스프링과 R을 연동하는 내용을 포함하고 있습니다.이 책의 주요 내용은 다음과 같습니다.1장은... '},\n  {'title': '예제로 쉽게 배우는 <b>스프링 프레임워크</b> 3.0 (<b>스프링</b> 3.1 완벽 호환)',\n   'link': 'http://book.naver.com/bookdb/book_detail.php?bid=6810563',\n   'image': 'https://bookthumb-phinf.pstatic.net/cover/068/105/06810563.jpg?type=m1&udate=20170103',\n   'author': '사카타 코이치',\n   'price': '28000',\n   'discount': '25200',\n   'publisher': '한빛미디어',\n   'pubdate': '20120201',\n   'isbn': '8979148879 9788979148879',\n   'description': '예제로 쉽게 배우는『<b>스프링 프레임워크</b> 3.0』. 이 책은 스프링의 개념에 대해 간단하고 쉽게 설명한다. 스프링 프로덕트 중 몇 개를 골라 샘플 애플리케이션을 만드는 것을 보여준다. 편리한 기능의 사용 방법만 주목하지 않고 기본 기능을 하나씩 다뤄보면서 해당 프로덕트에 대한 개념을 천천히 설명하고 있다.... '},\n  {'title': '처음 시작하는 <b>스프링 프레임워크</b> (원리부터 실전까지)',\n   'link': 'http://book.naver.com/bookdb/book_detail.php?bid=13762357',\n   'image': 'https://bookthumb-phinf.pstatic.net/cover/137/623/13762357.jpg?type=m1&udate=20190703',\n   'author': '허진경',\n   'price': '39000',\n   'discount': '',\n   'publisher': 'BOOKK(부크크)',\n   'pubdate': '20180625',\n   'isbn': '1127242164 9791127242169',\n   'description': '이 책은 자바 개발자가 <b>스프링 프레임워크</b>를 이용해서 시스템을 구축하기 위한 <b>스프링 프레임워크</b>의 필수 내용을 원리와 함께 실전코드까지 설명하고 있습니다. <b>스프링 프레임워크</b>를 처음 시작하는 사람이 <b>스프링 프레임워크</b>를 이용해 웹애플리케이션을 개발하기 위한 기본 개념부터 실전 내용까지... '},\n  {'title': '개발자를 위한 <b>스프링 프레임워크</b> 원리부터 실전까지 2018 개정판',\n   'link': 'http://book.naver.com/bookdb/book_detail.php?bid=13396432',\n   'image': 'https://bookthumb-phinf.pstatic.net/cover/133/964/13396432.jpg?type=m1&udate=20180302',\n   'author': '허진경',\n   'price': '23200',\n   'discount': '',\n   'publisher': '퍼플',\n   'pubdate': '20180113',\n   'isbn': '8924051881 9788924051889',\n   'description': '이 책은 자바 개발자가 <b>스프링 프레임워크</b>를 이용해서 시스템을 구축하기 위한 <b>스프링 프레임워크</b>의 필수 내용을 원리와 함께 실전코드까지 설명하고 있습니다. 이 책의 9장은 빅데이터 분석 개발자를 위한 스프링과 R을 연동하는 내용을 포함하고 있습니다.이 책의 주요 내용은 다음과 같습니다.1장은... '},\n  {'title': '<b>스프링 프레임워크</b> 원리부터 실전까지',\n   'link': 'http://book.naver.com/bookdb/book_detail.php?bid=13545244',\n   'image': 'https://bookthumb-phinf.pstatic.net/cover/135/452/13545244.jpg?type=m1&udate=20180418',\n   'author': '허진경',\n   'price': '18600',\n   'discount': '',\n   'publisher': '퍼플',\n   'pubdate': '20170731',\n   'isbn': '8924049356 9788924049350',\n   'description': '이 책은 <b>스프링 프레임워크</b>의 모든 내용을 담지 않았습니다. 지면상의 이유도 그렇지만 일주일 35시간~40시간 강의 분량으로 제작했기 때문입니다. 이 책에 언급되고 있는 내용들은 9장을 제외하고 스프링을 이용한 개발 시 반드시 필요한 내용들입니다. 꼭 숙지하여 개발에 활용하시기 바랍니다.1장은... '}]}"
     },
     "execution_count": 5,
     "metadata": {},
     "output_type": "execute_result"
    }
   ],
   "source": [
    "final = json.loads(result)\n",
    "final"
   ],
   "metadata": {
    "collapsed": false,
    "pycharm": {
     "name": "#%%\n"
    }
   }
  },
  {
   "cell_type": "markdown",
   "source": [
    "**1) 사용자 정의 함수 : create_url()**\n",
    "1.   parameter 값 정의: search_type, search_text, start_num, display_num\n",
    "2.   return 값 정의 : \"https://openapi.naver.com/v1/search/\" + \"book\"+\".json?query=\" + \"encText\" + \"&start=\"+\"1\"+\"&display=\"+\"3\"\n",
    "3.   함수명 정의: def create_url(search_type, search_text, start_num, display_num)"
   ],
   "metadata": {
    "collapsed": false
   }
  },
  {
   "cell_type": "code",
   "execution_count": 6,
   "outputs": [],
   "source": [
    "def create_url (search_type, search_text, start_num, display_num):\n",
    "  base_url = \"https://openapi.naver.com/v1/search/\"\n",
    "  node = search_type + \".json\"\n",
    "  param_query = \"?query=\" + urllib.parse.quote(search_text)\n",
    "  param_start = \"&start=\" + str(start_num)\n",
    "  param_disp = \"&display=\" + str(display_num)\n",
    "\n",
    "  return base_url + node + param_query + param_start + param_disp"
   ],
   "metadata": {
    "collapsed": false,
    "pycharm": {
     "name": "#%%\n"
    }
   }
  },
  {
   "cell_type": "markdown",
   "source": [
    "[질문] **Columns이 책제목,\t작가,\t출판일로 구성된 테이블을 어떻게 만들것인가?**"
   ],
   "metadata": {
    "collapsed": false
   }
  },
  {
   "cell_type": "code",
   "execution_count": 9,
   "outputs": [
    {
     "data": {
      "text/plain": "{'lastBuildDate': 'Sun, 24 Apr 2022 15:33:26 +0900',\n 'total': 150,\n 'start': 1,\n 'display': 100,\n 'items': [{'title': '자바 ORM 표준 <b>JPA</b> 프로그래밍 (에이콘 오픈 소스 프로그래밍 시리즈,스프링 데이터 예제 프로젝트로 배우는 전자정부 표준 데이터베이스 프레임워크)',\n   'link': 'http://book.naver.com/bookdb/book_detail.php?bid=9252528',\n   'image': 'https://bookthumb-phinf.pstatic.net/cover/092/525/09252528.jpg?type=m1&udate=20200721',\n   'author': '김영한',\n   'price': '43000',\n   'discount': '38700',\n   'publisher': '에이콘출판',\n   'pubdate': '20150728',\n   'isbn': '8960777331 9788960777330',\n   'description': '자바 ORM 표준 <b>JPA</b>는 SQL 작성 없이 객체를 데이터베이스에 직접 저장할 수 있게 도와주고, 객체와 관계형 데이터베이스의 차이도 중간에서 해결해준다. 이 책은 <b>JPA</b> 기초 이론과 핵심 원리, 그리고 실무에 필요한 성능 최적화 방법까지 <b>JPA</b>에 대한 모든 것을 다룬다. 또한... '},\n  {'title': '백견불여일타 스프링 부트 쇼핑몰 프로젝트 with <b>JPA</b> (이젠 프로젝트다!)',\n   'link': 'http://book.naver.com/bookdb/book_detail.php?bid=20883049',\n   'image': 'https://bookthumb-phinf.pstatic.net/cover/208/830/20883049.jpg?type=m1&udate=20210902',\n   'author': '변구훈',\n   'price': '30000',\n   'discount': '27000',\n   'publisher': '로드북',\n   'pubdate': '20210907',\n   'isbn': '8997924893 9788997924899',\n   'description': '스프링 부트와 <b>JPA</b>를 활용하여 실제 이커머스 업계에서 활용되는 쇼핑몰 기술들을 직접 구현해볼 수 있게 구성하였다. <b>JPA</b>와 THYMELEAF에 대한 간단한 예제로 기본 개념과 사용법을 익히고 그 후 쇼핑몰의 기본적인 기능들을 구현해 가며 <b>JPA</b>와 스프링 부트를 자연스레 익힐 수 있다. &quot;JUST DO IT... '},\n  {'title': \"Mastering Java Persistence API (<b>JPA</b>) (Realize Java's Capabilities Spanning RDBMS, ORM, JDBC, Caching, Locking, Transaction Management, and JPQL)\",\n   'link': 'http://book.naver.com/bookdb/book_detail.php?bid=22316281',\n   'image': 'https://bookthumb-phinf.pstatic.net/cover/223/162/22316281.jpg?type=m1&udate=20220403',\n   'author': 'Nisha Parameswaran Kurur',\n   'price': '50660',\n   'discount': '45960',\n   'publisher': 'BPBPublications',\n   'pubdate': '20220312',\n   'isbn': '9355511264 9789355511263',\n   'description': \"of <b>JPA</b> and the extent of its use in Java SE and Java EE applications. While the book's primary objective is to develop competence in <b>JPA</b>, it also takes a simpler approach to refresh readers on basic database management system concepts and how to design simple <b>JPA</b>... \"},\n  {'title': '<b>JPA</b> 퀵스타트',\n   'link': 'http://book.naver.com/bookdb/book_detail.php?bid=16655323',\n   'image': 'https://bookthumb-phinf.pstatic.net/cover/166/553/16655323.jpg?type=m1&udate=20200903',\n   'author': '채규태',\n   'price': '30000',\n   'discount': '27000',\n   'publisher': '루비페이퍼',\n   'pubdate': '20200901',\n   'isbn': '1186710586 9791186710586',\n   'description': '데이터베이스 관점에서 바라보면 난해하게 느껴지는 <b>JPA</b>를 객체지향 관점으로 이해할 수 있도록 <b>JPA</b>의 개념과 클래스와 테이블 매핑 예제를 단계별로... 이러한 이해를 바탕으로 JPQL, 네이티브 쿼리, 크라이테리어 등을 학습하며, 스프링과 <b>JPA</b> 연동하는 방법을 알아보며 끝으로 스프링 MVC 모듈과 <b>JPA</b>를... '},\n  {'title': '스프링과 <b>JPA</b>를 활용한 자바 엔터프라이즈 애플리케이션 개발 세트 (전3권,자바 ORM 표준 <b>JPA</b> 프로그래밍 + 토비의 스프링 3.1 Vol. 1~2)',\n   'link': 'http://book.naver.com/bookdb/book_detail.php?bid=9331619',\n   'image': 'https://bookthumb-phinf.pstatic.net/cover/093/316/09331619.jpg?type=m1&udate=20170218',\n   'author': '김영한|이일민',\n   'price': '108000',\n   'discount': '97200',\n   'publisher': '에이콘출판',\n   'pubdate': '20150731',\n   'isbn': '8960777447 9788960777446',\n   'description': '<b>JPA</b> 기초 이론과 핵심 원리, 그리고 실무에 필요한 성능 최적화 방법까지 <b>JPA</b>에 대한 것을 다루는 『자바 ORM 표준 <b>JPA</b> 프로그래밍』과 대한민국 전자정부 표준 프레임워크 스프링을 설명하는 『토비의 스프링 3.1』 제1권, 제2권을 엮은 세트상품이다. <b>JPA</b>를 사용해서 엔터프라이즈 애플리케이션을... '},\n  {'title': '실전 스프링 부트 웹 개발 Thymeleaf + <b>JPA</b> + MySQL 개정판',\n   'link': 'http://book.naver.com/bookdb/book_detail.php?bid=18215237',\n   'image': 'https://bookthumb-phinf.pstatic.net/cover/182/152/18215237.jpg?type=m1&udate=20210317',\n   'author': '향단코드',\n   'price': '10000',\n   'discount': '',\n   'publisher': '온노트',\n   'pubdate': '20210316',\n   'isbn': '1190230178 9791190230179',\n   'description': '실전 프로젝트 개발에 필요한 스프링 부트의 기본 개념과 타임리프, <b>JPA</b>, 스프링 시큐리티, 롬복 등을 함께 설명합니다.\\n프로그램 코드 위주로 책이 구성이 되어 있어서 스프링 부트를 처음 접하시거나 자세한 개념적 내용을 원하시는 분은 맞지 않을 수 있습니다.\\n이 책은 소스코드를 다운로드 받은 다음에 직접... '},\n  {'title': '실전 스프링 부트 웹 개발 Thymeleaf + <b>JPA</b> + MySQL',\n   'link': 'http://book.naver.com/bookdb/book_detail.php?bid=16328481',\n   'image': 'https://bookthumb-phinf.pstatic.net/cover/163/284/16328481.jpg?type=m1&udate=20200413',\n   'author': '향단코드',\n   'price': '10000',\n   'discount': '',\n   'publisher': '온노트',\n   'pubdate': '20200413',\n   'isbn': '1190230070 9791190230070',\n   'description': '이 책은 스프링 부트를 이용하여 웹 시스템을 개발하고자 하는 사람을 위한 것이다.\\n이미지를 판매하는 간단한 디지털 컨텐츠 샵을 구축해 봄으로써 스프링 부트의 실제 사용법을 배울 수 있다.\\n실전 프로젝트 개발에 필요한 스프링 부트의 기본 개념과 타임리프, <b>JPA</b>, 스프링 시큐리티, 롬복 등을 함께 설명한다.'},\n  {'title': '실전 스프링 부트 REST API 개발 <b>JPA</b> + MySQL 개정판',\n   'link': 'http://book.naver.com/bookdb/book_detail.php?bid=18868763',\n   'image': 'https://bookthumb-phinf.pstatic.net/cover/188/687/18868763.jpg?type=m1&udate=20210331',\n   'author': '향단코드',\n   'price': '10000',\n   'discount': '',\n   'publisher': '온노트',\n   'pubdate': '20210331',\n   'isbn': '1190230186 9791190230186',\n   'description': '실전 프로젝트 개발에 필요한 Restful 서비스와 스프링 부트의 기본 개념, <b>JPA</b>, 스프링 시큐리티,  JWT, 토큰 인증, 롬복 등을 함께 설명합니다.\\n18장에는 실제로 REST API 서버를 사용하는 SPA 클라이언트를 리액트로 구현하여 보여주지만 리액트에 대해서는 자세하게 다루지 않습니다.\\n프로그램 코드 위주로... '},\n  {'title': '<b>JPA</b> 프로그래밍 입문',\n   'link': 'http://book.naver.com/bookdb/book_detail.php?bid=12108204',\n   'image': 'https://bookthumb-phinf.pstatic.net/cover/121/082/12108204.jpg?type=m1&udate=20170601',\n   'author': '최범균',\n   'price': '25000',\n   'discount': '22500',\n   'publisher': '가메',\n   'pubdate': '20170531',\n   'isbn': '898078290X 9788980782901',\n   'description': '<b>JPA</b>(JAVA PERSISTENCE API)를 시작하려는 개발자를 위한 입문서 『<b>JPA</b> 프로그래밍 입문』. 엔티티, 밸류에 대한 기본 매핑부터 콜렉션 매핑까지 핵심... 쿼리 방식 조회(JPQL), 코드 방식 쿼리(크리테리아), 네이티브 쿼리를 이용한 데이터 조회 방법, 스프링과 스프링 DATA <b>JPA</b> 연동 소개를 담고 있다.'},\n  {'title': '실전 스프링 부트 REST API 개발 <b>JPA</b> + MySQL',\n   'link': 'http://book.naver.com/bookdb/book_detail.php?bid=16344921',\n   'image': 'https://bookthumb-phinf.pstatic.net/cover/163/449/16344921.jpg?type=m1&udate=20200428',\n   'author': '향단코드',\n   'price': '10000',\n   'discount': '',\n   'publisher': '온노트',\n   'pubdate': '20200427',\n   'isbn': '1190230089 9791190230087',\n   'description': '이미지를 판매하는 간단한 디지털 컨텐츠 샵의  REST API를 구축해 봄으로써 Restful 서비스를 위한 스프링 부트의 실제 사용법을 배울 수 있다.\\n실전 프로젝트 개발에 필요한 Restful 서비스와 스프링 부트의 기본 개념, <b>JPA</b>, 스프링 시큐리티,  JWT, 토큰 인증, 롬복 등을 함께 설명한다.'},\n  {'title': 'Pro <b>Jpa</b> 2: Mastering the Java(tm) Persistence API (Mastering the Java Persistence Api)',\n   'link': 'http://book.naver.com/bookdb/book_detail.php?bid=5950909',\n   'image': 'https://bookthumb-phinf.pstatic.net/cover/059/509/05950909.jpg?type=m1&udate=20210421',\n   'author': 'Merrick Schincariol|Mike Keith',\n   'price': '104150',\n   'discount': '83320',\n   'publisher': 'APRESS',\n   'pubdate': '20090601',\n   'isbn': '1430219564 9781430219569',\n   'description': 'Sun is releasing its new Java Persistence API (<b>JPA</b>) 2.x as part of its new Java EE 6 Platform release in Summer of 2009. This book is a detailed learning and use reference, written by EJB co-spec lead and <b>JPA</b> contributor Mike Keith and his colleague.'},\n  {'title': 'Just Spring Data Access: Covers Jdbc, Hibernate, <b>Jpa</b> and Jdo',\n   'link': 'http://book.naver.com/bookdb/book_detail.php?bid=19723212',\n   'image': 'https://bookthumb-phinf.pstatic.net/cover/197/232/19723212.jpg?type=m1&udate=20210426',\n   'author': 'Konda|Madhusudhan',\n   'price': '28230',\n   'discount': '25400',\n   'publisher': \"O'ReillyMedia\",\n   'pubdate': '20120616',\n   'isbn': '1449328385 9781449328382',\n   'description': 'Persistence of data is a challenging task for Java developers as there are many things that could go wrong.  Spring has simplified data access by providing a simple and straight forward framework.  In &quot;Just Spring Data&quot; Madhusudhan Konda covers both the basics and advanced... '},\n  {'title': 'Rapid Java Persistence and Microservices: Persistence Made Easy Using Java Ee8, <b>Jpa</b> and Spring (Persistence Made Easy Using Java, <b>Jpa</b> and Spring)',\n   'link': 'http://book.naver.com/bookdb/book_detail.php?bid=20732629',\n   'image': 'https://bookthumb-phinf.pstatic.net/cover/207/326/20732629.jpg?type=m1&udate=20210708',\n   'author': 'Malhotra|Raj',\n   'price': '54610',\n   'discount': '52990',\n   'publisher': 'Apress',\n   'pubdate': '20191007',\n   'isbn': '1484244753 9781484244753',\n   'description': ''},\n  {'title': '<b>JPA</b> Jam Packed Action (Megas XLR, Kids Next Door, Samuri Jack and more)',\n   'link': 'http://book.naver.com/bookdb/book_detail.php?bid=1757208',\n   'image': 'https://bookthumb-phinf.pstatic.net/cover/017/572/01757208.jpg?type=m1&udate=20091215',\n   'author': 'Not Available (NA)',\n   'price': '12370',\n   'discount': '10150',\n   'publisher': 'DcComics',\n   'pubdate': '20040930',\n   'isbn': '1401203779 9781401203771',\n   'description': 'Presents a collection of four episodes of animated series from Cartoon Network.'},\n  {'title': 'Pro <b>Jpa</b> 2 in Java Ee 8: An In-Depth Guide to Java Persistence APIs (An In-depth Guide to Java Persistence Apis)',\n   'link': 'http://book.naver.com/bookdb/book_detail.php?bid=13585800',\n   'image': 'https://bookthumb-phinf.pstatic.net/cover/135/858/13585800.jpg?type=m1&udate=20210623',\n   'author': 'Keith, Mike|Schincariol, Merrick|Nardone, Massimo',\n   'price': '85220',\n   'discount': '76700',\n   'publisher': 'Apress',\n   'pubdate': '20180614',\n   'isbn': '1484234197 9781484234198',\n   'description': ''},\n  {'title': 'Pro <b>JPA</b> 2',\n   'link': 'http://book.naver.com/bookdb/book_detail.php?bid=7617472',\n   'image': 'https://bookthumb-phinf.pstatic.net/cover/076/174/07617472.jpg?type=m1&udate=20140514',\n   'author': 'Springer Verlag',\n   'price': '85220',\n   'discount': '76700',\n   'publisher': 'SpringerVerlag',\n   'pubdate': '20140513',\n   'isbn': '1430249269 9781430249269',\n   'description': ''},\n  {'title': 'Java Persistence with <b>Jpa</b> 2.1',\n   'link': 'http://book.naver.com/bookdb/book_detail.php?bid=10018453',\n   'image': 'https://bookthumb-phinf.pstatic.net/cover/100/184/10018453.jpg?type=m1&udate=20210514',\n   'author': 'Yang|Daoqi',\n   'price': '58820',\n   'discount': '58820',\n   'publisher': 'OutskirtsPress',\n   'pubdate': '20130927',\n   'isbn': '147870019X 9781478700197',\n   'description': ''},\n  {'title': 'UNDERSTANDING <b>JPA</b> 2.2: JAVA PERSISTENCE (Java Persistence API)',\n   'link': 'http://book.naver.com/bookdb/book_detail.php?bid=20509371',\n   'image': 'https://bookthumb-phinf.pstatic.net/cover/205/093/20509371.jpg?type=m1&udate=20210702',\n   'author': 'GONCALVES|Antonio',\n   'price': '35500',\n   'discount': '',\n   'publisher': 'LIGHTNINGSOURCEUKLTD',\n   'pubdate': '19000101',\n   'isbn': '1093918977 9781093918977',\n   'description': ''},\n  {'title': '<b>Jpa</b> a Clear and Concise Reference',\n   'link': 'http://book.naver.com/bookdb/book_detail.php?bid=14348179',\n   'image': '',\n   'author': 'Blokdyk|Gerardus',\n   'price': '137940',\n   'discount': '124150',\n   'publisher': '5starcooks',\n   'pubdate': '20181115',\n   'isbn': '0655500367 9780655500360',\n   'description': ''},\n  {'title': 'Spring Data <b>JPA</b>プログラミング入門',\n   'link': 'http://book.naver.com/bookdb/book_detail.php?bid=12342550',\n   'image': '',\n   'author': '溝口賢司',\n   'price': '53040',\n   'discount': '',\n   'publisher': '秀和システム',\n   'pubdate': '20170803',\n   'isbn': '4798051950 9784798051956',\n   'description': ''},\n  {'title': 'Index Testaceorum Viventium Quoe in Collectione J.P.A. Grasset Extant',\n   'link': 'http://book.naver.com/bookdb/book_detail.php?bid=11152663',\n   'image': '',\n   'author': 'Grasset|J. P. A.',\n   'price': '22780',\n   'discount': '21540',\n   'publisher': 'WentworthPress',\n   'pubdate': '20160827',\n   'isbn': '1363674811 9781363674817',\n   'description': ''},\n  {'title': '스프링 부트와 AWS로 혼자 구현하는 웹 서비스 (인텔리제이, <b>JPA</b>, JUnit 테스트, 그레이들, 소셜 로그인, AWS 인프라로 무중단 배포까지)',\n   'link': 'http://book.naver.com/bookdb/book_detail.php?bid=15871738',\n   'image': 'https://bookthumb-phinf.pstatic.net/cover/158/717/15871738.jpg?type=m1&udate=20211019',\n   'author': '이동욱',\n   'price': '22000',\n   'discount': '19800',\n   'publisher': '프리렉',\n   'pubdate': '20191129',\n   'isbn': '8965402603 9788965402602',\n   'description': '<b>JPA</b>와 JUNIT 테스트, 그레이들, 머스테치, 스프링 시큐리티를 활용한 소셜 로그인 등으로 애플리케이션을 개발하고, 뒤이어 AWS 인프라의 기본 사용법과 AWS EC2와 RDS를 사용해 서비스가 가능하도록 합니다. 이렇게 점진적으로 스프링 부트 프로젝트를 개선해서 배포 자동화하고 무중단 배포까지 경험합니다. 실무... '},\n  {'title': '스프링 퀵 스타트 (IoC, AOP, DI 핵심 개념과 MVC+MyBatis+<b>JPA</b>를 활용한 스프링 프로젝트)',\n   'link': 'http://book.naver.com/bookdb/book_detail.php?bid=10768455',\n   'image': 'https://bookthumb-phinf.pstatic.net/cover/107/684/10768455.jpg?type=m1&udate=20161223',\n   'author': '채규태',\n   'price': '30000',\n   'discount': '27000',\n   'publisher': '루비페이퍼',\n   'pubdate': '20160630',\n   'isbn': '1186710071 9791186710074',\n   'description': '스프링을 처음 배울 때는 API를 이해하고 학습하는 것이 오히려 학습자를 지치게 하는 경우가 더 많기 때문이다. 대신 IoC, AOP, DI 등 스프링의 핵심 개념을 친절하게 설명하였다. 이를 바탕으로 MVC 아키텍처와 MyBatis+<b>JPA</b>를 활용한 게시판을 만들어봄으로써 이론과 실습을 병행한다.'},\n  {'title': '스프링 부트로 배우는 자바 웹 개발 (서블릿부터 Spring Data <b>JPA</b>, Rest API, 액추에이터를 활용한 모니터링, 클라우드 서비스를 이용한 배포까지)',\n   'link': 'http://book.naver.com/bookdb/book_detail.php?bid=13735227',\n   'image': 'https://bookthumb-phinf.pstatic.net/cover/137/352/13735227.jpg?type=m1&udate=20210929',\n   'author': '윤석진',\n   'price': '27000',\n   'discount': '24300',\n   'publisher': '제이펍',\n   'pubdate': '20180629',\n   'isbn': '1188621270 9791188621279',\n   'description': '자바 기반의 웹 서비스를 가장 쉽고 빠르게 배운다!시중에는 자바 웹 개발자를 위한 스프링과 JSP 관련 서적이 많이 나와 있긴 하지만, 입문자가 끝까지 따라 할 만한 책은 많지 않습니다. 이 책은 독자들이 자바 기반의 웹 서비스를 만들거나 공부할 때 가장 쉽게 따라 할 수 있도록 집필되었습니다. 자바 웹 개발... '},\n  {'title': '자바 웹 개발 완벽 가이드 (JSP/서블릿부터 웹소켓, 스프링 MVC, <b>JPA</b>/하이버네이트, 스프링 시큐리티까지)',\n   'link': 'http://book.naver.com/bookdb/book_detail.php?bid=8769337',\n   'image': 'https://bookthumb-phinf.pstatic.net/cover/087/693/08769337.jpg?type=m1&udate=20150715',\n   'author': '니콜라스 S. 윌리엄스',\n   'price': '48000',\n   'discount': '',\n   'publisher': '위키북스',\n   'pubdate': '20150216',\n   'isbn': '8998139774 9788998139773',\n   'description': '자바 플랫폼 엔터프라이즈 에디션(자바 EE)에 대한 경험이 있는 개발자가 기억을 되살리거나 최신 자바 EE 버전의 새로운 기능을 배우는 데 유용한 『자바 웹 개발 완벽 가이드』. 자바 SE와 SQL에 대해 잘 알고 기본적인 HTML을 이해할 수 있는 능력을 갖춘 프로그래머가 기존의 자바 웹 개발 기술을 한 단계... '},\n  {'title': 'Hibernate Made Easy (Paperback) (Simplified Data Persistence With Hibernate and <b>Jpa</b> Annotations)',\n   'link': 'http://book.naver.com/bookdb/book_detail.php?bid=4634804',\n   'image': 'https://bookthumb-phinf.pstatic.net/cover/046/348/04634804.jpg?type=m1&udate=20100928',\n   'author': 'Mckenzie, Cameron Wallace|Sheehan, Kerri (EDT)',\n   'price': '85200',\n   'discount': '69870',\n   'publisher': 'LightningSourceInc',\n   'pubdate': '20080626',\n   'isbn': '0615201954 9780615201955',\n   'description': 'MCKENZIE BRINGS TO LIGHT THE IDEA THAT A TECHNOLOGY THAT IS FUN AND EASY TO USE SHOULD ALSO BE FUN AND EASY TO LEARN. BUILDING UPON SIMPLE, STRAIGHTFORWARD EXAMPLES, THIS BOOK EXPLORES THE KEY CONCEPTS NEEDED TO LEVERAGE THE HIBERNATE FRAMEWORK. (COMPUTER BOOKS)'},\n  {'title': 'まんだらけZENBU 57 (<b>JPA</b>コレクションの王道ウルトラマン)',\n   'link': 'http://book.naver.com/bookdb/book_detail.php?bid=7187478',\n   'image': 'https://bookthumb-phinf.pstatic.net/cover/071/874/07187478.jpg?type=m1&udate=20140116',\n   'author': 'まんだらけ出版部',\n   'price': '21600',\n   'discount': '18760',\n   'publisher': 'まんだらけ出版部',\n   'pubdate': '20121208',\n   'isbn': '4860720954 9784860720957',\n   'description': ''},\n  {'title': 'tokyo Interior Shop FILE 2005',\n   'link': 'http://book.naver.com/bookdb/book_detail.php?bid=1513100',\n   'image': 'https://bookthumb-phinf.pstatic.net/cover/015/131/01513100.jpg?type=m1',\n   'author': 'ギャップ.ジャパン',\n   'price': '29000',\n   'discount': '',\n   'publisher': '<b>JPA</b>',\n   'pubdate': '20040101',\n   'isbn': '4883572218 9784883572212',\n   'description': '2005년 일본 스타일의 다양한 인테리어 샵 수록!샵의 컬러풀한 사진과 위치 및 오픈 시간대, URL등 자세한 정보도 함께 수록되어 있어 인테리어 샵에 관한 정보를 유용하게 얻을 수 있다. 또한, 직접 찾아가 볼 수 있도록 Shop data도 독자에게 세심하게 배려를 해 놓았다.'},\n  {'title': 'The Market Yard',\n   'link': 'http://book.naver.com/bookdb/book_detail.php?bid=5917790',\n   'image': 'https://bookthumb-phinf.pstatic.net/cover/059/177/05917790.jpg?type=m1&udate=20210102',\n   'author': '<b>Jpa</b> McHugh',\n   'price': '40000',\n   'discount': '31380',\n   'publisher': 'Lulu.com',\n   'pubdate': '20090101',\n   'isbn': '1409231119 9781409231110',\n   'description': 'This is a heart-warming and inspiring tale of a boy growing up in a west of Ireland town as World War II raged in Europe. While his family falls on hard times, the little boy is swept up with more important events such as playing with the Temple Street Gang in the Pig Market... '},\n  {'title': '도메인 주도 개발 시작하기 (DDD 핵심 개념 정리부터 구현까지)',\n   'link': 'http://book.naver.com/bookdb/book_detail.php?bid=22291738',\n   'image': 'https://bookthumb-phinf.pstatic.net/cover/222/917/22291738.jpg?type=m1&udate=20220414',\n   'author': '최범균',\n   'price': '28000',\n   'discount': '25200',\n   'publisher': '한빛미디어',\n   'pubdate': '20220321',\n   'isbn': '1162245387 9791162245385',\n   'description': '가장 쉽게 배우는 도메인 주도 설계 입문서!\\n\\n이 책은 도메인 주도 설계(DDD)를 처음 배우는 개발자를 위한 책이다. 실제 업무에 DDD를 적용할 수 있도록 기본적인 DDD의 핵심 개념을 익히고 구현을 통해 학습할 수 있도록 구성했다. 이 책으로 도메인 모델을 이용하여 애플리케이션을 구현하면서 DDD에 대한... '},\n  {'title': '클린 아키텍처 (자바 코드로 구현하는 클린 웹 애플리케이션,만들면서 배우는)',\n   'link': 'http://book.naver.com/bookdb/book_detail.php?bid=21294056',\n   'image': 'https://bookthumb-phinf.pstatic.net/cover/212/940/21294056.jpg?type=m1&udate=20211118',\n   'author': '톰 홈버그',\n   'price': '18000',\n   'discount': '16200',\n   'publisher': '위키북스',\n   'pubdate': '20211126',\n   'isbn': '1158392753 9791158392758',\n   'description': '우리 모두는 낮은 개발 비용으로 유연하고 적응이 쉬운 소프트웨어 아키텍처를 구축하고자 한다. 그러나 불합리한 기한과 쉬워보이는 지름길은 이러한 아키텍처를 구축하는 것을 매우 어렵게 만든다.이 책에서는 전통적인 계층형 아키텍처(LAYERED ARCHITECTURE) 스타일과 이 스타일의 단점을 논하는... '},\n  {'title': 'React.js, 스프링 부트, AWS로 배우는 웹 개발 101 (SPA, REST API 기반 웹 애플리케이션 개발)',\n   'link': 'http://book.naver.com/bookdb/book_detail.php?bid=20941240',\n   'image': 'https://bookthumb-phinf.pstatic.net/cover/209/412/20941240.jpg?type=m1&udate=20211210',\n   'author': '김다정',\n   'price': '35000',\n   'discount': '31500',\n   'publisher': '에이콘출판',\n   'pubdate': '20210930',\n   'isbn': '1161755659 9791161755656',\n   'description': '다수의 사용자를 지원하는 Todo 웹 애플리케이션을 구현하고 배포한다. 또한 현장에서 많이 사용하는 프론트엔드와 백엔드 서버가 분리된 아키텍처(Decoupled Architecture)구현한다. 또한 배포 시 단순히 로컬환경이나 임시의 HTTP 서버로 배포하는 데 그치지 않고, HTTPS 인증서 설정, 로드발란서... '},\n  {'title': '스프링 배치 완벽 가이드 (클라우드 환경에서 활용하는 모던 배치 처리)',\n   'link': 'http://book.naver.com/bookdb/book_detail.php?bid=18990242',\n   'image': 'https://bookthumb-phinf.pstatic.net/cover/189/902/18990242.jpg?type=m1&udate=20210505',\n   'author': '마이클 미넬라',\n   'price': '40000',\n   'discount': '36000',\n   'publisher': '에이콘출판',\n   'pubdate': '20210430',\n   'isbn': '1161755160 9791161755168',\n   'description': '스프링 배치의 &quot;HELLO, WORLD!&quot;부터 최근 플랫폼의 발전에 따른 클라우드 네이티브 기술을 활용한 배치까지 폭넓은 스프링 배치 활용 방법과 이와 관련된 유용한 내용을 다룬다. 또한 스프링 프레임워크 5와 스프링 부트 2를 기반으로 제공되는 배치 예제는 책의 내용을 쉽게 이해할 수 있도록 돕고, 미션... '},\n  {'title': '코드로 배우는 스프링 부트 웹 프로젝트 (현업 개발을 위한 단계별 실습서)',\n   'link': 'http://book.naver.com/bookdb/book_detail.php?bid=17597624',\n   'image': 'https://bookthumb-phinf.pstatic.net/cover/175/976/17597624.jpg?type=m1&udate=20211211',\n   'author': '구멍가게 코딩단',\n   'price': '34000',\n   'discount': '30600',\n   'publisher': '남가람북스',\n   'pubdate': '20201225',\n   'isbn': '1189184079 9791189184070',\n   'description': '개발에서 가장 중요한 데이터베이스 처리는 과감하게 <b>JPA</b>를 도입해 봅니다. <b>JPA</b>를 이용해서 최소한의 개발을 추구하고 데이터베이스에 독립적으로... 인터넷의 예제들이 너무 단순한 구조의 예제들만을 다루고 있어서 실제 <b>JPA</b>를 도입하는데 부족하다는 생각에 조인 처리가 많이 필요한 예제들을... '},\n  {'title': '스프링 인 액션 (스프링 5의 강력한 기능과 생산성을 활용한 웹 애플리케이션 개발)',\n   'link': 'http://book.naver.com/bookdb/book_detail.php?bid=16348386',\n   'image': 'https://bookthumb-phinf.pstatic.net/cover/163/483/16348386.jpg?type=m1&udate=20201017',\n   'author': '크레이그 월즈',\n   'price': '35000',\n   'discount': '31500',\n   'publisher': '제이펍',\n   'pubdate': '20200514',\n   'isbn': '1190665182 9791190665186',\n   'description': '리액티브 프로그래밍 지원을 강화한 스프링 5의 모든 것을 탐구한다!이 책에서는 스프링 5와 스프링 부트 2를 사용해서 애플리케이션을 개발하는 데 필요한 여러  핵심 기능을 알려줍니다. 스프링 5에서는 특히 새로운 리액티브 웹 프레임워크인 WEBFLUX를 중점적으로 다룹니다. 개발자들은 더 쉽고 확장성이... '},\n  {'title': '배워서 바로 쓰는 스프링 프레임워크 (AOP, 보안, 메시징부터 스프링 웹 MVC까지 실용적인)',\n   'link': 'http://book.naver.com/bookdb/book_detail.php?bid=16339880',\n   'image': 'https://bookthumb-phinf.pstatic.net/cover/163/398/16339880.jpg?type=m1&udate=20211208',\n   'author': '애시시 사린|제이 샤르마',\n   'price': '50000',\n   'discount': '45000',\n   'publisher': '한빛미디어',\n   'pubdate': '20200501',\n   'isbn': '116224304X 9791162243046',\n   'description': '88가지 단계별 프로젝트로 익히는 스프링 프레임워크\\n\\n이 책은 스프링 5 기본과 개념, 최신 업데이트된 프레임워크 전반을 단계별로 접근합니다. IoC 컨테이너 같은 스프링 기초부터 스프링 데이터, 스프링 AOP, 스프링 메시징, 스프링 웹 MVC, 스트림 API, 스프링 시큐리티, RESTful 웹 서비스, 반응형... '},\n  {'title': '실전 SPA 개발 앵귤러 + 스프링 부트',\n   'link': 'http://book.naver.com/bookdb/book_detail.php?bid=22346583',\n   'image': 'https://bookthumb-phinf.pstatic.net/cover/223/465/22346583.jpg?type=m1&udate=20220414',\n   'author': '향단코드',\n   'price': '18000',\n   'discount': '',\n   'publisher': '온노트',\n   'pubdate': '20220413',\n   'isbn': '1190230348 9791190230346',\n   'description': '실전 프로젝트 개발에 필요한 Restful 서비스와 스프링 부트의 기본 개념, <b>JPA</b>, 스프링 시큐리티... 이 책은 온노트에서 출간된 &quot;실전 앵귤러&quot;와 &quot;실전 스프링 부트 REST API 개발 <b>JPA</b>... - [ 실전 스프링 부트 REST API 개발 MyBatis + MySQL ]\\n- [ 실전 스프링 부트 REST API 개발 <b>JPA</b> + MySQL ]... '},\n  {'title': '전문가를 위한 스프링 5 (스프링을 깊이 있게, 철저하게!)',\n   'link': 'http://book.naver.com/bookdb/book_detail.php?bid=15431217',\n   'image': 'https://bookthumb-phinf.pstatic.net/cover/154/312/15431217.jpg?type=m1&udate=20191031',\n   'author': '율리아나 코스미나|롭 해롭|크리스 샤이퍼|클라렌스 호',\n   'price': '60000',\n   'discount': '54000',\n   'publisher': '길벗',\n   'pubdate': '20190917',\n   'isbn': '1160508860 9791160508864',\n   'description': '스프링 개발자와 가장 오랜 시간을 함께한 스프링 중급서!\\n\\n1판이 출간된 이후 5판까지 꾸준히 개정되며 스프링 중급서의 위치를 지켜왔다. 스프링 입문자가 아니라 실제로 현업에서 스프링을 개발하면서 알아야 하는 깊이 있는 정보를 체계적으로 정리하고 전달해왔다. 스프링의 기초와 핵심 개념부터... '},\n  {'title': '실전! 스프링 5를 활용한 리액티브 프로그래밍 (리액티브 애플리케이션 개발부터 클라우드 배포와 모니터링까지)',\n   'link': 'http://book.naver.com/bookdb/book_detail.php?bid=15045543',\n   'image': 'https://bookthumb-phinf.pstatic.net/cover/150/455/15045543.jpg?type=m1&udate=20190613',\n   'author': '올레 도쿠카|이호르 로진스키',\n   'price': '32000',\n   'discount': '28800',\n   'publisher': '위키북스',\n   'pubdate': '20190621',\n   'isbn': '1158391595 9791158391591',\n   'description': '리액티브 시스템을 탐험하고 스프링 부트와 스프링 클라우드를 사용해 효율적인 마이크로 서비스를 만들어 보자!오늘날 기업은 어떤 상황에도 높은 응답성을 유지할 수 있는 새로운 유형의 시스템이 필요합니다. 리액티브 프로그래밍을 이용하면 이를 달성할 수 있습니다. 이러한 시스템 개발은 복잡하며... '},\n  {'title': '스프링 부트  퀵스타트 (누구나 끝까지 따라 할 수 있는)',\n   'link': 'http://book.naver.com/bookdb/book_detail.php?bid=15062997',\n   'image': 'https://bookthumb-phinf.pstatic.net/cover/150/629/15062997.jpg?type=m1&udate=20190621',\n   'author': '채규태',\n   'price': '28000',\n   'discount': '25200',\n   'publisher': '루비페이퍼',\n   'pubdate': '20190621',\n   'isbn': '1186710489 9791186710487',\n   'description': '누구나 끝까지 따라 할 수 있는 스프링 부트이 책은 스프링 부트의 자동설정을 시작으로, 스프링 데이터 <b>JPA</b>를 이용한 데이터베이스 처리, 타임리프를 이용한 템플릿 기반의 화면구성, 그리고 스프링 시큐리티를 이용한 인증과 인가 처리에 대해서 알아본다. 이에 더해 이 책은 하나의 게시판 프로그램을 완성하는... '},\n  {'title': '스프링 5 마스터 (스프링 부트, 스프링 클라우드, 마이크로서비스, 리액티브, 코틀린까지)',\n   'link': 'http://book.naver.com/bookdb/book_detail.php?bid=16658136',\n   'image': 'https://bookthumb-phinf.pstatic.net/cover/166/581/16658136.jpg?type=m1&udate=20200917',\n   'author': '랑가 라오 카라남',\n   'price': '40000',\n   'discount': '36000',\n   'publisher': '에이콘출판',\n   'pubdate': '20200916',\n   'isbn': '1161754407 9791161754406',\n   'description': '스프링은 자바 플랫폼을 위한 오픈 소스 애플리케이션 프레임워크로 가장 핵심적인 기술 중 하나다. 이 책에서는 스프링의 개념과 스프링 프로젝트의 가장 중요한 두 가지인 스프링 프레임워크, 스프링 부트를 살펴보고, 마이크로서비스, 리액티브, 코틀린까지 다룬다. 또한 스프링과 통합되는 다른 기술들과... '},\n  {'title': '스프링 부트 시작하기 (차근차근 따라 하는 단계별 실습)',\n   'link': 'http://book.naver.com/bookdb/book_detail.php?bid=14634432',\n   'image': 'https://bookthumb-phinf.pstatic.net/cover/146/344/14634432.jpg?type=m1&udate=20190321',\n   'author': '김인우',\n   'price': '22000',\n   'discount': '19800',\n   'publisher': '인사이트',\n   'pubdate': '20190325',\n   'isbn': '8966262309 9788966262304',\n   'description': \"동작 원리부터 학습 방법까지!무엇이든 처음 공부를 시작할 때는 자기가 무엇을 모르는지, 그래서 무엇을 공부해야 하는지 알기가 어렵다. 이 책에서는 초보자의 입장에서 새로운 지식을 공부할 때의 '과정'에 초점을 맞췄다. 간단한 기능이라도 '어떻게'보다는 '왜', '어떤 순서'로 진행해야 하는지 설명한다.... \"},\n  {'title': '스프링5 레시피 (스프링 애플리케이션 개발에 유용한 161가지 문제 해결 기법)',\n   'link': 'http://book.naver.com/bookdb/book_detail.php?bid=13911953',\n   'image': 'https://bookthumb-phinf.pstatic.net/cover/139/119/13911953.jpg?type=m1&udate=20190810',\n   'author': '마틴 데니엄|다니엘 루비오|조시 롱',\n   'price': '60000',\n   'discount': '54000',\n   'publisher': '한빛미디어',\n   'pubdate': '20180901',\n   'isbn': '1162241039 9791162241035',\n   'description': '스프링 현업 개발자를 위한 스프링 5 실무 바이블\\n\\n이 책은 스프링 5에 새로 탑재된 기능 및 다양한 구성 옵션 등 업데이트된 프레임워크 전반을 실무에 유용한 해법을 제시하는 형식으로 다룹니다. IoC 컨테이너 같은 스프링 기초부터 스프링 AOP/AspectJ, 자바 EE 연계 및 원격 기술, 스프링 인티그레이션... '},\n  {'title': '생계형 개발자, SI에서 살아남기 (개정판)',\n   'link': 'http://book.naver.com/bookdb/book_detail.php?bid=17664933',\n   'image': 'https://bookthumb-phinf.pstatic.net/cover/176/649/17664933.jpg?type=m1&udate=20210509',\n   'author': '연서은',\n   'price': '16000',\n   'discount': '16000',\n   'publisher': '부크크(bookk)',\n   'pubdate': '20201211',\n   'isbn': '1137227265 9791137227262',\n   'description': '처음 책이 출간되었을 때만 해도 개정판을 내리라고 생각하지는 못했는데, 의외로 많은 분들이 좋아해 주셔서 개정판을 내게 되었습니다. 정말 감사합니다.개정판은 크게 세가지의 변화가 있습니다.- 표지의 변화.- 오탈자 수정- 프리랜서 개발자 라이프 섹션 추가추가된 부분은 프리랜서 개발자 라이프... '},\n  {'title': '쿼커스 쿡북 (쿠버네티스를 위한 네이티브 자바 솔루션)',\n   'link': 'http://book.naver.com/bookdb/book_detail.php?bid=18985834',\n   'image': 'https://bookthumb-phinf.pstatic.net/cover/189/858/18985834.jpg?type=m1&udate=20210430',\n   'author': '알렉스 소토 부에노',\n   'price': '35000',\n   'discount': '31500',\n   'publisher': '한빛미디어',\n   'pubdate': '20210428',\n   'isbn': '1162244208 9791162244203',\n   'description': '쿼커스를 쉽고 빠르게 익히는 145가지 레시피\\n쿼커스는 쿠버네티스에 최적화된 클라우드 네이티브 프레임워크다. 스프링, 하이버네이트, 이클립스 마이크로프로파일, 쿠버네티스, 아파치 캐멜과 이클립스 Vert.x와 같이 익숙한 라이브러리와 기술을 기반으로 네이티브 응용프로그램을 만든다.\\n이 책에서... '},\n  {'title': '실전 SPA 개발 Vue.js 3 + 스프링 부트',\n   'link': 'http://book.naver.com/bookdb/book_detail.php?bid=22046740',\n   'image': 'https://bookthumb-phinf.pstatic.net/cover/220/467/22046740.jpg?type=m1&udate=20220223',\n   'author': '향단코드',\n   'price': '18000',\n   'discount': '',\n   'publisher': '온노트',\n   'pubdate': '20220223',\n   'isbn': '119023033X 9791190230339',\n   'description': '실전 프로젝트 개발에 필요한 Restful 서비스와 스프링 부트의 기본 개념, <b>JPA</b>, 스프링 시큐리티... 이 책은 온노트에서 출간된 &quot;실전 Vue.js 3&quot;와 &quot;실전 스프링 부트 REST API 개발 <b>JPA</b>... - [ 실전 스프링 부트 REST API 개발 MyBatis + MySQL ]\\n- [ 실전 스프링 부트 REST API 개발 <b>JPA</b> + MySQL ]... '},\n  {'title': '클라우드 네이티브 자바 (스프링 마이크로서비스 아키텍처와 데브옵스를 실천하는 클라우드 기반 서)',\n   'link': 'http://book.naver.com/bookdb/book_detail.php?bid=13735012',\n   'image': 'https://bookthumb-phinf.pstatic.net/cover/137/350/13735012.jpg?type=m1&udate=20220112',\n   'author': '조쉬 롱|케니 바스타니',\n   'price': '38000',\n   'discount': '34200',\n   'publisher': '책만',\n   'pubdate': '20180629',\n   'isbn': '1196203733 9791196203733',\n   'description': '풀 사이클 개발자로 진화하고 싶은 엔터프라이즈 자바 개발자가 꼭 읽어야 할 클라우드 시대의 생존 지침서!\\n스프링 부트, 스프링 클라우드, 클라우드 파운드리를 이용한 다양한 예제를 통해 확장성 높은 마이크로서비스 아키텍처 설계와 데브옵스(DEVOPS), 애자일 개발의 진정한 실천 방법을 알려준다.'},\n  {'title': '코틀린 리액티브 프로그래밍 (RxKotlin을 사용한 리액티브 프로그래밍)',\n   'link': 'http://book.naver.com/bookdb/book_detail.php?bid=14819660',\n   'image': 'https://bookthumb-phinf.pstatic.net/cover/148/196/14819660.jpg?type=m1&udate=20210216',\n   'author': '리부 차크라보티',\n   'price': '30000',\n   'discount': '27000',\n   'publisher': '에이콘출판',\n   'pubdate': '20190430',\n   'isbn': '1161752978 9791161752976',\n   'description': '리액티브 프로그래밍 패러다임에 대해 알아보고 RXEXTENSION, 그 중에서도 특히 RXKOTLIN을 사용해 기존 프로젝트를 개선하거나 손쉽게 새로운 기능을 개발할 수 있도록 도와주는 책이다. RXKOTLIN에서 자신만의 연산자를 만들거나 테스트 방법까지 다루며, 스프링과 안드로이드의 통합도 다룬다.'},\n  {'title': '실전 SPA 개발 리액트 with 타입스크립트 + 스프링 부트',\n   'link': 'http://book.naver.com/bookdb/book_detail.php?bid=21472903',\n   'image': 'https://bookthumb-phinf.pstatic.net/cover/214/729/21472903.jpg?type=m1&udate=20220126',\n   'author': '향단코드',\n   'price': '18000',\n   'discount': '',\n   'publisher': '온노트',\n   'pubdate': '20220126',\n   'isbn': '1190230313 9791190230315',\n   'description': '실전 프로젝트 개발에 필요한 Restful 서비스와 스프링 부트의 기본 개념, <b>JPA</b>, 스프링 시큐리티... 개발 <b>JPA</b> + MySQL 개정판&quot;의 내용을 합친 형태입니다.\\n프론트엔드와 백엔드 관련한 전자책을... - [ 실전 스프링 부트 REST API 개발 MyBatis + MySQL ]\\n- [ 실전 스프링 부트 REST API 개발 <b>JPA</b> + MySQL ]... '},\n  {'title': '실전 SPA 개발 Vue.js + 스프링 부트',\n   'link': 'http://book.naver.com/bookdb/book_detail.php?bid=21431082',\n   'image': 'https://bookthumb-phinf.pstatic.net/cover/214/310/21431082.jpg?type=m1&udate=20220118',\n   'author': '향단코드',\n   'price': '18000',\n   'discount': '',\n   'publisher': '온노트',\n   'pubdate': '20220118',\n   'isbn': '1190230305 9791190230308',\n   'description': '실전 프로젝트 개발에 필요한 Restful 서비스와 스프링 부트의 기본 개념, <b>JPA</b>, 스프링 시큐리티... 이 책은 온노트에서 출간된 &quot;실전 Vue.js&quot;와 &quot;실전 스프링 부트 REST API 개발 <b>JPA</b> + MySQL... - [ 실전 스프링 부트 REST API 개발 MyBatis + MySQL ]\\n- [ 실전 스프링 부트 REST API 개발 <b>JPA</b> + MySQL ]... '},\n  {'title': '웹 개발자를 위한 Spring 4.0 프로그래밍',\n   'link': 'http://book.naver.com/bookdb/book_detail.php?bid=7918153',\n   'image': 'https://bookthumb-phinf.pstatic.net/cover/079/181/07918153.jpg?type=m1&udate=20181006',\n   'author': '최범균',\n   'price': '32000',\n   'discount': '28800',\n   'publisher': '가메',\n   'pubdate': '20140805',\n   'isbn': '8980782713 9788980782710',\n   'description': '『웹 개발자를 위한 SPRING 4.0 프로그래밍』는 스프링 4의 새로운 특징 포함하고  스프링 DI, AOP, 스프링 MVC, 스프링 웹소켓, JDB, 하이버네이트, <b>JPA</b>, MYBATIS 연동과 스프링 데이터 <b>JPA</b>,  일반적인 웹 어플리케이션 구조 소개 등의 내용을 포함하고 있다.'},\n  {'title': '인텔리제이 IDEA (기본 사용법부터 고급 기능까지 마스터하기)',\n   'link': 'http://book.naver.com/bookdb/book_detail.php?bid=14342695',\n   'image': 'https://bookthumb-phinf.pstatic.net/cover/143/426/14342695.jpg?type=m1&udate=20210626',\n   'author': '야마모토 유스케|이마이 마사노부',\n   'price': '28000',\n   'discount': '25200',\n   'publisher': '에이콘출판',\n   'pubdate': '20181220',\n   'isbn': '1161752439 9791161752433',\n   'description': '체코의 젯브레인(JETBRAINS) 사가 개발한 인텔리제이(INTELLIJ) IDEA는 편리하고 쉽게 개발할 수 있도록 지원하는 기능과 다양한 언어 지원이 장점인 통합 개발환경(IDE)이다. 본래는 자바 개발자를 위해 개발된 IDE였지만, 최근에는 코틀린이나 스칼라뿐만 아니라 그 외의 언어 사용자 사이에서도... '},\n  {'title': 'Spring Security (스프링 시큐리티를 이용한 애플리케이션 보안)',\n   'link': 'http://book.naver.com/bookdb/book_detail.php?bid=14457188',\n   'image': 'https://bookthumb-phinf.pstatic.net/cover/144/571/14457188.jpg?type=m1&udate=20210509',\n   'author': '믹 넛슨|로버트 윈치|피터 뮬라리엔',\n   'price': '40000',\n   'discount': '36000',\n   'publisher': '에이콘출판',\n   'pubdate': '20190129',\n   'isbn': '116175248X 9791161752488',\n   'description': '보안의 기본 개념 설명과 함께 보안에 취약한 애플리케이션을 스프링 시큐리티 프레임워크를 이용해 견고하고 안전하게 구현하는 과정을 단계적으로 다룬다. 애플리케이션에 인증 및 접근 제어 메커니즘 연동, 동시성 제어, 세션 관리 등 스프링 시큐리티 4.2의 기초부터 활용까지 상세한 가이드를 제시한다.'},\n  {'title': '실전 스프링 부트 REST API 개발 JDBC + MySQL',\n   'link': 'http://book.naver.com/bookdb/book_detail.php?bid=21394782',\n   'image': 'https://bookthumb-phinf.pstatic.net/cover/213/947/21394782.jpg?type=m1&udate=20211229',\n   'author': '향단코드',\n   'price': '10000',\n   'discount': '',\n   'publisher': '온노트',\n   'pubdate': '20211228',\n   'isbn': '1190230291 9791190230292',\n   'description': '부트 개발에 대한 개념을 좀 더 구체적으로 이해할 수 있을 것입니다.\\n본서는 온노트에서 출간된 실전 스프링 부트 REST API 개발 시리즈 중의 하나입니다.\\n- [ 실전 스프링 부트 REST API 개발 MyBatis + MySQL ]\\n- [ 실전 스프링 부트 REST API 개발 <b>JPA</b> + MySQL ]\\n- [ 실전 스프링 부트 REST API 개발 JDBC + MySQL ]'},\n  {'title': '스프링 부트2 레시피 (다양한 예제로 스프링 부트 스타터부터 패키징까지 한 번에 따라하기)',\n   'link': 'http://book.naver.com/bookdb/book_detail.php?bid=15301645',\n   'image': 'https://bookthumb-phinf.pstatic.net/cover/153/016/15301645.jpg?type=m1&udate=20210509',\n   'author': '마틴 데이넘',\n   'price': '30000',\n   'discount': '27000',\n   'publisher': '에이콘출판',\n   'pubdate': '20190816',\n   'isbn': '1161753478 9791161753478',\n   'description': '스프링 부트를 사용해 가볍고 빠르게 소프트웨어를 개발하고 검증하고자 하는 독자에게 유용한 책이다. 이 책을 통해 스프링 부트를 사용해 기본 애플리케이션 제작 방법, 반응형 웹 애플리케이션 제작 방법, 테스트 및 배포 방법, 인증과 권한관리 방법, 메시지와 로깅 방법 등 다양하게 활용할 수 있는 기능을... '},\n  {'title': '실전 스프링 부트 웹 개발 Mustache + JDBC + MySQL',\n   'link': 'http://book.naver.com/bookdb/book_detail.php?bid=21161907',\n   'image': 'https://bookthumb-phinf.pstatic.net/cover/211/619/21161907.jpg?type=m1&udate=20211022',\n   'author': '향단코드',\n   'price': '10000',\n   'discount': '',\n   'publisher': '온노트',\n   'pubdate': '20211021',\n   'isbn': '1190230267 9791190230261',\n   'description': '<b>JPA</b>, MyBatis 등 다른 연동 모듈에 비해 코딩하는데 번거로움이 있을 수 있지만 성능이 좋습니다.\\n그리고, 표준 SQL 기반으로 하고 있어서 데이터베이스... - [ 실전 스프링 부트 웹 개발 JSP + MyBatis + MySQL ]\\n- [ 실전 스프링 부트 웹 개발 Thymeleaf + <b>JPA</b> + MySQL ]\\n- [ 실전 스프링 부트 웹 개발 Mustache + JDBC + MySQL ]'},\n  {'title': '스타트 스프링 부트 (초급 개발자들을 위한 가볍고 넓은 스프링 부트)',\n   'link': 'http://book.naver.com/bookdb/book_detail.php?bid=12247655',\n   'image': 'https://bookthumb-phinf.pstatic.net/cover/122/476/12247655.jpg?type=m1&udate=20180817',\n   'author': '구멍가게 코딩단',\n   'price': '30000',\n   'discount': '27000',\n   'publisher': '남가람북스',\n   'pubdate': '20170720',\n   'isbn': '1195484577 9791195484577',\n   'description': '이 책은 SPRING BOOT와 SPRING DATA <b>JPA</b>, THYMELEAF를 이용해서 프로젝트를 사용하는 방법에 대해 설명한다. 대상 독자는 SPRING 프레임워크를 어느 정도... 스프링 부트라는 이름을 달고 있기는 하지만, 책의 내용은 스프링 부트 자체보다는 SPRING DATA <b>JPA</b>나 THYMELEAF에 대한 내용이 주를 이루게 될 것이다.'},\n  {'title': '스프링4 입문 (웹 애플리케이션의 기초부터 클라우드 네이티브 입문까지)',\n   'link': 'http://book.naver.com/bookdb/book_detail.php?bid=12685135',\n   'image': 'https://bookthumb-phinf.pstatic.net/cover/126/851/12685135.jpg?type=m1&udate=20180426',\n   'author': '하세가와 유이치|오오노 와타루|토키 코헤이',\n   'price': '30000',\n   'discount': '27000',\n   'publisher': '한빛미디어',\n   'pubdate': '20171101',\n   'isbn': '1162240210 9791162240212',\n   'description': '그림과 표로 쉽게 배우는 스프링 4 입문서!\\n\\n스프링은 단순히 사용 방법만 익히는 것보다 아키텍처를 어떻게 이해하고 설계하는지가 더 중요합니다. 예제를 복사해 붙여넣는 식으로는 실제 개발에서 스프링을 제대로 활용할 수 없습니다. 이 책에서는 웹 애플리케이션의 기초를 다지고 스프링 코어를 살펴보며... '},\n  {'title': 'DDD Start! (도메인 주도 설계 구현과 핵심 개념 익히기)',\n   'link': 'http://book.naver.com/bookdb/book_detail.php?bid=10615650',\n   'image': 'https://bookthumb-phinf.pstatic.net/cover/106/156/10615650.jpg?type=m1&udate=20220401',\n   'author': '최범균',\n   'price': '25000',\n   'discount': '',\n   'publisher': '지앤선',\n   'pubdate': '20160527',\n   'isbn': '8993827443 9788993827446',\n   'description': '예제에서 사용한 기술로는 스프링 MVC와 <b>JPA</b>(ORM)가 있다. 이 두 기술 자체를 잘 몰라도 책에서 설명하는 내용을 따라가는데 어려움은 없지만 기술에 대한 개요 정도를 알고 있다면 책을 더 잘 이해하는데 도움이 된다. 특히 SQL에만 익숙하다면 <b>JPA</b>가 뭔지 정도는 학습을 하고 이 책을 읽기를 바란다.'},\n  {'title': 'JUnit in Action (단위 테스트의 모든 것)',\n   'link': 'http://book.naver.com/bookdb/book_detail.php?bid=6673461',\n   'image': 'https://bookthumb-phinf.pstatic.net/cover/066/734/06673461.jpg?type=m1&udate=20190203',\n   'author': '피터 타치브|펠리페 레미|빈센트 마솔|게리 그레고리',\n   'price': '33000',\n   'discount': '29700',\n   'publisher': '인사이트',\n   'pubdate': '20110703',\n   'isbn': '8966260063 9788966260065',\n   'description': '『JUNIT IN ACTION: 단위 테스트의 모든 것』은 JUNIT을 중심으로, 단위 테스트의 효과와 중요성, 성격이 다른 소프트웨어 각 영역별 지원 툴, 이들을 개발 프로세스에 녹이고 자동화시키는 방법까지 자세하게 소개하는 책이다. 현업에 바로 적용할 수 있는 예제들을 중심으로 기본적인 이론과 다수의 모범... '},\n  {'title': '실전 SPA 개발 리액트 + 스프링 부트',\n   'link': 'http://book.naver.com/bookdb/book_detail.php?bid=20937678',\n   'image': 'https://bookthumb-phinf.pstatic.net/cover/209/376/20937678.jpg?type=m1&udate=20210915',\n   'author': '향단코드',\n   'price': '18000',\n   'discount': '',\n   'publisher': '온노트',\n   'pubdate': '20210915',\n   'isbn': '1190230259 9791190230254',\n   'description': '실전 프로젝트 개발에 필요한 Restful 서비스와 스프링 부트의 기본 개념, <b>JPA</b>, 스프링 시큐리티,  JWT, 토큰 인증, 롬복 등을 함께 설명합니다.\\n이... 이 책은 온노트에서 출간된 &quot;실전 리액트&quot;와 &quot;실전 스프링 부트 REST API 개발 <b>JPA</b> + MySQL 개정판&quot;의 내용을 합친 형태임을... '},\n  {'title': '실전 SPA 개발 Vue.js with 타입스크립트 + 스프링 부트',\n   'link': 'http://book.naver.com/bookdb/book_detail.php?bid=20930242',\n   'image': 'https://bookthumb-phinf.pstatic.net/cover/209/302/20930242.jpg?type=m1&udate=20210913',\n   'author': '향단코드',\n   'price': '18000',\n   'discount': '',\n   'publisher': '온노트',\n   'pubdate': '20210909',\n   'isbn': '1190230240 9791190230247',\n   'description': '실전 프로젝트 개발에 필요한 Restful 서비스와 스프링 부트의 기본 개념, <b>JPA</b>, 스프링 시큐리티,  JWT, 토큰 인증, 롬복 등을 함께 설명합니다.\\n이... 이 책은 온노트에서 출간된 &quot;Vue.js with 타입스크립트&quot;와 &quot;실전 스프링 부트 REST API 개발 <b>JPA</b> + MySQL 개정판&quot;의 내용을 합친... '},\n  {'title': 'The Church of England in Newfoundland, No. 2 [microform] (Containing a Statement and Reply of Thomas E. Collett, Esq., J.P., a Brief Review of Proceedings Connected With the Clergy and Church in This Diocese During the Past Few Years, and Observations...)',\n   'link': 'http://book.naver.com/bookdb/book_detail.php?bid=21208728',\n   'image': 'https://bookthumb-phinf.pstatic.net/cover/212/087/21208728.jpg?type=m1&udate=20211204',\n   'author': 'Thomas E. (Thomas Edwards) Collett',\n   'price': '20750',\n   'discount': '19450',\n   'publisher': 'LegareStreetPress',\n   'pubdate': '20210910',\n   'isbn': '1015203981 9781015203983',\n   'description': 'This work has been selected by scholars as being culturally important and is part of the knowledge base of civilization as we know it.This work is in the public domain in the United States of America, and possibly other nations. Within the United States, you may freely copy... '},\n  {'title': '토비의 스프링 3.1 Vol. 2 (스프링의 기술과 선택)',\n   'link': 'http://book.naver.com/bookdb/book_detail.php?bid=7006515',\n   'image': 'https://bookthumb-phinf.pstatic.net/cover/070/065/07006515.jpg?type=m1&udate=20190212',\n   'author': '이일민',\n   'price': '40000',\n   'discount': '36000',\n   'publisher': '에이콘출판사',\n   'pubdate': '20120921',\n   'isbn': '8960773425 9788960773424',\n   'description': '대한민국 전자정부 표준 프레임워크 스프링을 설명하는 책!&#x0D;&#x0D;XML 대신 자바코드를 이용해서 스프링을 개발할 수 있는 최신 빈 설정 기법부터 편리한 RESTful 스타일의 웹 컨트롤러 작성 기법까지 스프링 3.0과 스프링 3.1의 최신 기술을 상세하게 소개하고 그 중에서 자신에게 맞는 최적의 기술을... '},\n  {'title': '자바 성능 튜닝 (자바 성능 향상을 위한 완벽 가이드)',\n   'link': 'http://book.naver.com/bookdb/book_detail.php?bid=10362169',\n   'image': 'https://bookthumb-phinf.pstatic.net/cover/103/621/10362169.jpg?type=m1&udate=20171009',\n   'author': '스캇 오크스',\n   'price': '34000',\n   'discount': '30600',\n   'publisher': '비제이퍼블릭',\n   'pubdate': '20160329',\n   'isbn': '118669713X 9791186697139',\n   'description': '자바 전문가인 스캇 오크스가 JVM에서 코드가 동작하는 방법뿐만 아니라 튜닝을 통해 성능이 개선되는 방법도 함께, 자바로 작업하는 이라면 누구나 이해할 수 있게끔 설명하고 있는 책이다. 책은 여러 상황에 대한 경험과 직관을 갖도록 해주는 것보다는 시간이 흐르면서 훌륭한 자바 성능 엔지니어에게 필요한... '},\n  {'title': 'New Orleans Jazz, Mahalia Jackson and the Philosophy of Art, PB (vol2)',\n   'link': 'http://book.naver.com/bookdb/book_detail.php?bid=18902836',\n   'image': 'https://bookthumb-phinf.pstatic.net/cover/189/028/18902836.jpg?type=m1&udate=20210408',\n   'author': 'marleen Hengelaar-Rookmaaker',\n   'price': '49870',\n   'discount': '48820',\n   'publisher': 'PiquantEditions',\n   'pubdate': '20210404',\n   'isbn': '1909281816 9781909281813',\n   'description': 'It was in a Nazi prison camp during World War II that 22-year-old Hans Rookmaaker read the Bible and became a Christian. It was there too he received his first instruction in the Neo-Calvinist philosophy of Dooyeweerd by an older fellow prisoner, J.P.A. Mekkes. And it was... '},\n  {'title': '실전! 스프링 5와 Vue.js 2로 시작하는 모던 웹 애플리케이션 개발 (스프링 부트와 Vuex를 활용한 실습 중심의 풀스택 웹 애플리케이션 개발)',\n   'link': 'http://book.naver.com/bookdb/book_detail.php?bid=16113469',\n   'image': 'https://bookthumb-phinf.pstatic.net/cover/161/134/16113469.jpg?type=m1&udate=20200114',\n   'author': '제임스 J. 예',\n   'price': '36000',\n   'discount': '',\n   'publisher': '위키북스',\n   'pubdate': '20200121',\n   'isbn': '1158391854 9791158391850',\n   'description': '프런트엔드와 백엔드 웹 개발에서 스프링과 VUE를 사용해 효율성을 높이자!이 책은 실용적인 접근법으로 풀스택 웹 개발자가 되는 데 도움을 줍니다. 개발자는 프런트엔드와 백엔드 코드를 작성하는 방법을 아는 것은 물론이고, 애플리케이션에 대한 아이디어부터 시작해 UI, 기술적 설계, 구현, 테스트... '},\n  {'title': '생계형 개발자, SI에서 살아남기',\n   'link': 'http://book.naver.com/bookdb/book_detail.php?bid=16386437',\n   'image': 'https://bookthumb-phinf.pstatic.net/cover/163/864/16386437.jpg?type=m1&udate=20200626',\n   'author': '연서은',\n   'price': '14800',\n   'discount': '14800',\n   'publisher': '부크크(Bookk)',\n   'pubdate': '20200618',\n   'isbn': '1137209607 9791137209602',\n   'description': '진짜 SI 업계에서 개발자로 살아남는 이야기를  들려드릴께요.대한민국 웹 개발자의 약 70% 정도는 SI에서 일합니다.생계형 개발자로서의 이야기를 나눕니다. 개발도 좋아하고 개인의 삶도 좋아하는 , 어찌보면 개발이 다른 것보다 조금 더 잘하는 일인 직업으로써의 개발자로서의 삶을 생각해 봅니다.높은 곳을... '},\n  {'title': '스프링 웹 개발 마스터 세트 (토비의 스프링 3.1 Vol. 1 + 토비의 스프링 3.1 Vol. 2 + 스프링 MVC 프로그래밍, 3권)',\n   'link': 'http://book.naver.com/bookdb/book_detail.php?bid=7316063',\n   'image': 'https://bookthumb-phinf.pstatic.net/cover/073/160/07316063.jpg?type=m1&udate=20170105',\n   'author': '이일민|마틴 데니엄|코엔 세르닐즈|콜린 예이츠|세스 래드',\n   'price': '106000',\n   'discount': '95400',\n   'publisher': '에이콘출판사',\n   'pubdate': '20131001',\n   'isbn': '8960774804 9788960774803',\n   'description': '스프링 웹 개발을 배울 수 있는 『스프링 웹 개발 마스터 세트』 전3권. 스프링을 처음 접하거나 스프링을 경험했지만 스프링이 어렵게 느껴지는 개발자부터 스프링을 활용한 아키텍처를 설계하고 프레임워크를 개발하려고 하는 아키텍트에 이르기까지 모두 참고할 수 있는《토비의 스프링 3.1》 1, 2권과... '},\n  {'title': 'All in One Java 애플리케이션 개발 (Spring, Hibernate, MyBatis를 활용한, 전자정부 표준 프레임워크 핵심 기술 기반)',\n   'link': 'http://book.naver.com/bookdb/book_detail.php?bid=8536796',\n   'image': 'https://bookthumb-phinf.pstatic.net/cover/085/367/08536796.jpg?type=m1&udate=20210829',\n   'author': '전병선',\n   'price': '35000',\n   'discount': '31500',\n   'publisher': '와우북스',\n   'pubdate': '20141222',\n   'isbn': '8994405224 9788994405223',\n   'description': 'ACTIVEMQ, RABBITMQ, MULE ESB, CAMEL, SPRING INTEGRATION 등 SOA 아키텍처의 근간이 되는 메시징과 ESB 서비스를 구현하는 방법을 체계적으로 설명한다. 또한, HIBERNATE와 SPRING DATA <b>JPA</b>, MYBATIS 프레임워크를 사용하여 ORM 방식으로 데이터에 액세스하는 기법들에 대해서도 심도 있게 설명하고 있다.'},\n  {'title': '아날로그 오디오',\n   'link': 'http://book.naver.com/bookdb/book_detail.php?bid=14124661',\n   'image': 'https://bookthumb-phinf.pstatic.net/cover/141/246/14124661.jpg?type=m1&udate=20210310',\n   'author': '김기인',\n   'price': '98000',\n   'discount': '88200',\n   'publisher': '북커스',\n   'pubdate': '20181101',\n   'isbn': '1196431914 9791196431914',\n   'description': '[아날로그 오디오](ANALOG AUDIO)는 아날로그 오디오의 전체적인 흐름을 파악할 수 있도록 총 3개의 파트로 이루어져있다. PARTⅠ‘아날로그 사운드의 태동’에서는 유성기, 라디오, 녹음기를 중심으로 PARTⅡ‘아날로그 사운드를 찾아서’에서는 아날로그 오디오의 중심이 되는 카트리지, 톤암, 턴테이블... '},\n  {'title': 'JBoss AS 7 따라잡기 (강력한 오픈소스 자바 엔터프라이즈 애플리케이션 서버)',\n   'link': 'http://book.naver.com/bookdb/book_detail.php?bid=7380176',\n   'image': 'https://bookthumb-phinf.pstatic.net/cover/073/801/07380176.jpg?type=m1&udate=20190204',\n   'author': '프란체스코 마르치오니',\n   'price': '30000',\n   'discount': '27000',\n   'publisher': '에이콘출판',\n   'pubdate': '20131223',\n   'isbn': '8960774995 9788960774995',\n   'description': '『JBOSS AS 7 따라잡기』는 새로운 애플리케이션 서버를 설정하는 일반적인 함정을 피하기 위해 논리적인 순서로 설정, 관리, 배포 및 고급 관리를 설명한 책이다. 더부렁 새 애플리케이션 서버의 구조와 설치 방법을 안내한다. 스레드 풀, 메시징 시스템 및 트랜잭션 서비스 등의 핵심 AS 서비스를 설정하는... '},\n  {'title': '거침없이 배우는 Drools (JBoss Drools rules를 이용하여 강력한 비즈니스 룰을 만들기 위한 40여 가지 방법)',\n   'link': 'http://book.naver.com/bookdb/book_detail.php?bid=7425117',\n   'image': 'https://bookthumb-phinf.pstatic.net/cover/074/251/07425117.jpg?type=m1&udate=20170323',\n   'author': '루카스 아마도르',\n   'price': '26000',\n   'discount': '23400',\n   'publisher': '지앤선',\n   'pubdate': '20140217',\n   'isbn': '899382780X 9788993827804',\n   'description': 'JBoss Drools는 오픈소스 비즈니스 룰 엔진으로 비즈니스 룰과 비즈니스 프로세스, 이벤트 처리, 자동화 계획을 위한 통합 플랫폼을 제공한다. 이 책에서, 독자는 Drools 모듈인 Guvnor, Fusion, Expert와 Planner에 대해 학습하게 된다. 이 책에 소개하고 있는 명확한 방법으로 완전한 솔루션을 제공하기... '},\n  {'title': 'JBoss AS 7 애플리케이션 개발 (JBoss 관리부터 자바EE 개발 배포 운영까지)',\n   'link': 'http://book.naver.com/bookdb/book_detail.php?bid=7423409',\n   'image': 'https://bookthumb-phinf.pstatic.net/cover/074/234/07423409.jpg?type=m1&udate=20190204',\n   'author': '프란체스코 마르치오니',\n   'price': '30000',\n   'discount': '27000',\n   'publisher': '에이콘출판',\n   'pubdate': '20140213',\n   'isbn': '8960775185 9788960775183',\n   'description': '다양한 자바EE 기술, 프레임워크 통합, 개발 방법을 JBOSS와 함께 제공한다. 더불어 JBOSS 애플리케이션 서버를 설치하고, <b>JPA</b>, 메시징, 웹서비스, 로드밸런싱, 클러스터링, 보안 등을 적용하여 운영하는 방법들을 함께 다룸으로써, 개발 시 JBOSS를 효과적으로 활용할 수 있는 방법을 자세하게 설명한다.'},\n  {'title': 'SPRING 3.0 프로그래밍 (웹 개발자를 위한)',\n   'link': 'http://book.naver.com/bookdb/book_detail.php?bid=6311466',\n   'image': 'https://bookthumb-phinf.pstatic.net/cover/063/114/06311466.jpg?type=m1&udate=20151126',\n   'author': '최범균',\n   'price': '28000',\n   'discount': '',\n   'publisher': '가메',\n   'pubdate': '20100628',\n   'isbn': '8980782314 9788980782314',\n   'description': '웹 개발자를 위한 스프링 가이드!\\n\\n『Spring 3.0 프로그래밍』은 스프링을 이용해서 웹 어플리케이션을 개발하는데 알고 있어야 할 내용으로 구성한 책이다. 스프링 3의 새로운 기능을 설명하고 스프링 DI, AOP에 대해 보여준다. 또한 RESTful 지원, XML/JSON 지원, 어노테이션을 이용한 편리할 설정 등 개발자들이... '},\n  {'title': '스프링 5.0 마스터 (스프링 부트, 스프링 클라우드, 마이크로서비스, 리액티브, 코틀린까지)',\n   'link': 'http://book.naver.com/bookdb/book_detail.php?bid=13808510',\n   'image': 'https://bookthumb-phinf.pstatic.net/cover/138/085/13808510.jpg?type=m1&udate=20180822',\n   'author': '랑가 라오 카라남',\n   'price': '36000',\n   'discount': '',\n   'publisher': '에이콘출판',\n   'pubdate': '20180820',\n   'isbn': '1161751823 9791161751825',\n   'description': 'IT 관련 특히 웹 서비스 관련 종사자면 자바 개발자가 아니더라도 스프링 프레임워크에 대해 한 번은 들어 봤을 정도로 스프링 프레임워크가 차지하고 있는 포지션은 크다. 특히 자바 개발자 사이에서 스프링 프레임워크의 지지는 절대적이라고 할 수 있다. 이에 걸맞게 최신 트렌드를 반영한 이 책은 스프링 5.... '},\n  {'title': '웹 개발자를 위한 스프링 2.5 프로그래밍',\n   'link': 'http://book.naver.com/bookdb/book_detail.php?bid=4454644',\n   'image': 'https://bookthumb-phinf.pstatic.net/cover/044/546/04454644.jpg?type=m1&udate=20100111',\n   'author': '최범균',\n   'price': '23000',\n   'discount': '',\n   'publisher': '가메',\n   'pubdate': '20080310',\n   'isbn': '8980782098 9788980782093',\n   'description': '부록 CD-ROM 포함(예제 소스).- 스프링 2/2.5의 새로운 기능 포함- 스프링 DI, AOP- 상세한 스프링 MVC 설명- JDBC, 하이버네이트, IBATIS, <b>JPA</b> 연동- 트랜잭션 설정- 메일 발송, 스케줄링, JMS, JMX 처리- 스프링을 이용한 JUNIT 테스트- XML 스키마 확장, DWR 연동 설명'},\n  {'title': 'Designing Applications with Spring Boot 2.2 and React JS: Step-by-step guide to design and develop intuitive full stack web applications',\n   'link': 'http://book.naver.com/bookdb/book_detail.php?bid=15468653',\n   'image': 'https://bookthumb-phinf.pstatic.net/cover/154/686/15468653.jpg?type=m1&udate=20201215',\n   'author': 'Rajput|Dinesh',\n   'price': '48230',\n   'discount': '45960',\n   'publisher': 'BpbPublications',\n   'pubdate': '20190726',\n   'isbn': '9388511646 9789388511643',\n   'description': '●       Learn to configure backend data using JDBC and Spring Data <b>JPA</b>.●       Learn to configure a DataSource for H2 DB, and also for Maria DB.●       Learn best practices for designing a REST architecture based application.●       Creating a REST application using... '},\n  {'title': '오디오 Audio 2017.2',\n   'link': 'http://book.naver.com/bookdb/book_detail.php?bid=11618029',\n   'image': 'https://bookthumb-phinf.pstatic.net/cover/116/180/11618029.jpg?type=m1&udate=20170204',\n   'author': '편집부',\n   'price': '12000',\n   'discount': '',\n   'publisher': '월간팝송사(월간지)',\n   'pubdate': '20170202',\n   'isbn': '1227306008 9771227306008',\n   'description': '&quot;월간 오디오에서는 오디오와 관련된 모든 것을 담고 있다. 주로 오디오를 들을 수 있는 기기와 소재에 집중하고 있다. 음악에 대한 칼럼은 소량 다루고 있다. 눈과 귀를 만족시켜 주는 하이엔드 수준의 오디오를 소개하고 있다.&quot;'},\n  {'title': '스프링 부트 프로그래밍 입문',\n   'link': 'http://book.naver.com/bookdb/book_detail.php?bid=11838057',\n   'image': 'https://bookthumb-phinf.pstatic.net/cover/118/380/11838057.jpg?type=m1&udate=20170329',\n   'author': '쇼다 츠야노',\n   'price': '29000',\n   'discount': '',\n   'publisher': '길벗',\n   'pubdate': '20170403',\n   'isbn': '1160501505 9791160501506',\n   'description': '최소한의 설정으로 빠르게, 생산적으로 코드를 작성하자![스프링 부트 프로그래밍 입문]은 자바 웹 개발을 한다면 빼놓을 수 없는 스프링 프레임워크를 쉽게 사용할 수 있는 스프링 부트를 소개한다. 스프링 부트는 복잡한 설정 없이, POJO 클래스 + 애너테이션으로 번거로운 코드 작성을 자동으로 해준다. 서버가... '},\n  {'title': '가장 빨리 만나는 스프링 부트',\n   'link': 'http://book.naver.com/bookdb/book_detail.php?bid=9202784',\n   'image': 'https://bookthumb-phinf.pstatic.net/cover/092/027/09202784.jpg?type=m1&udate=20190216',\n   'author': '마키 토시아키',\n   'price': '15000',\n   'discount': '13500',\n   'publisher': '길벗',\n   'pubdate': '20150702',\n   'isbn': '1186659033 9791186659038',\n   'description': '스프링 프레임워크의 하위 프로젝트가 증가하면서 각 프로젝트를 조합해서 사용하려면 초기 설정도 많고, 제대로 조합하기 위한 노하우도 필요하다. 이 책 [가장 빨리 만나는 스프링 부트]는 이러한 문제를 해결할 수 있는 스프링 부트를 빠르게 익힐 수 있도록 안내한다. 이 책은 스프링 프레임워크에 대해 간단히... '},\n  {'title': '스프링3 입문 (스트럿츠 하이버네이트 마이바티스 연계)',\n   'link': 'http://book.naver.com/bookdb/book_detail.php?bid=7321417',\n   'image': 'https://bookthumb-phinf.pstatic.net/cover/073/214/07321417.jpg?type=m1&udate=20170103',\n   'author': '하세가와 유이치|오오노 와타루|토키 코헤이',\n   'price': '28000',\n   'discount': '',\n   'publisher': '한빛미디어',\n   'pubdate': '20131010',\n   'isbn': '8968480516 9788968480515',\n   'description': '복잡한 스프링 프레임워크를 풍부한 그림, 도식, 표, 부분 코드 등 시각적 요소로 알기 쉽게 풀어냈으며 ‘일,’ ‘개발자의 진로’ 등 현업의 실질적인 고민과 해답을 다루고 있다. 최대한 알기 쉽게 풀어나가고 있으며 스트럿츠 하이버네이트, <b>JPA</b>, MYBATIS2.X 등 다른 프레임워크와의 연동도 다루고 있다.'},\n  {'title': '스프링 철저 입문 (처음부터 끝까지 철저하게 배우는 실무 중심의 스프링 프레임워크 완벽 입문서)',\n   'link': 'http://book.naver.com/bookdb/book_detail.php?bid=13400533',\n   'image': 'https://bookthumb-phinf.pstatic.net/cover/134/005/13400533.jpg?type=m1&udate=20181121',\n   'author': '주식회사 NTT 데이터',\n   'price': '45000',\n   'discount': '',\n   'publisher': '위키북스',\n   'pubdate': '20180315',\n   'isbn': '1158390793 9791158390792',\n   'description': '이 책은 DI/AOP, JDBC, <b>JPA</b> 같은 기본 기술부터 MVC, 시큐리티, 배치와 그 밖의 다양한 스프링 프로젝트까지 함께 설명한다. 그리고 스프링 프레임워크의 기본적인 사용법부터 개발 가이드까지, 프레임워크를 활용하기 위한 방법과 노하우까지 철저하게 풀어내고 있다. \\n \\n스프링 프레임워크를 이용해 자바... '},\n  {'title': '오픈소스 JBoss로 확장형 대용량 시스템 만들기 세트 (전3권,JBoss AS 7 애플리케이션 개발+JBoss AS 7 따라잡기+JBoss 인피니스팬 따라잡기)',\n   'link': 'http://book.naver.com/bookdb/book_detail.php?bid=7424357',\n   'image': 'https://bookthumb-phinf.pstatic.net/cover/074/243/07424357.jpg?type=m1&udate=20190204',\n   'author': '프란체스코 마르치오니|마닉 수르타니',\n   'price': '72000',\n   'discount': '64800',\n   'publisher': '에이콘출판',\n   'pubdate': '20140220',\n   'isbn': '896077524X 9788960775244',\n   'description': '『오픈소스 JBOSS로 확장형 대용량 시스템 만들기 세트』는《JBOSS AS 7 애플리케이션 개발》《JBOSS AS 7 따라잡기》《JBOSS 인피니스팬 따라잡기》의 3권으로 구성된 세트이다. JBOSS 애플리케이션 서버상의 단순 애플리케이션 개발에 대한 설명과 JBOSS 애플리케이션 서버에 대해 기본적으로... '},\n  {'title': 'Hands-On Full Stack Development with Spring Boot 2 and React Second Edition',\n   'link': 'http://book.naver.com/bookdb/book_detail.php?bid=15512083',\n   'image': 'https://bookthumb-phinf.pstatic.net/cover/155/120/15512083.jpg?type=m1&udate=20190925',\n   'author': 'Juha Hinkula',\n   'price': '17000',\n   'discount': '',\n   'publisher': '지코사이언스',\n   'pubdate': '20190523',\n   'isbn': '1838823263 9781838823269',\n   'description': '▶Book Description\\nReact Hooks have changed the way React components are coded. They enable you to write components in a more intuitive way without using classes, which makes your code easier to read and maintain. Building on from the previous edition, this book is updated... '},\n  {'title': '자바 개발자를 위한 스칼라 프로그래밍',\n   'link': 'http://book.naver.com/bookdb/book_detail.php?bid=8993173',\n   'image': 'https://bookthumb-phinf.pstatic.net/cover/089/931/08993173.jpg?type=m1&udate=20150722',\n   'author': '토마스 알렉산더',\n   'price': '30000',\n   'discount': '27000',\n   'publisher': '에이콘출판',\n   'pubdate': '20150430',\n   'isbn': '8960777005 9788960777002',\n   'description': '[자바 개발자를 위한 스칼라 프로그래밍]은 자바(JAVA)에서 스칼라(SCALA)로 갈아타거나 기존 자바 프로젝트를 스칼라로 확장하려는 자바 개발자가 빠른 시간 내에 스칼라를 익혀 현업에 적용할 수 있도록, 스칼라의 핵심 기능에 대해 다양한 실습 예제를 중심으로 소개한다. 책은 당장 실전에 써먹을 수... '},\n  {'title': '스프링 프레임워크의 실제',\n   'link': 'http://book.naver.com/bookdb/book_detail.php?bid=9071728',\n   'image': 'https://bookthumb-phinf.pstatic.net/cover/090/717/09071728.jpg?type=m1&udate=20150715',\n   'author': 'Willie Wheeler|Joshua White',\n   'price': '33000',\n   'discount': '29700',\n   'publisher': 'ITC',\n   'pubdate': '20150518',\n   'isbn': '8963510522 9788963510521',\n   'description': '『스프링 프레임워크의 실제(SPRING IN PRACTICE)』는 자바 기반의 프로그래밍 기술을 어느 정도 이해하고 있으면서 최신 트렌드에 맞는 기법을 터득하고자 하는 독자들에게 유익한 실전 레시피 모음집 형태로 구성되어 있다. 각 레시피는 일종의 과제로서, 과제의 목표와 상세한 과정, 얻을 수 있는 결론과... '},\n  {'title': 'JBoss 5 (빠르게 활용하는)',\n   'link': 'http://book.naver.com/bookdb/book_detail.php?bid=6670133',\n   'image': 'https://bookthumb-phinf.pstatic.net/cover/066/701/06670133.jpg?type=m1&udate=20171011',\n   'author': '노먼 리차드|샘 그리피스 주니어',\n   'price': '22000',\n   'discount': '19800',\n   'publisher': '위키북스',\n   'pubdate': '20110707',\n   'isbn': '8992939817 9788992939812',\n   'description': 'JBoss와 관련해서 평범한 것은 없다. 1999년에 오픈소스 EJB 컨테이너 프로젝트로 시작한 JBoss는 현재 최대 시장 점유율로 기능과 품질 면에서 상용 자바 애플리케이션 서버와 경쟁하면서 완전한 Java EE 5 공인 애플리케이션 서버로 자리잡았다. 다이내믹한 아키텍처를 기반으로 JBoss는 단지 Java EE... '},\n  {'title': '하이버네이트 완벽 가이드 (자바 개발자를 위한 자바 퍼시스턴스 프로그래밍)',\n   'link': 'http://book.naver.com/bookdb/book_detail.php?bid=6287142',\n   'image': 'https://bookthumb-phinf.pstatic.net/cover/062/871/06287142.jpg?type=m1&udate=20150826',\n   'author': '크리스찬 바우어|개빈 킹',\n   'price': '45000',\n   'discount': '',\n   'publisher': '위키북스',\n   'pubdate': '20100615',\n   'isbn': '8992939507 9788992939508',\n   'description': '『하이버네이트 완벽 가이드』는 하이버네이트 프로젝트를 만든 크리스찬 바우어와 개빈 킹이 직접 EJB 3.0과 자바 퍼시스턴스 1.0 표준과 함께 하이버네이트 3.2에 관해 깊이 있게 설명한 책이다. 수백 개의 개별 예제를 긴밀하게 연계한 애플리케이션을 개발해 보면서 하이버네이트를 샅샅히 파헤친다. 쿼리... '},\n  {'title': 'Java How to Program, 11/E GE (Early Objects) (Early Objects)',\n   'link': 'http://book.naver.com/bookdb/book_detail.php?bid=13458644',\n   'image': 'https://bookthumb-phinf.pstatic.net/cover/134/586/13458644.jpg?type=m1&udate=20180408',\n   'author': 'Deitel',\n   'price': '48000',\n   'discount': '48000',\n   'publisher': 'PearsonHigherEducation',\n   'pubdate': '20180101',\n   'isbn': '1292223855 9781292223858',\n   'description': ''},\n  {'title': 'Learn Spring for Android Application Development',\n   'link': 'http://book.naver.com/bookdb/book_detail.php?bid=15070279',\n   'image': 'https://bookthumb-phinf.pstatic.net/cover/150/702/15070279.jpg?type=m1&udate=20190626',\n   'author': 'S. M. Mohi Us Sunnat',\n   'price': '26000',\n   'discount': '',\n   'publisher': 'Packt(GCOScience)',\n   'pubdate': '20190124',\n   'isbn': '1789341914 9781789341911',\n   'description': 'Understand JDBC, <b>JPA</b>, MySQL for Spring and SQLite Room for Android\\n？ Explore Spring Security fundamentals, Basic Authentication, and OAuth2\\n？ Delve into Concurrency and Reactive programming using Kotlin\\n？ Develop testable applications with Spring and Android\\n▶Key... '},\n  {'title': 'Building Applications with Spring 5 and Kotlin(Paperback) (Build Scalable and Reactive applications with Spring combined with the productivity of Kotlin)',\n   'link': 'http://book.naver.com/bookdb/book_detail.php?bid=14300734',\n   'image': 'https://bookthumb-phinf.pstatic.net/cover/143/007/14300734.jpg?type=m1&udate=20181204',\n   'author': 'Vasic|Milos',\n   'price': '39000',\n   'discount': '39000',\n   'publisher': 'PacktPublishing',\n   'pubdate': '20181129',\n   'isbn': '1788394801 9781788394802',\n   'description': 'Learn to build a full-fledged application in Spring and Kotlin taking a reactive, microservice-based approach for scalability and robustness in the cloud&#x0D;&#x0D;Key Features :&#x0D;* Build a full-fledged application in Spring and Kotlin&#x0D;* Architect your application... '},\n  {'title': '스프링 3 레시피 (친절한 스프링 프레임워크 과제 해결서)',\n   'link': 'http://book.naver.com/bookdb/book_detail.php?bid=6594194',\n   'image': 'https://bookthumb-phinf.pstatic.net/cover/065/941/06594194.jpg?type=m1&udate=20150604',\n   'author': '게리 막',\n   'price': '45000',\n   'discount': '',\n   'publisher': '위키북스',\n   'pubdate': '20110330',\n   'isbn': '8992939760 9788992939768',\n   'description': '친절한 스프링 프레임워크 과제 해법서!아키텍처를 단순화하고 싶고 자바 EE 플랫폼 영역 밖의 문제를 해결하고자 하는 자바 개발자를 위한 『스프링 3 레시피』. 이 책은 스프링으로 할 수 있는 거의 대부분의 내용들을 다루고 있으며, 그중에는 국내에서 잘 쓰이지 않는 기술도 포함되어 있다. 총 24장으로... '},\n  {'title': '하이버네이트 3 프로그래밍',\n   'link': 'http://book.naver.com/bookdb/book_detail.php?bid=2888558',\n   'image': 'https://bookthumb-phinf.pstatic.net/cover/028/885/02888558.jpg?type=m1&udate=20100111',\n   'author': '최범균',\n   'price': '20000',\n   'discount': '',\n   'publisher': '가메',\n   'pubdate': '20070411',\n   'isbn': '8980781989 9788980781980',\n   'description': '하이버네이트 3 입문서. 이 책은 하이버네이트 특징과 메뉴와 연관, 컬렉션, 하이버네이트 활용까지 다양한 내용을 담았다. 부록CD에는 예제 및 소스 파일이 들어있다.'},\n  {'title': '거침없이 배우는 JBoss (오픈소스 미들웨어 JBoss EAP 6 & AS 7 이해하기)',\n   'link': 'http://book.naver.com/bookdb/book_detail.php?bid=7437493',\n   'image': 'https://bookthumb-phinf.pstatic.net/cover/074/374/07437493.jpg?type=m1&udate=20160516',\n   'author': '전준식',\n   'price': '33000',\n   'discount': '',\n   'publisher': '지앤선',\n   'pubdate': '20140227',\n   'isbn': '8993827818 9788993827811',\n   'description': '이 책은 웹 애플리케이션 서버나 웹 시스템에 익숙하지 않은 독자들도 JBOSS 웹 애플리케이션 서버를 쉽게 이해하고 실무에 활용할 수 있도록 구성하였다. 오픈소스 애플리케이션 서버 제품을 처음 접하는 개발자나 관리자들이 필요한 정보나 사용 방법 등을 찾고 익히는 어려움을 덜 수 있도록 JBOSS AS... '},\n  {'title': '프로 스프링 3 (스프링 프레임워크의 원리와 활용)',\n   'link': 'http://book.naver.com/bookdb/book_detail.php?bid=7014516',\n   'image': 'https://bookthumb-phinf.pstatic.net/cover/070/145/07014516.jpg?type=m1&udate=20220416',\n   'author': '클라렌스 호|롭 해롭',\n   'price': '45000',\n   'discount': '40500',\n   'publisher': '위키북스',\n   'pubdate': '20120928',\n   'isbn': '8998139030 9788998139032',\n   'description': '또한 일반적으로 개발자들에게 익숙한 DAO 레이어를 그대로 사용하는 대신 <b>JPA</b>를 활용해 엔티티매니저를 서비스 레이어로 직접 주입하는 방식을 통해 최신 개발 기법을 설명하는 등 스프링 애플리케이션에서 불필요한 요소를 제거하고 애플리케이션을 유지보수하기 쉽게 관리하는 다양한 전략을 소개한다. 이를... '},\n  {'title': '비트 프로젝트 119호 (상위 1%를 만드는)',\n   'link': 'http://book.naver.com/bookdb/book_detail.php?bid=5439227',\n   'image': 'https://bookthumb-phinf.pstatic.net/cover/054/392/05439227.jpg?type=m1&udate=20141122',\n   'author': '조현정',\n   'price': '34000',\n   'discount': '30600',\n   'publisher': '비트컴퓨터',\n   'pubdate': '20090120',\n   'isbn': '8992606141 9788992606141',\n   'description': '프로그래머를 위한 『상위 1%를 만드는 비트 프로젝트』 제119호. 최신 프로그래밍 기술과 소스를 묶어서 낸 비트교육센터의 저서다. 교육생들의 최종 프로젝트를 독자들에게 전달함으로써, 국내 소프트웨어 인력의 질을 향상시키는 데 도움이 되고자 한다. 부록으로는 소스가 수록된 CD 1장을 제공하고 있다.'},\n  {'title': 'Professional Java (6/E)',\n   'link': 'http://book.naver.com/bookdb/book_detail.php?bid=2525196',\n   'image': 'https://bookthumb-phinf.pstatic.net/cover/025/251/02525196.jpg?type=m1&udate=20111122',\n   'author': 'Donald Avondolio|W. Clay Richardson|Scot Schrager',\n   'price': '49500',\n   'discount': '',\n   'publisher': 'WROXPRESS',\n   'pubdate': '20070103',\n   'isbn': '0471777102 9780471777106',\n   'description': \"WHAT IS THIS BOOK ABOUT? &quot;PROFESSIONAL JAVA&quot; BUILDS UPON &quot;IVOR HORTON'S BEGINNING JAVA&quot; TO PROVIDE THE READER WITH AN UNDERSTANDING OF HOW PROFESSIONALS USE JAVA TO DEVELOP SOFTWARE SOLUTIONS. &quot;PRO JAVA &quot; STARTS WITH AN OVERVIEW OF BEST METHODS AND TOOLS FOR DEVELOPING JAVA... \"},\n  {'title': '스프링 데이터 핵심 노트 (자바 데이터베이스 API를 위한)',\n   'link': 'http://book.naver.com/bookdb/book_detail.php?bid=7286336',\n   'image': 'https://bookthumb-phinf.pstatic.net/cover/072/863/07286336.jpg?type=m1&udate=20180104',\n   'author': '마드후수단 콘다',\n   'price': '9900',\n   'discount': '',\n   'publisher': '한빛미디어(주)',\n   'pubdate': '20130722',\n   'isbn': '8968486379 9788968486371',\n   'description': '♣ 데이터 접근을 위한 스프링 프레임워크의 모든 것! 스프링은 대한민국 전자정부 표준 프레임워크의 기반 기술로도 사용할 정도로 자바 웹 애플리케이션 개발의 대세가 되어가는 프레임워크다. 웹 애플리케이션에서 자바 객체를 직접 관리할 수 있고 여러 가지 독립 서비스를 서로 연결할 수 있는 등 활용도가... '},\n  {'title': 'Hands-On Full Stack Development with Spring Boot 2.0 and React',\n   'link': 'http://book.naver.com/bookdb/book_detail.php?bid=14032481',\n   'image': 'https://bookthumb-phinf.pstatic.net/cover/140/324/14032481.jpg?type=m1&udate=20180919',\n   'author': 'Juha Hinkula',\n   'price': '13000',\n   'discount': '',\n   'publisher': 'Packt(GCOScience)',\n   'pubdate': '20180621',\n   'isbn': '1788993160 9781788993166',\n   'description': ''}]}"
     },
     "execution_count": 9,
     "metadata": {},
     "output_type": "execute_result"
    }
   ],
   "source": [
    "api_url = create_url(\"book\", \"jpa\", 1, 100)\n",
    "req = urllib.request.Request(api_url)\n",
    "req.add_header(\"X-Naver-Client-Id\",client_id)\n",
    "req.add_header(\"X-Naver-Client-Secret\",client_secret)\n",
    "\n",
    "res = urllib.request.urlopen(req)\n",
    "\n",
    "result = json.loads(res.read().decode(\"utf-8\"))\n",
    "result"
   ],
   "metadata": {
    "collapsed": false,
    "pycharm": {
     "name": "#%%\n"
    }
   }
  },
  {
   "cell_type": "code",
   "execution_count": 10,
   "outputs": [
    {
     "data": {
      "text/plain": "100"
     },
     "execution_count": 10,
     "metadata": {},
     "output_type": "execute_result"
    }
   ],
   "source": [
    "len(result[\"items\"])"
   ],
   "metadata": {
    "collapsed": false,
    "pycharm": {
     "name": "#%%\n"
    }
   }
  },
  {
   "cell_type": "code",
   "execution_count": 17,
   "outputs": [
    {
     "data": {
      "text/plain": "'자바 ORM 표준 <b>JPA</b> 프로그래밍 (에이콘 오픈 소스 프로그래밍 시리즈,스프링 데이터 예제 프로젝트로 배우는 전자정부 표준 데이터베이스 프레임워크)'"
     },
     "execution_count": 17,
     "metadata": {},
     "output_type": "execute_result"
    }
   ],
   "source": [
    "result[\"items\"][0][\"title\"] # str 반환"
   ],
   "metadata": {
    "collapsed": false,
    "pycharm": {
     "name": "#%%\n"
    }
   }
  },
  {
   "cell_type": "code",
   "execution_count": 19,
   "outputs": [
    {
     "data": {
      "text/plain": "['자바 ORM 표준 <b>JPA</b> 프로그래밍 (에이콘 오픈 소스 프로그래밍 시리즈,스프링 데이터 예제 프로젝트로 배우는 전자정부 표준 데이터베이스 프레임워크)',\n '백견불여일타 스프링 부트 쇼핑몰 프로젝트 with <b>JPA</b> (이젠 프로젝트다!)',\n \"Mastering Java Persistence API (<b>JPA</b>) (Realize Java's Capabilities Spanning RDBMS, ORM, JDBC, Caching, Locking, Transaction Management, and JPQL)\",\n '<b>JPA</b> 퀵스타트',\n '스프링과 <b>JPA</b>를 활용한 자바 엔터프라이즈 애플리케이션 개발 세트 (전3권,자바 ORM 표준 <b>JPA</b> 프로그래밍 + 토비의 스프링 3.1 Vol. 1~2)',\n '실전 스프링 부트 웹 개발 Thymeleaf + <b>JPA</b> + MySQL 개정판',\n '실전 스프링 부트 웹 개발 Thymeleaf + <b>JPA</b> + MySQL',\n '실전 스프링 부트 REST API 개발 <b>JPA</b> + MySQL 개정판',\n '<b>JPA</b> 프로그래밍 입문',\n '실전 스프링 부트 REST API 개발 <b>JPA</b> + MySQL',\n 'Pro <b>Jpa</b> 2: Mastering the Java(tm) Persistence API (Mastering the Java Persistence Api)',\n 'Just Spring Data Access: Covers Jdbc, Hibernate, <b>Jpa</b> and Jdo',\n 'Rapid Java Persistence and Microservices: Persistence Made Easy Using Java Ee8, <b>Jpa</b> and Spring (Persistence Made Easy Using Java, <b>Jpa</b> and Spring)',\n '<b>JPA</b> Jam Packed Action (Megas XLR, Kids Next Door, Samuri Jack and more)',\n 'Pro <b>Jpa</b> 2 in Java Ee 8: An In-Depth Guide to Java Persistence APIs (An In-depth Guide to Java Persistence Apis)',\n 'Pro <b>JPA</b> 2',\n 'Java Persistence with <b>Jpa</b> 2.1',\n 'UNDERSTANDING <b>JPA</b> 2.2: JAVA PERSISTENCE (Java Persistence API)',\n '<b>Jpa</b> a Clear and Concise Reference',\n 'Spring Data <b>JPA</b>プログラミング入門',\n 'Index Testaceorum Viventium Quoe in Collectione J.P.A. Grasset Extant',\n '스프링 부트와 AWS로 혼자 구현하는 웹 서비스 (인텔리제이, <b>JPA</b>, JUnit 테스트, 그레이들, 소셜 로그인, AWS 인프라로 무중단 배포까지)',\n '스프링 퀵 스타트 (IoC, AOP, DI 핵심 개념과 MVC+MyBatis+<b>JPA</b>를 활용한 스프링 프로젝트)',\n '스프링 부트로 배우는 자바 웹 개발 (서블릿부터 Spring Data <b>JPA</b>, Rest API, 액추에이터를 활용한 모니터링, 클라우드 서비스를 이용한 배포까지)',\n '자바 웹 개발 완벽 가이드 (JSP/서블릿부터 웹소켓, 스프링 MVC, <b>JPA</b>/하이버네이트, 스프링 시큐리티까지)',\n 'Hibernate Made Easy (Paperback) (Simplified Data Persistence With Hibernate and <b>Jpa</b> Annotations)',\n 'まんだらけZENBU 57 (<b>JPA</b>コレクションの王道ウルトラマン)',\n 'tokyo Interior Shop FILE 2005',\n 'The Market Yard',\n '도메인 주도 개발 시작하기 (DDD 핵심 개념 정리부터 구현까지)',\n '클린 아키텍처 (자바 코드로 구현하는 클린 웹 애플리케이션,만들면서 배우는)',\n 'React.js, 스프링 부트, AWS로 배우는 웹 개발 101 (SPA, REST API 기반 웹 애플리케이션 개발)',\n '스프링 배치 완벽 가이드 (클라우드 환경에서 활용하는 모던 배치 처리)',\n '코드로 배우는 스프링 부트 웹 프로젝트 (현업 개발을 위한 단계별 실습서)',\n '스프링 인 액션 (스프링 5의 강력한 기능과 생산성을 활용한 웹 애플리케이션 개발)',\n '배워서 바로 쓰는 스프링 프레임워크 (AOP, 보안, 메시징부터 스프링 웹 MVC까지 실용적인)',\n '실전 SPA 개발 앵귤러 + 스프링 부트',\n '전문가를 위한 스프링 5 (스프링을 깊이 있게, 철저하게!)',\n '실전! 스프링 5를 활용한 리액티브 프로그래밍 (리액티브 애플리케이션 개발부터 클라우드 배포와 모니터링까지)',\n '스프링 부트  퀵스타트 (누구나 끝까지 따라 할 수 있는)',\n '스프링 5 마스터 (스프링 부트, 스프링 클라우드, 마이크로서비스, 리액티브, 코틀린까지)',\n '스프링 부트 시작하기 (차근차근 따라 하는 단계별 실습)',\n '스프링5 레시피 (스프링 애플리케이션 개발에 유용한 161가지 문제 해결 기법)',\n '생계형 개발자, SI에서 살아남기 (개정판)',\n '쿼커스 쿡북 (쿠버네티스를 위한 네이티브 자바 솔루션)',\n '실전 SPA 개발 Vue.js 3 + 스프링 부트',\n '클라우드 네이티브 자바 (스프링 마이크로서비스 아키텍처와 데브옵스를 실천하는 클라우드 기반 서)',\n '코틀린 리액티브 프로그래밍 (RxKotlin을 사용한 리액티브 프로그래밍)',\n '실전 SPA 개발 리액트 with 타입스크립트 + 스프링 부트',\n '실전 SPA 개발 Vue.js + 스프링 부트',\n '웹 개발자를 위한 Spring 4.0 프로그래밍',\n '인텔리제이 IDEA (기본 사용법부터 고급 기능까지 마스터하기)',\n 'Spring Security (스프링 시큐리티를 이용한 애플리케이션 보안)',\n '실전 스프링 부트 REST API 개발 JDBC + MySQL',\n '스프링 부트2 레시피 (다양한 예제로 스프링 부트 스타터부터 패키징까지 한 번에 따라하기)',\n '실전 스프링 부트 웹 개발 Mustache + JDBC + MySQL',\n '스타트 스프링 부트 (초급 개발자들을 위한 가볍고 넓은 스프링 부트)',\n '스프링4 입문 (웹 애플리케이션의 기초부터 클라우드 네이티브 입문까지)',\n 'DDD Start! (도메인 주도 설계 구현과 핵심 개념 익히기)',\n 'JUnit in Action (단위 테스트의 모든 것)',\n '실전 SPA 개발 리액트 + 스프링 부트',\n '실전 SPA 개발 Vue.js with 타입스크립트 + 스프링 부트',\n 'The Church of England in Newfoundland, No. 2 [microform] (Containing a Statement and Reply of Thomas E. Collett, Esq., J.P., a Brief Review of Proceedings Connected With the Clergy and Church in This Diocese During the Past Few Years, and Observations...)',\n '토비의 스프링 3.1 Vol. 2 (스프링의 기술과 선택)',\n '자바 성능 튜닝 (자바 성능 향상을 위한 완벽 가이드)',\n 'New Orleans Jazz, Mahalia Jackson and the Philosophy of Art, PB (vol2)',\n '실전! 스프링 5와 Vue.js 2로 시작하는 모던 웹 애플리케이션 개발 (스프링 부트와 Vuex를 활용한 실습 중심의 풀스택 웹 애플리케이션 개발)',\n '생계형 개발자, SI에서 살아남기',\n '스프링 웹 개발 마스터 세트 (토비의 스프링 3.1 Vol. 1 + 토비의 스프링 3.1 Vol. 2 + 스프링 MVC 프로그래밍, 3권)',\n 'All in One Java 애플리케이션 개발 (Spring, Hibernate, MyBatis를 활용한, 전자정부 표준 프레임워크 핵심 기술 기반)',\n '아날로그 오디오',\n 'JBoss AS 7 따라잡기 (강력한 오픈소스 자바 엔터프라이즈 애플리케이션 서버)',\n '거침없이 배우는 Drools (JBoss Drools rules를 이용하여 강력한 비즈니스 룰을 만들기 위한 40여 가지 방법)',\n 'JBoss AS 7 애플리케이션 개발 (JBoss 관리부터 자바EE 개발 배포 운영까지)',\n 'SPRING 3.0 프로그래밍 (웹 개발자를 위한)',\n '스프링 5.0 마스터 (스프링 부트, 스프링 클라우드, 마이크로서비스, 리액티브, 코틀린까지)',\n '웹 개발자를 위한 스프링 2.5 프로그래밍',\n 'Designing Applications with Spring Boot 2.2 and React JS: Step-by-step guide to design and develop intuitive full stack web applications',\n '오디오 Audio 2017.2',\n '스프링 부트 프로그래밍 입문',\n '가장 빨리 만나는 스프링 부트',\n '스프링3 입문 (스트럿츠 하이버네이트 마이바티스 연계)',\n '스프링 철저 입문 (처음부터 끝까지 철저하게 배우는 실무 중심의 스프링 프레임워크 완벽 입문서)',\n '오픈소스 JBoss로 확장형 대용량 시스템 만들기 세트 (전3권,JBoss AS 7 애플리케이션 개발+JBoss AS 7 따라잡기+JBoss 인피니스팬 따라잡기)',\n 'Hands-On Full Stack Development with Spring Boot 2 and React Second Edition',\n '자바 개발자를 위한 스칼라 프로그래밍',\n '스프링 프레임워크의 실제',\n 'JBoss 5 (빠르게 활용하는)',\n '하이버네이트 완벽 가이드 (자바 개발자를 위한 자바 퍼시스턴스 프로그래밍)',\n 'Java How to Program, 11/E GE (Early Objects) (Early Objects)',\n 'Learn Spring for Android Application Development',\n 'Building Applications with Spring 5 and Kotlin(Paperback) (Build Scalable and Reactive applications with Spring combined with the productivity of Kotlin)',\n '스프링 3 레시피 (친절한 스프링 프레임워크 과제 해결서)',\n '하이버네이트 3 프로그래밍',\n '거침없이 배우는 JBoss (오픈소스 미들웨어 JBoss EAP 6 & AS 7 이해하기)',\n '프로 스프링 3 (스프링 프레임워크의 원리와 활용)',\n '비트 프로젝트 119호 (상위 1%를 만드는)',\n 'Professional Java (6/E)',\n '스프링 데이터 핵심 노트 (자바 데이터베이스 API를 위한)',\n 'Hands-On Full Stack Development with Spring Boot 2.0 and React']"
     },
     "execution_count": 19,
     "metadata": {},
     "output_type": "execute_result"
    }
   ],
   "source": [
    "titles = [result[\"items\"][n][\"title\"] for n in range(len(result[\"items\"]))]\n",
    "titles"
   ],
   "metadata": {
    "collapsed": false,
    "pycharm": {
     "name": "#%%\n"
    }
   }
  },
  {
   "cell_type": "code",
   "execution_count": 20,
   "outputs": [
    {
     "data": {
      "text/plain": "['김영한',\n '변구훈',\n 'Nisha Parameswaran Kurur',\n '채규태',\n '김영한|이일민',\n '향단코드',\n '향단코드',\n '향단코드',\n '최범균',\n '향단코드',\n 'Merrick Schincariol|Mike Keith',\n 'Konda|Madhusudhan',\n 'Malhotra|Raj',\n 'Not Available (NA)',\n 'Keith, Mike|Schincariol, Merrick|Nardone, Massimo',\n 'Springer Verlag',\n 'Yang|Daoqi',\n 'GONCALVES|Antonio',\n 'Blokdyk|Gerardus',\n '溝口賢司',\n 'Grasset|J. P. A.',\n '이동욱',\n '채규태',\n '윤석진',\n '니콜라스 S. 윌리엄스',\n 'Mckenzie, Cameron Wallace|Sheehan, Kerri (EDT)',\n 'まんだらけ出版部',\n 'ギャップ.ジャパン',\n '<b>Jpa</b> McHugh',\n '최범균',\n '톰 홈버그',\n '김다정',\n '마이클 미넬라',\n '구멍가게 코딩단',\n '크레이그 월즈',\n '애시시 사린|제이 샤르마',\n '향단코드',\n '율리아나 코스미나|롭 해롭|크리스 샤이퍼|클라렌스 호',\n '올레 도쿠카|이호르 로진스키',\n '채규태',\n '랑가 라오 카라남',\n '김인우',\n '마틴 데니엄|다니엘 루비오|조시 롱',\n '연서은',\n '알렉스 소토 부에노',\n '향단코드',\n '조쉬 롱|케니 바스타니',\n '리부 차크라보티',\n '향단코드',\n '향단코드',\n '최범균',\n '야마모토 유스케|이마이 마사노부',\n '믹 넛슨|로버트 윈치|피터 뮬라리엔',\n '향단코드',\n '마틴 데이넘',\n '향단코드',\n '구멍가게 코딩단',\n '하세가와 유이치|오오노 와타루|토키 코헤이',\n '최범균',\n '피터 타치브|펠리페 레미|빈센트 마솔|게리 그레고리',\n '향단코드',\n '향단코드',\n 'Thomas E. (Thomas Edwards) Collett',\n '이일민',\n '스캇 오크스',\n 'marleen Hengelaar-Rookmaaker',\n '제임스 J. 예',\n '연서은',\n '이일민|마틴 데니엄|코엔 세르닐즈|콜린 예이츠|세스 래드',\n '전병선',\n '김기인',\n '프란체스코 마르치오니',\n '루카스 아마도르',\n '프란체스코 마르치오니',\n '최범균',\n '랑가 라오 카라남',\n '최범균',\n 'Rajput|Dinesh',\n '편집부',\n '쇼다 츠야노',\n '마키 토시아키',\n '하세가와 유이치|오오노 와타루|토키 코헤이',\n '주식회사 NTT 데이터',\n '프란체스코 마르치오니|마닉 수르타니',\n 'Juha Hinkula',\n '토마스 알렉산더',\n 'Willie Wheeler|Joshua White',\n '노먼 리차드|샘 그리피스 주니어',\n '크리스찬 바우어|개빈 킹',\n 'Deitel',\n 'S. M. Mohi Us Sunnat',\n 'Vasic|Milos',\n '게리 막',\n '최범균',\n '전준식',\n '클라렌스 호|롭 해롭',\n '조현정',\n 'Donald Avondolio|W. Clay Richardson|Scot Schrager',\n '마드후수단 콘다',\n 'Juha Hinkula']"
     },
     "execution_count": 20,
     "metadata": {},
     "output_type": "execute_result"
    }
   ],
   "source": [
    "authors = [result[\"items\"][n][\"author\"] for n in range(len(result[\"items\"]))]\n",
    "authors"
   ],
   "metadata": {
    "collapsed": false,
    "pycharm": {
     "name": "#%%\n"
    }
   }
  },
  {
   "cell_type": "code",
   "execution_count": 21,
   "outputs": [
    {
     "data": {
      "text/plain": "['20150728',\n '20210907',\n '20220312',\n '20200901',\n '20150731',\n '20210316',\n '20200413',\n '20210331',\n '20170531',\n '20200427',\n '20090601',\n '20120616',\n '20191007',\n '20040930',\n '20180614',\n '20140513',\n '20130927',\n '19000101',\n '20181115',\n '20170803',\n '20160827',\n '20191129',\n '20160630',\n '20180629',\n '20150216',\n '20080626',\n '20121208',\n '20040101',\n '20090101',\n '20220321',\n '20211126',\n '20210930',\n '20210430',\n '20201225',\n '20200514',\n '20200501',\n '20220413',\n '20190917',\n '20190621',\n '20190621',\n '20200916',\n '20190325',\n '20180901',\n '20201211',\n '20210428',\n '20220223',\n '20180629',\n '20190430',\n '20220126',\n '20220118',\n '20140805',\n '20181220',\n '20190129',\n '20211228',\n '20190816',\n '20211021',\n '20170720',\n '20171101',\n '20160527',\n '20110703',\n '20210915',\n '20210909',\n '20210910',\n '20120921',\n '20160329',\n '20210404',\n '20200121',\n '20200618',\n '20131001',\n '20141222',\n '20181101',\n '20131223',\n '20140217',\n '20140213',\n '20100628',\n '20180820',\n '20080310',\n '20190726',\n '20170202',\n '20170403',\n '20150702',\n '20131010',\n '20180315',\n '20140220',\n '20190523',\n '20150430',\n '20150518',\n '20110707',\n '20100615',\n '20180101',\n '20190124',\n '20181129',\n '20110330',\n '20070411',\n '20140227',\n '20120928',\n '20090120',\n '20070103',\n '20130722',\n '20180621']"
     },
     "execution_count": 21,
     "metadata": {},
     "output_type": "execute_result"
    }
   ],
   "source": [
    "publish_date = [result[\"items\"][n][\"pubdate\"] for n in range(len(result[\"items\"]))]\n",
    "publish_date"
   ],
   "metadata": {
    "collapsed": false,
    "pycharm": {
     "name": "#%%\n"
    }
   }
  },
  {
   "cell_type": "code",
   "execution_count": 22,
   "outputs": [
    {
     "data": {
      "text/plain": "                                                 책 제목  \\\n0   자바 ORM 표준 <b>JPA</b> 프로그래밍 (에이콘 오픈 소스 프로그래밍 시리...   \n1   백견불여일타 스프링 부트 쇼핑몰 프로젝트 with <b>JPA</b> (이젠 프로젝...   \n2   Mastering Java Persistence API (<b>JPA</b>) (R...   \n3                                     <b>JPA</b> 퀵스타트   \n4   스프링과 <b>JPA</b>를 활용한 자바 엔터프라이즈 애플리케이션 개발 세트 (전...   \n..                                                ...   \n95                       프로 스프링 3 (스프링 프레임워크의 원리와 활용)   \n96                          비트 프로젝트 119호 (상위 1%를 만드는)   \n97                            Professional Java (6/E)   \n98                  스프링 데이터 핵심 노트 (자바 데이터베이스 API를 위한)   \n99  Hands-On Full Stack Development with Spring Bo...   \n\n                                                   작가       출판일  \n0                                                 김영한  20150728  \n1                                                 변구훈  20210907  \n2                            Nisha Parameswaran Kurur  20220312  \n3                                                 채규태  20200901  \n4                                             김영한|이일민  20150731  \n..                                                ...       ...  \n95                                        클라렌스 호|롭 해롭  20120928  \n96                                                조현정  20090120  \n97  Donald Avondolio|W. Clay Richardson|Scot Schrager  20070103  \n98                                           마드후수단 콘다  20130722  \n99                                       Juha Hinkula  20180621  \n\n[100 rows x 3 columns]",
      "text/html": "<div>\n<style scoped>\n    .dataframe tbody tr th:only-of-type {\n        vertical-align: middle;\n    }\n\n    .dataframe tbody tr th {\n        vertical-align: top;\n    }\n\n    .dataframe thead th {\n        text-align: right;\n    }\n</style>\n<table border=\"1\" class=\"dataframe\">\n  <thead>\n    <tr style=\"text-align: right;\">\n      <th></th>\n      <th>책 제목</th>\n      <th>작가</th>\n      <th>출판일</th>\n    </tr>\n  </thead>\n  <tbody>\n    <tr>\n      <th>0</th>\n      <td>자바 ORM 표준 &lt;b&gt;JPA&lt;/b&gt; 프로그래밍 (에이콘 오픈 소스 프로그래밍 시리...</td>\n      <td>김영한</td>\n      <td>20150728</td>\n    </tr>\n    <tr>\n      <th>1</th>\n      <td>백견불여일타 스프링 부트 쇼핑몰 프로젝트 with &lt;b&gt;JPA&lt;/b&gt; (이젠 프로젝...</td>\n      <td>변구훈</td>\n      <td>20210907</td>\n    </tr>\n    <tr>\n      <th>2</th>\n      <td>Mastering Java Persistence API (&lt;b&gt;JPA&lt;/b&gt;) (R...</td>\n      <td>Nisha Parameswaran Kurur</td>\n      <td>20220312</td>\n    </tr>\n    <tr>\n      <th>3</th>\n      <td>&lt;b&gt;JPA&lt;/b&gt; 퀵스타트</td>\n      <td>채규태</td>\n      <td>20200901</td>\n    </tr>\n    <tr>\n      <th>4</th>\n      <td>스프링과 &lt;b&gt;JPA&lt;/b&gt;를 활용한 자바 엔터프라이즈 애플리케이션 개발 세트 (전...</td>\n      <td>김영한|이일민</td>\n      <td>20150731</td>\n    </tr>\n    <tr>\n      <th>...</th>\n      <td>...</td>\n      <td>...</td>\n      <td>...</td>\n    </tr>\n    <tr>\n      <th>95</th>\n      <td>프로 스프링 3 (스프링 프레임워크의 원리와 활용)</td>\n      <td>클라렌스 호|롭 해롭</td>\n      <td>20120928</td>\n    </tr>\n    <tr>\n      <th>96</th>\n      <td>비트 프로젝트 119호 (상위 1%를 만드는)</td>\n      <td>조현정</td>\n      <td>20090120</td>\n    </tr>\n    <tr>\n      <th>97</th>\n      <td>Professional Java (6/E)</td>\n      <td>Donald Avondolio|W. Clay Richardson|Scot Schrager</td>\n      <td>20070103</td>\n    </tr>\n    <tr>\n      <th>98</th>\n      <td>스프링 데이터 핵심 노트 (자바 데이터베이스 API를 위한)</td>\n      <td>마드후수단 콘다</td>\n      <td>20130722</td>\n    </tr>\n    <tr>\n      <th>99</th>\n      <td>Hands-On Full Stack Development with Spring Bo...</td>\n      <td>Juha Hinkula</td>\n      <td>20180621</td>\n    </tr>\n  </tbody>\n</table>\n<p>100 rows × 3 columns</p>\n</div>"
     },
     "execution_count": 22,
     "metadata": {},
     "output_type": "execute_result"
    }
   ],
   "source": [
    "pd.DataFrame({\n",
    "    \"책 제목\": titles,\n",
    "    \"작가\": authors,\n",
    "    \"출판일\": publish_date\n",
    "})"
   ],
   "metadata": {
    "collapsed": false,
    "pycharm": {
     "name": "#%%\n"
    }
   }
  },
  {
   "cell_type": "markdown",
   "source": [
    "**2) 사용자 정의 함수 : get_dataframe()**\n",
    "1.   parameter 값 정의: url\n",
    "2.   return 값 정의 : DataFrame\n",
    "3.   함수명 정의: def get_dataframe(url)"
   ],
   "metadata": {
    "collapsed": false
   }
  },
  {
   "cell_type": "code",
   "execution_count": 25,
   "outputs": [],
   "source": [
    "def get_dataFrame(url):\n",
    "    req = urllib.request.Request(url)\n",
    "    req.add_header(\"X-Naver-Client-Id\",client_id)\n",
    "    req.add_header(\"X-Naver-Client-Secret\",client_secret)\n",
    "\n",
    "    res = urllib.request.urlopen(req)\n",
    "    result = json.loads(res.read().decode(\"utf-8\"))\n",
    "\n",
    "    end_num = result[\"display\"]\n",
    "    # end_num = len(result[\"items\"])\n",
    "\n",
    "    titles = [result[\"items\"][n][\"title\"] for n in range(end_num)]\n",
    "    authors = [result[\"items\"][n][\"author\"] for n in range(end_num)]\n",
    "    publish_date = [result[\"items\"][n][\"pubdate\"] for n in range(end_num)]\n",
    "\n",
    "    return pd.DataFrame({\n",
    "        \"책 제목\": titles,\n",
    "        \"작가\": authors,\n",
    "        \"출판일\": publish_date\n",
    "    })"
   ],
   "metadata": {
    "collapsed": false,
    "pycharm": {
     "name": "#%%\n"
    }
   }
  },
  {
   "cell_type": "code",
   "execution_count": 26,
   "outputs": [
    {
     "data": {
      "text/plain": "                                                 책 제목  \\\n0   자바 ORM 표준 <b>JPA</b> 프로그래밍 (에이콘 오픈 소스 프로그래밍 시리...   \n1   백견불여일타 스프링 부트 쇼핑몰 프로젝트 with <b>JPA</b> (이젠 프로젝...   \n2   Mastering Java Persistence API (<b>JPA</b>) (R...   \n3                                     <b>JPA</b> 퀵스타트   \n4   스프링과 <b>JPA</b>를 활용한 자바 엔터프라이즈 애플리케이션 개발 세트 (전...   \n..                                                ...   \n95                       프로 스프링 3 (스프링 프레임워크의 원리와 활용)   \n96                          비트 프로젝트 119호 (상위 1%를 만드는)   \n97                            Professional Java (6/E)   \n98                  스프링 데이터 핵심 노트 (자바 데이터베이스 API를 위한)   \n99  Hands-On Full Stack Development with Spring Bo...   \n\n                                                   작가       출판일  \n0                                                 김영한  20150728  \n1                                                 변구훈  20210907  \n2                            Nisha Parameswaran Kurur  20220312  \n3                                                 채규태  20200901  \n4                                             김영한|이일민  20150731  \n..                                                ...       ...  \n95                                        클라렌스 호|롭 해롭  20120928  \n96                                                조현정  20090120  \n97  Donald Avondolio|W. Clay Richardson|Scot Schrager  20070103  \n98                                           마드후수단 콘다  20130722  \n99                                       Juha Hinkula  20180621  \n\n[100 rows x 3 columns]",
      "text/html": "<div>\n<style scoped>\n    .dataframe tbody tr th:only-of-type {\n        vertical-align: middle;\n    }\n\n    .dataframe tbody tr th {\n        vertical-align: top;\n    }\n\n    .dataframe thead th {\n        text-align: right;\n    }\n</style>\n<table border=\"1\" class=\"dataframe\">\n  <thead>\n    <tr style=\"text-align: right;\">\n      <th></th>\n      <th>책 제목</th>\n      <th>작가</th>\n      <th>출판일</th>\n    </tr>\n  </thead>\n  <tbody>\n    <tr>\n      <th>0</th>\n      <td>자바 ORM 표준 &lt;b&gt;JPA&lt;/b&gt; 프로그래밍 (에이콘 오픈 소스 프로그래밍 시리...</td>\n      <td>김영한</td>\n      <td>20150728</td>\n    </tr>\n    <tr>\n      <th>1</th>\n      <td>백견불여일타 스프링 부트 쇼핑몰 프로젝트 with &lt;b&gt;JPA&lt;/b&gt; (이젠 프로젝...</td>\n      <td>변구훈</td>\n      <td>20210907</td>\n    </tr>\n    <tr>\n      <th>2</th>\n      <td>Mastering Java Persistence API (&lt;b&gt;JPA&lt;/b&gt;) (R...</td>\n      <td>Nisha Parameswaran Kurur</td>\n      <td>20220312</td>\n    </tr>\n    <tr>\n      <th>3</th>\n      <td>&lt;b&gt;JPA&lt;/b&gt; 퀵스타트</td>\n      <td>채규태</td>\n      <td>20200901</td>\n    </tr>\n    <tr>\n      <th>4</th>\n      <td>스프링과 &lt;b&gt;JPA&lt;/b&gt;를 활용한 자바 엔터프라이즈 애플리케이션 개발 세트 (전...</td>\n      <td>김영한|이일민</td>\n      <td>20150731</td>\n    </tr>\n    <tr>\n      <th>...</th>\n      <td>...</td>\n      <td>...</td>\n      <td>...</td>\n    </tr>\n    <tr>\n      <th>95</th>\n      <td>프로 스프링 3 (스프링 프레임워크의 원리와 활용)</td>\n      <td>클라렌스 호|롭 해롭</td>\n      <td>20120928</td>\n    </tr>\n    <tr>\n      <th>96</th>\n      <td>비트 프로젝트 119호 (상위 1%를 만드는)</td>\n      <td>조현정</td>\n      <td>20090120</td>\n    </tr>\n    <tr>\n      <th>97</th>\n      <td>Professional Java (6/E)</td>\n      <td>Donald Avondolio|W. Clay Richardson|Scot Schrager</td>\n      <td>20070103</td>\n    </tr>\n    <tr>\n      <th>98</th>\n      <td>스프링 데이터 핵심 노트 (자바 데이터베이스 API를 위한)</td>\n      <td>마드후수단 콘다</td>\n      <td>20130722</td>\n    </tr>\n    <tr>\n      <th>99</th>\n      <td>Hands-On Full Stack Development with Spring Bo...</td>\n      <td>Juha Hinkula</td>\n      <td>20180621</td>\n    </tr>\n  </tbody>\n</table>\n<p>100 rows × 3 columns</p>\n</div>"
     },
     "execution_count": 26,
     "metadata": {},
     "output_type": "execute_result"
    }
   ],
   "source": [
    "api_url = create_url(\"book\", \"jpa\", 1, 100)\n",
    "result_data = get_dataFrame(api_url)\n",
    "result_data"
   ],
   "metadata": {
    "collapsed": false,
    "pycharm": {
     "name": "#%%\n"
    }
   }
  },
  {
   "cell_type": "markdown",
   "source": [
    "질문)\n",
    "**어떻게 한번에 100개 이상의 데이터를 다운로드 받을 것인가?**"
   ],
   "metadata": {
    "collapsed": false
   }
  },
  {
   "cell_type": "code",
   "execution_count": 27,
   "outputs": [
    {
     "data": {
      "text/plain": "[1, 101, 201]"
     },
     "execution_count": 27,
     "metadata": {},
     "output_type": "execute_result"
    }
   ],
   "source": [
    "#start_num\n",
    "[n for n in range(1,300,100)] # [출력할 놈 for n in range(1부터, 300까지, 100씩 증가)]"
   ],
   "metadata": {
    "collapsed": false,
    "pycharm": {
     "name": "#%%\n"
    }
   }
  },
  {
   "cell_type": "code",
   "execution_count": 37,
   "outputs": [
    {
     "data": {
      "text/plain": "                                                 책 제목  \\\n0   자바 ORM 표준 <b>JPA</b> 프로그래밍 (에이콘 오픈 소스 프로그래밍 시리...   \n1   백견불여일타 스프링 부트 쇼핑몰 프로젝트 with <b>JPA</b> (이젠 프로젝...   \n2   Mastering Java Persistence API (<b>JPA</b>) (R...   \n3                                     <b>JPA</b> 퀵스타트   \n4   스프링과 <b>JPA</b>를 활용한 자바 엔터프라이즈 애플리케이션 개발 세트 (전...   \n..                                                ...   \n45                       Beginning Spring Framework 2   \n46  Real World Java Ee Night Hacks Dissecting the ...   \n47                                           스프링 인 액션   \n48                                           스프링 인 액션   \n49                                         Pro Spring   \n\n                                          작가       출판일  \n0                                        김영한  20150728  \n1                                        변구훈  20210907  \n2                   Nisha Parameswaran Kurur  20220312  \n3                                        채규태  20200901  \n4                                    김영한|이일민  20150731  \n..                                       ...       ...  \n45                       Thomas Van De Velde  20080310  \n46                                 Adam Bien  20110609  \n47                                   크레이그 월즈  20151229  \n48                                   크레이그 월즈  20120210  \n49  Schaefer, Chris|Ho, Clarence|Harrop, Rob  20141118  \n\n[150 rows x 3 columns]",
      "text/html": "<div>\n<style scoped>\n    .dataframe tbody tr th:only-of-type {\n        vertical-align: middle;\n    }\n\n    .dataframe tbody tr th {\n        vertical-align: top;\n    }\n\n    .dataframe thead th {\n        text-align: right;\n    }\n</style>\n<table border=\"1\" class=\"dataframe\">\n  <thead>\n    <tr style=\"text-align: right;\">\n      <th></th>\n      <th>책 제목</th>\n      <th>작가</th>\n      <th>출판일</th>\n    </tr>\n  </thead>\n  <tbody>\n    <tr>\n      <th>0</th>\n      <td>자바 ORM 표준 &lt;b&gt;JPA&lt;/b&gt; 프로그래밍 (에이콘 오픈 소스 프로그래밍 시리...</td>\n      <td>김영한</td>\n      <td>20150728</td>\n    </tr>\n    <tr>\n      <th>1</th>\n      <td>백견불여일타 스프링 부트 쇼핑몰 프로젝트 with &lt;b&gt;JPA&lt;/b&gt; (이젠 프로젝...</td>\n      <td>변구훈</td>\n      <td>20210907</td>\n    </tr>\n    <tr>\n      <th>2</th>\n      <td>Mastering Java Persistence API (&lt;b&gt;JPA&lt;/b&gt;) (R...</td>\n      <td>Nisha Parameswaran Kurur</td>\n      <td>20220312</td>\n    </tr>\n    <tr>\n      <th>3</th>\n      <td>&lt;b&gt;JPA&lt;/b&gt; 퀵스타트</td>\n      <td>채규태</td>\n      <td>20200901</td>\n    </tr>\n    <tr>\n      <th>4</th>\n      <td>스프링과 &lt;b&gt;JPA&lt;/b&gt;를 활용한 자바 엔터프라이즈 애플리케이션 개발 세트 (전...</td>\n      <td>김영한|이일민</td>\n      <td>20150731</td>\n    </tr>\n    <tr>\n      <th>...</th>\n      <td>...</td>\n      <td>...</td>\n      <td>...</td>\n    </tr>\n    <tr>\n      <th>45</th>\n      <td>Beginning Spring Framework 2</td>\n      <td>Thomas Van De Velde</td>\n      <td>20080310</td>\n    </tr>\n    <tr>\n      <th>46</th>\n      <td>Real World Java Ee Night Hacks Dissecting the ...</td>\n      <td>Adam Bien</td>\n      <td>20110609</td>\n    </tr>\n    <tr>\n      <th>47</th>\n      <td>스프링 인 액션</td>\n      <td>크레이그 월즈</td>\n      <td>20151229</td>\n    </tr>\n    <tr>\n      <th>48</th>\n      <td>스프링 인 액션</td>\n      <td>크레이그 월즈</td>\n      <td>20120210</td>\n    </tr>\n    <tr>\n      <th>49</th>\n      <td>Pro Spring</td>\n      <td>Schaefer, Chris|Ho, Clarence|Harrop, Rob</td>\n      <td>20141118</td>\n    </tr>\n  </tbody>\n</table>\n<p>150 rows × 3 columns</p>\n</div>"
     },
     "execution_count": 37,
     "metadata": {},
     "output_type": "execute_result"
    }
   ],
   "source": [
    "result_search = []\n",
    "\n",
    "for n in range(1, 300, 100):\n",
    "    url = create_url(\"book\", \"jpa\", n, 100)\n",
    "    result_search.append(get_dataFrame(url))\n",
    "\n",
    "result_search = pd.concat(result_search) # list 안의 각각 데이터를 합쳐줌 , 각각 dataFrame들을 합쳐줌, pd.concat([df, df, df])\n",
    "result_search"
   ],
   "metadata": {
    "collapsed": false,
    "pycharm": {
     "name": "#%%\n"
    }
   }
  },
  {
   "cell_type": "markdown",
   "source": [
    "# 판다스 데이블 전체보기\n",
    "#pd.set_option('display.max_rows', None)\n",
    "# 판다스 초기화\n",
    "pd.reset_option('^display.', silent=True)"
   ],
   "metadata": {
    "collapsed": false
   }
  },
  {
   "cell_type": "markdown",
   "source": [
    "**3) 사용자 정의 함수 : get_naversearch()**\n",
    "1.   parameter 값 정의: search_type, search_text, total_num, display_num\n",
    "2.   return 값 정의 : DataFrame\n",
    "3.   함수명 정의: def naversearch(search_type, search_text, total_num, display_num)"
   ],
   "metadata": {
    "collapsed": false
   }
  },
  {
   "cell_type": "code",
   "execution_count": 38,
   "outputs": [],
   "source": [
    "result_search = []\n",
    "def get_naverSearch (search_type, search_text, total_num, display_num):\n",
    "  for n in range(1, total_num, display_num):\n",
    "    api_url = create_url(search_type, search_text, n, display_num)\n",
    "    result_search.append(get_dataFrame(api_url))\n",
    "  return pd.concat(result_search)"
   ],
   "metadata": {
    "collapsed": false,
    "pycharm": {
     "name": "#%%\n"
    }
   }
  },
  {
   "cell_type": "code",
   "execution_count": 39,
   "outputs": [
    {
     "data": {
      "text/plain": "                                                 책 제목  \\\n0   자바 ORM 표준 <b>JPA</b> 프로그래밍 (에이콘 오픈 소스 프로그래밍 시리...   \n1   백견불여일타 스프링 부트 쇼핑몰 프로젝트 with <b>JPA</b> (이젠 프로젝...   \n2   Mastering Java Persistence API (<b>JPA</b>) (R...   \n3                                     <b>JPA</b> 퀵스타트   \n4   스프링과 <b>JPA</b>를 활용한 자바 엔터프라이즈 애플리케이션 개발 세트 (전...   \n..                                                ...   \n45                       Beginning Spring Framework 2   \n46  Real World Java Ee Night Hacks Dissecting the ...   \n47                                           스프링 인 액션   \n48                                           스프링 인 액션   \n49                                         Pro Spring   \n\n                                          작가       출판일  \n0                                        김영한  20150728  \n1                                        변구훈  20210907  \n2                   Nisha Parameswaran Kurur  20220312  \n3                                        채규태  20200901  \n4                                    김영한|이일민  20150731  \n..                                       ...       ...  \n45                       Thomas Van De Velde  20080310  \n46                                 Adam Bien  20110609  \n47                                   크레이그 월즈  20151229  \n48                                   크레이그 월즈  20120210  \n49  Schaefer, Chris|Ho, Clarence|Harrop, Rob  20141118  \n\n[150 rows x 3 columns]",
      "text/html": "<div>\n<style scoped>\n    .dataframe tbody tr th:only-of-type {\n        vertical-align: middle;\n    }\n\n    .dataframe tbody tr th {\n        vertical-align: top;\n    }\n\n    .dataframe thead th {\n        text-align: right;\n    }\n</style>\n<table border=\"1\" class=\"dataframe\">\n  <thead>\n    <tr style=\"text-align: right;\">\n      <th></th>\n      <th>책 제목</th>\n      <th>작가</th>\n      <th>출판일</th>\n    </tr>\n  </thead>\n  <tbody>\n    <tr>\n      <th>0</th>\n      <td>자바 ORM 표준 &lt;b&gt;JPA&lt;/b&gt; 프로그래밍 (에이콘 오픈 소스 프로그래밍 시리...</td>\n      <td>김영한</td>\n      <td>20150728</td>\n    </tr>\n    <tr>\n      <th>1</th>\n      <td>백견불여일타 스프링 부트 쇼핑몰 프로젝트 with &lt;b&gt;JPA&lt;/b&gt; (이젠 프로젝...</td>\n      <td>변구훈</td>\n      <td>20210907</td>\n    </tr>\n    <tr>\n      <th>2</th>\n      <td>Mastering Java Persistence API (&lt;b&gt;JPA&lt;/b&gt;) (R...</td>\n      <td>Nisha Parameswaran Kurur</td>\n      <td>20220312</td>\n    </tr>\n    <tr>\n      <th>3</th>\n      <td>&lt;b&gt;JPA&lt;/b&gt; 퀵스타트</td>\n      <td>채규태</td>\n      <td>20200901</td>\n    </tr>\n    <tr>\n      <th>4</th>\n      <td>스프링과 &lt;b&gt;JPA&lt;/b&gt;를 활용한 자바 엔터프라이즈 애플리케이션 개발 세트 (전...</td>\n      <td>김영한|이일민</td>\n      <td>20150731</td>\n    </tr>\n    <tr>\n      <th>...</th>\n      <td>...</td>\n      <td>...</td>\n      <td>...</td>\n    </tr>\n    <tr>\n      <th>45</th>\n      <td>Beginning Spring Framework 2</td>\n      <td>Thomas Van De Velde</td>\n      <td>20080310</td>\n    </tr>\n    <tr>\n      <th>46</th>\n      <td>Real World Java Ee Night Hacks Dissecting the ...</td>\n      <td>Adam Bien</td>\n      <td>20110609</td>\n    </tr>\n    <tr>\n      <th>47</th>\n      <td>스프링 인 액션</td>\n      <td>크레이그 월즈</td>\n      <td>20151229</td>\n    </tr>\n    <tr>\n      <th>48</th>\n      <td>스프링 인 액션</td>\n      <td>크레이그 월즈</td>\n      <td>20120210</td>\n    </tr>\n    <tr>\n      <th>49</th>\n      <td>Pro Spring</td>\n      <td>Schaefer, Chris|Ho, Clarence|Harrop, Rob</td>\n      <td>20141118</td>\n    </tr>\n  </tbody>\n</table>\n<p>150 rows × 3 columns</p>\n</div>"
     },
     "execution_count": 39,
     "metadata": {},
     "output_type": "execute_result"
    }
   ],
   "source": [
    "final_result = get_naverSearch(\"book\", \"jpa\", 300, 100)\n",
    "final_result"
   ],
   "metadata": {
    "collapsed": false,
    "pycharm": {
     "name": "#%%\n"
    }
   }
  },
  {
   "cell_type": "code",
   "execution_count": 41,
   "outputs": [
    {
     "data": {
      "text/plain": "                                                책 제목  \\\n0  자바 ORM 표준 <b>JPA</b> 프로그래밍 (에이콘 오픈 소스 프로그래밍 시리...   \n1  백견불여일타 스프링 부트 쇼핑몰 프로젝트 with <b>JPA</b> (이젠 프로젝...   \n2  Mastering Java Persistence API (<b>JPA</b>) (R...   \n3                                    <b>JPA</b> 퀵스타트   \n4  스프링과 <b>JPA</b>를 활용한 자바 엔터프라이즈 애플리케이션 개발 세트 (전...   \n5  실전 스프링 부트 웹 개발 Thymeleaf + <b>JPA</b> + MySQL 개정판   \n6      실전 스프링 부트 웹 개발 Thymeleaf + <b>JPA</b> + MySQL   \n7       실전 스프링 부트 REST API 개발 <b>JPA</b> + MySQL 개정판   \n8                                <b>JPA</b> 프로그래밍 입문   \n9           실전 스프링 부트 REST API 개발 <b>JPA</b> + MySQL   \n\n                         작가       출판일  \n0                       김영한  20150728  \n1                       변구훈  20210907  \n2  Nisha Parameswaran Kurur  20220312  \n3                       채규태  20200901  \n4                   김영한|이일민  20150731  \n5                      향단코드  20210316  \n6                      향단코드  20200413  \n7                      향단코드  20210331  \n8                       최범균  20170531  \n9                      향단코드  20200427  ",
      "text/html": "<div>\n<style scoped>\n    .dataframe tbody tr th:only-of-type {\n        vertical-align: middle;\n    }\n\n    .dataframe tbody tr th {\n        vertical-align: top;\n    }\n\n    .dataframe thead th {\n        text-align: right;\n    }\n</style>\n<table border=\"1\" class=\"dataframe\">\n  <thead>\n    <tr style=\"text-align: right;\">\n      <th></th>\n      <th>책 제목</th>\n      <th>작가</th>\n      <th>출판일</th>\n    </tr>\n  </thead>\n  <tbody>\n    <tr>\n      <th>0</th>\n      <td>자바 ORM 표준 &lt;b&gt;JPA&lt;/b&gt; 프로그래밍 (에이콘 오픈 소스 프로그래밍 시리...</td>\n      <td>김영한</td>\n      <td>20150728</td>\n    </tr>\n    <tr>\n      <th>1</th>\n      <td>백견불여일타 스프링 부트 쇼핑몰 프로젝트 with &lt;b&gt;JPA&lt;/b&gt; (이젠 프로젝...</td>\n      <td>변구훈</td>\n      <td>20210907</td>\n    </tr>\n    <tr>\n      <th>2</th>\n      <td>Mastering Java Persistence API (&lt;b&gt;JPA&lt;/b&gt;) (R...</td>\n      <td>Nisha Parameswaran Kurur</td>\n      <td>20220312</td>\n    </tr>\n    <tr>\n      <th>3</th>\n      <td>&lt;b&gt;JPA&lt;/b&gt; 퀵스타트</td>\n      <td>채규태</td>\n      <td>20200901</td>\n    </tr>\n    <tr>\n      <th>4</th>\n      <td>스프링과 &lt;b&gt;JPA&lt;/b&gt;를 활용한 자바 엔터프라이즈 애플리케이션 개발 세트 (전...</td>\n      <td>김영한|이일민</td>\n      <td>20150731</td>\n    </tr>\n    <tr>\n      <th>5</th>\n      <td>실전 스프링 부트 웹 개발 Thymeleaf + &lt;b&gt;JPA&lt;/b&gt; + MySQL 개정판</td>\n      <td>향단코드</td>\n      <td>20210316</td>\n    </tr>\n    <tr>\n      <th>6</th>\n      <td>실전 스프링 부트 웹 개발 Thymeleaf + &lt;b&gt;JPA&lt;/b&gt; + MySQL</td>\n      <td>향단코드</td>\n      <td>20200413</td>\n    </tr>\n    <tr>\n      <th>7</th>\n      <td>실전 스프링 부트 REST API 개발 &lt;b&gt;JPA&lt;/b&gt; + MySQL 개정판</td>\n      <td>향단코드</td>\n      <td>20210331</td>\n    </tr>\n    <tr>\n      <th>8</th>\n      <td>&lt;b&gt;JPA&lt;/b&gt; 프로그래밍 입문</td>\n      <td>최범균</td>\n      <td>20170531</td>\n    </tr>\n    <tr>\n      <th>9</th>\n      <td>실전 스프링 부트 REST API 개발 &lt;b&gt;JPA&lt;/b&gt; + MySQL</td>\n      <td>향단코드</td>\n      <td>20200427</td>\n    </tr>\n  </tbody>\n</table>\n</div>"
     },
     "execution_count": 41,
     "metadata": {},
     "output_type": "execute_result"
    }
   ],
   "source": [
    "final_result.head() # 5개 보여줌\n",
    "final_result.head(10) # 10개 보여줌"
   ],
   "metadata": {
    "collapsed": false,
    "pycharm": {
     "name": "#%%\n"
    }
   }
  },
  {
   "cell_type": "code",
   "execution_count": 42,
   "outputs": [
    {
     "data": {
      "text/plain": "                                                 책 제목  \\\n45                       Beginning Spring Framework 2   \n46  Real World Java Ee Night Hacks Dissecting the ...   \n47                                           스프링 인 액션   \n48                                           스프링 인 액션   \n49                                         Pro Spring   \n\n                                          작가       출판일  \n45                       Thomas Van De Velde  20080310  \n46                                 Adam Bien  20110609  \n47                                   크레이그 월즈  20151229  \n48                                   크레이그 월즈  20120210  \n49  Schaefer, Chris|Ho, Clarence|Harrop, Rob  20141118  ",
      "text/html": "<div>\n<style scoped>\n    .dataframe tbody tr th:only-of-type {\n        vertical-align: middle;\n    }\n\n    .dataframe tbody tr th {\n        vertical-align: top;\n    }\n\n    .dataframe thead th {\n        text-align: right;\n    }\n</style>\n<table border=\"1\" class=\"dataframe\">\n  <thead>\n    <tr style=\"text-align: right;\">\n      <th></th>\n      <th>책 제목</th>\n      <th>작가</th>\n      <th>출판일</th>\n    </tr>\n  </thead>\n  <tbody>\n    <tr>\n      <th>45</th>\n      <td>Beginning Spring Framework 2</td>\n      <td>Thomas Van De Velde</td>\n      <td>20080310</td>\n    </tr>\n    <tr>\n      <th>46</th>\n      <td>Real World Java Ee Night Hacks Dissecting the ...</td>\n      <td>Adam Bien</td>\n      <td>20110609</td>\n    </tr>\n    <tr>\n      <th>47</th>\n      <td>스프링 인 액션</td>\n      <td>크레이그 월즈</td>\n      <td>20151229</td>\n    </tr>\n    <tr>\n      <th>48</th>\n      <td>스프링 인 액션</td>\n      <td>크레이그 월즈</td>\n      <td>20120210</td>\n    </tr>\n    <tr>\n      <th>49</th>\n      <td>Pro Spring</td>\n      <td>Schaefer, Chris|Ho, Clarence|Harrop, Rob</td>\n      <td>20141118</td>\n    </tr>\n  </tbody>\n</table>\n</div>"
     },
     "execution_count": 42,
     "metadata": {},
     "output_type": "execute_result"
    }
   ],
   "source": [
    "final_result.tail() # 뒤에서 5개"
   ],
   "metadata": {
    "collapsed": false,
    "pycharm": {
     "name": "#%%\n"
    }
   }
  },
  {
   "cell_type": "code",
   "execution_count": 43,
   "outputs": [
    {
     "name": "stdout",
     "output_type": "stream",
     "text": [
      "<class 'pandas.core.frame.DataFrame'>\n",
      "Int64Index: 150 entries, 0 to 49\n",
      "Data columns (total 3 columns):\n",
      " #   Column  Non-Null Count  Dtype \n",
      "---  ------  --------------  ----- \n",
      " 0   책 제목    150 non-null    object\n",
      " 1   작가      150 non-null    object\n",
      " 2   출판일     150 non-null    object\n",
      "dtypes: object(3)\n",
      "memory usage: 4.7+ KB\n"
     ]
    }
   ],
   "source": [
    "final_result.info() # dtype 확인 중요함"
   ],
   "metadata": {
    "collapsed": false,
    "pycharm": {
     "name": "#%%\n"
    }
   }
  },
  {
   "cell_type": "code",
   "execution_count": null,
   "outputs": [],
   "source": [
    "# 엑셀 파일로 저장\n",
    "final_result.to_excel(\"book.xisx\", sheet_name=\"Sheet1\")"
   ],
   "metadata": {
    "collapsed": false,
    "pycharm": {
     "name": "#%%\n"
    }
   }
  }
 ],
 "metadata": {
  "kernelspec": {
   "display_name": "Python 3",
   "language": "python",
   "name": "python3"
  },
  "language_info": {
   "codemirror_mode": {
    "name": "ipython",
    "version": 2
   },
   "file_extension": ".py",
   "mimetype": "text/x-python",
   "name": "python",
   "nbconvert_exporter": "python",
   "pygments_lexer": "ipython2",
   "version": "2.7.6"
  }
 },
 "nbformat": 4,
 "nbformat_minor": 0
}