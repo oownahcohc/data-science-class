{
 "cells": [
  {
   "cell_type": "markdown",
   "source": [
    "## **정적 웹 페이지 크롤링**\n",
    "**Hollys Coffee 매장정보**"
   ],
   "metadata": {
    "collapsed": false
   }
  },
  {
   "cell_type": "code",
   "execution_count": 1,
   "metadata": {
    "collapsed": true
   },
   "outputs": [],
   "source": [
    "from bs4 import BeautifulSoup\n",
    "import urllib.request"
   ]
  },
  {
   "cell_type": "code",
   "execution_count": 2,
   "outputs": [],
   "source": [
    "store_name = []\n",
    "store_address = []\n",
    "store_tel = []\n",
    "\n",
    "for page in range(1, 58):\n",
    "    Hollys_url = 'https://www.hollys.co.kr/store/korea/korStore.do?pageNo=%d&sido=&gugun=&store=' %page\n",
    "    html_response = urllib.request.urlopen(Hollys_url)\n",
    "    html=html_response.read()\n",
    "\n",
    "    soupHollys = BeautifulSoup(html, 'html.parser')\n",
    "    tag_tbody = soupHollys.find('tbody')\n",
    "    tag_tr= tag_tbody.find_all('tr')\n",
    "    for n in range(len(tag_tr)):\n",
    "        tag_td= tag_tr[n].find_all('td')\n",
    "\n",
    "        store_name.append(tag_td[1].string)\n",
    "        store_address.append(tag_td[3].string)\n",
    "        store_tel.append(tag_td[5].string)"
   ],
   "metadata": {
    "collapsed": false,
    "pycharm": {
     "name": "#%%\n"
    }
   }
  },
  {
   "cell_type": "code",
   "execution_count": 3,
   "outputs": [],
   "source": [
    "import pandas as pd\n",
    "\n",
    "hollys_dic = {\n",
    "    \"매장이름\": store_name,\n",
    "    \"주소\": store_address,\n",
    "    \"전화번호\": store_tel\n",
    "}"
   ],
   "metadata": {
    "collapsed": false,
    "pycharm": {
     "name": "#%%\n"
    }
   }
  },
  {
   "cell_type": "code",
   "execution_count": 4,
   "outputs": [
    {
     "data": {
      "text/plain": "         매장이름                                       주소           전화번호\n0       부천심곡점                경기도 부천시 장말로 376 심곡동 355-1   032-612-7258\n1      성남터미널점   경기도 성남시 분당구 성남대로925번길 16, 성남종합버스터미널 1층   031-725-1004\n2     부산백양대로점                                  괘법동 141   051-311-5399\n3       왕십리역점  성동구 왕십리광장로 17 (행당동 168-151 ), 비트플렉스몰 3층   02-2200-1303\n4    홍대출판사거리점                     서울시 마포구 독막로7길 40, 1층    02-332-3567\n..        ...                                      ...            ...\n562      마포역점          서울시 마포구 도화동 555 한화오벨리스크B1 137~9    02-713-8788\n563       금천점               서울시 금천구 시흥대로 399, 씨티렉스604호    02-805-9908\n564      영등포점                        서울시 영등포구 경인로 847   070-4159-8897\n565       신촌점                         서울시 서대문구 연세로 34     02-393-2004\n566       성남점              경기도 성남시 수정구 수정로 175, 동일빌딩1층   031-721-6369\n\n[567 rows x 3 columns]",
      "text/html": "<div>\n<style scoped>\n    .dataframe tbody tr th:only-of-type {\n        vertical-align: middle;\n    }\n\n    .dataframe tbody tr th {\n        vertical-align: top;\n    }\n\n    .dataframe thead th {\n        text-align: right;\n    }\n</style>\n<table border=\"1\" class=\"dataframe\">\n  <thead>\n    <tr style=\"text-align: right;\">\n      <th></th>\n      <th>매장이름</th>\n      <th>주소</th>\n      <th>전화번호</th>\n    </tr>\n  </thead>\n  <tbody>\n    <tr>\n      <th>0</th>\n      <td>부천심곡점</td>\n      <td>경기도 부천시 장말로 376 심곡동 355-1</td>\n      <td>032-612-7258</td>\n    </tr>\n    <tr>\n      <th>1</th>\n      <td>성남터미널점</td>\n      <td>경기도 성남시 분당구 성남대로925번길 16, 성남종합버스터미널 1층</td>\n      <td>031-725-1004</td>\n    </tr>\n    <tr>\n      <th>2</th>\n      <td>부산백양대로점</td>\n      <td>괘법동 141</td>\n      <td>051-311-5399</td>\n    </tr>\n    <tr>\n      <th>3</th>\n      <td>왕십리역점</td>\n      <td>성동구 왕십리광장로 17 (행당동 168-151 ), 비트플렉스몰 3층</td>\n      <td>02-2200-1303</td>\n    </tr>\n    <tr>\n      <th>4</th>\n      <td>홍대출판사거리점</td>\n      <td>서울시 마포구 독막로7길 40, 1층</td>\n      <td>02-332-3567</td>\n    </tr>\n    <tr>\n      <th>...</th>\n      <td>...</td>\n      <td>...</td>\n      <td>...</td>\n    </tr>\n    <tr>\n      <th>562</th>\n      <td>마포역점</td>\n      <td>서울시 마포구 도화동 555 한화오벨리스크B1 137~9</td>\n      <td>02-713-8788</td>\n    </tr>\n    <tr>\n      <th>563</th>\n      <td>금천점</td>\n      <td>서울시 금천구 시흥대로 399, 씨티렉스604호</td>\n      <td>02-805-9908</td>\n    </tr>\n    <tr>\n      <th>564</th>\n      <td>영등포점</td>\n      <td>서울시 영등포구 경인로 847</td>\n      <td>070-4159-8897</td>\n    </tr>\n    <tr>\n      <th>565</th>\n      <td>신촌점</td>\n      <td>서울시 서대문구 연세로 34</td>\n      <td>02-393-2004</td>\n    </tr>\n    <tr>\n      <th>566</th>\n      <td>성남점</td>\n      <td>경기도 성남시 수정구 수정로 175, 동일빌딩1층</td>\n      <td>031-721-6369</td>\n    </tr>\n  </tbody>\n</table>\n<p>567 rows × 3 columns</p>\n</div>"
     },
     "execution_count": 4,
     "metadata": {},
     "output_type": "execute_result"
    }
   ],
   "source": [
    "hollys_store = pd.DataFrame(hollys_dic)\n",
    "hollys_store"
   ],
   "metadata": {
    "collapsed": false,
    "pycharm": {
     "name": "#%%\n"
    }
   }
  },
  {
   "cell_type": "code",
   "execution_count": null,
   "outputs": [],
   "source": [],
   "metadata": {
    "collapsed": false,
    "pycharm": {
     "name": "#%%\n"
    }
   }
  }
 ],
 "metadata": {
  "kernelspec": {
   "display_name": "Python 3",
   "language": "python",
   "name": "python3"
  },
  "language_info": {
   "codemirror_mode": {
    "name": "ipython",
    "version": 2
   },
   "file_extension": ".py",
   "mimetype": "text/x-python",
   "name": "python",
   "nbconvert_exporter": "python",
   "pygments_lexer": "ipython2",
   "version": "2.7.6"
  }
 },
 "nbformat": 4,
 "nbformat_minor": 0
}