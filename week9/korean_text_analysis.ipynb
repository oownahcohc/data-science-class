{
 "cells": [
  {
   "cell_type": "code",
   "execution_count": null,
   "metadata": {
    "collapsed": true
   },
   "outputs": [],
   "source": [
    "import json\n",
    "import re\n",
    "from konlpy.tag import Okt\n",
    "from collections import Counter\n",
    "import matplotlib\n",
    "import matplotlib.pyplot as plt\n",
    "from matplotlib import font_manager, rc\n",
    "from wordcloud import WordCloud"
   ]
  },
  {
   "cell_type": "code",
   "execution_count": null,
   "outputs": [],
   "source": [
    "dataOpen = open(\"./korean_text-1.json\", encoding='utf-8').read()\n",
    "data = json.loads(dataOpen)\n",
    "data"
   ],
   "metadata": {
    "collapsed": false,
    "pycharm": {
     "name": "#%%\n"
    }
   }
  },
  {
   "cell_type": "code",
   "execution_count": null,
   "outputs": [],
   "source": [
    "message = ''\n",
    "for n in data:\n",
    "    if 'message' in n.keys():\n",
    "        message = message + re.sub('[^\\w]', ' ', n['message'])+' ' # \\w = 문자, 숫자, 언더\n",
    "\n",
    "message"
   ],
   "metadata": {
    "collapsed": false,
    "pycharm": {
     "name": "#%%\n"
    }
   }
  },
  {
   "cell_type": "code",
   "execution_count": null,
   "outputs": [],
   "source": [
    "nlp = Okt()\n",
    "messageNouns = nlp.nouns(message)\n",
    "messageNouns"
   ],
   "metadata": {
    "collapsed": false,
    "pycharm": {
     "name": "#%%\n"
    }
   }
  },
  {
   "cell_type": "code",
   "execution_count": null,
   "outputs": [],
   "source": [
    "count = Counter(messageNouns)\n",
    "count"
   ],
   "metadata": {
    "collapsed": false,
    "pycharm": {
     "name": "#%%\n"
    }
   }
  },
  {
   "cell_type": "code",
   "execution_count": null,
   "outputs": [],
   "source": [
    "sorted(count.items(), key=lambda x: x[1], reverse=True) # 튜플로 반환 하는데 ([0], [1]) 이니깐 x[1] 뽑아 줘야함 ㅇㅇ"
   ],
   "metadata": {
    "collapsed": false,
    "pycharm": {
     "name": "#%%\n"
    }
   }
  },
  {
   "cell_type": "code",
   "execution_count": null,
   "outputs": [],
   "source": [
    "wordCount = dict()\n",
    "for tag, counts in count.most_common(50):\n",
    "    #print(tag, counts)\n",
    "    #print(type(tag))\n",
    "    if(len(tag)>1):\n",
    "        wordCount[tag] = counts\n",
    "        print('%s: %d' %(tag, counts))"
   ],
   "metadata": {
    "collapsed": false,
    "pycharm": {
     "name": "#%%\n"
    }
   }
  },
  {
   "cell_type": "code",
   "execution_count": null,
   "outputs": [],
   "source": [
    "# 구글링해서 긁어오셈 ㅇㅇ\n",
    "font_path = 'c:/Windows/fonts/gulim.ttc'\n",
    "font_name = font_manager.FontProperties(fname = font_path).get_name()\n",
    "matplotlib.rc('font', family = font_name)"
   ],
   "metadata": {
    "collapsed": false,
    "pycharm": {
     "name": "#%%\n"
    }
   }
  },
  {
   "cell_type": "code",
   "execution_count": null,
   "outputs": [],
   "source": [
    "plt.figure(figsize = (12, 5))\n",
    "plt.xlabel('키워드')\n",
    "plt.ylabel('빈도수')\n",
    "plt.grid(True)\n",
    "\n",
    "# 중요 ㅋㅋ\n",
    "sorted_keys = sorted(wordCount, key=count.get, reverse=True) # sort 중요함\n",
    "print(sorted_keys)\n",
    "sorted_values = sorted(wordCount.values(), reverse=True)\n",
    "print(sorted_values)\n",
    "\n",
    "plt.bar(range(len(wordCount)), sorted_values, align = 'center')\n",
    "plt.xticks(range(len(wordCount)), list(sorted_keys), rotation = '75')"
   ],
   "metadata": {
    "collapsed": false,
    "pycharm": {
     "name": "#%%\n"
    }
   }
  },
  {
   "cell_type": "code",
   "execution_count": null,
   "outputs": [],
   "source": [
    "wc = WordCloud(font_path, background_color = 'ivory', width = 800, height=600)\n",
    "cloud = wc.generate_from_frequencies(wordCount)\n",
    "plt.figure(figsize = (8, 8))\n",
    "plt.imshow(cloud)\n",
    "plt.axis('off')\n",
    "plt.show()"
   ],
   "metadata": {
    "collapsed": false,
    "pycharm": {
     "name": "#%%\n"
    }
   }
  }
 ],
 "metadata": {
  "kernelspec": {
   "display_name": "Python 3",
   "language": "python",
   "name": "python3"
  },
  "language_info": {
   "codemirror_mode": {
    "name": "ipython",
    "version": 2
   },
   "file_extension": ".py",
   "mimetype": "text/x-python",
   "name": "python",
   "nbconvert_exporter": "python",
   "pygments_lexer": "ipython2",
   "version": "2.7.6"
  }
 },
 "nbformat": 4,
 "nbformat_minor": 0
}