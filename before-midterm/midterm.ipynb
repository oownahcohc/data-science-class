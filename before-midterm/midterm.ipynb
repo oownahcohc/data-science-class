{
 "cells": [
  {
   "cell_type": "code",
   "execution_count": 62,
   "metadata": {
    "collapsed": true
   },
   "outputs": [],
   "source": [
    "import numpy as np\n",
    "import pandas as pd\n",
    "import matplotlib.pyplot as plt"
   ]
  },
  {
   "cell_type": "code",
   "execution_count": 63,
   "outputs": [
    {
     "data": {
      "text/plain": "'숭실대학교'"
     },
     "execution_count": 63,
     "metadata": {},
     "output_type": "execute_result"
    }
   ],
   "source": [
    "la = [\"숭실대학교\", \"서울시 동작구 상도동\"]\n",
    "la[0]"
   ],
   "metadata": {
    "collapsed": false,
    "pycharm": {
     "name": "#%%\n"
    }
   }
  },
  {
   "cell_type": "code",
   "execution_count": 64,
   "outputs": [
    {
     "data": {
      "text/plain": "0"
     },
     "execution_count": 64,
     "metadata": {},
     "output_type": "execute_result"
    }
   ],
   "source": [
    "la.index(\"숭실대학교\")"
   ],
   "metadata": {
    "collapsed": false,
    "pycharm": {
     "name": "#%%\n"
    }
   }
  },
  {
   "cell_type": "code",
   "execution_count": 65,
   "outputs": [
    {
     "data": {
      "text/plain": "['숭실대학교', '서울시 동작구 상도동', 'append로 리스트 추가하기']"
     },
     "execution_count": 65,
     "metadata": {},
     "output_type": "execute_result"
    }
   ],
   "source": [
    "la.append(\"append로 리스트 추가하기\")\n",
    "la"
   ],
   "metadata": {
    "collapsed": false,
    "pycharm": {
     "name": "#%%\n"
    }
   }
  },
  {
   "cell_type": "code",
   "execution_count": 66,
   "outputs": [
    {
     "data": {
      "text/plain": "['숭실대학교', '서울시 동작구 상도동']"
     },
     "execution_count": 66,
     "metadata": {},
     "output_type": "execute_result"
    }
   ],
   "source": [
    "la[0:2]"
   ],
   "metadata": {
    "collapsed": false,
    "pycharm": {
     "name": "#%%\n"
    }
   }
  },
  {
   "cell_type": "code",
   "execution_count": 67,
   "outputs": [
    {
     "data": {
      "text/plain": "['숭실대학교', '서울시 동작구 상도동']"
     },
     "execution_count": 67,
     "metadata": {},
     "output_type": "execute_result"
    }
   ],
   "source": [
    "del la[2]\n",
    "la"
   ],
   "metadata": {
    "collapsed": false,
    "pycharm": {
     "name": "#%%\n"
    }
   }
  },
  {
   "cell_type": "code",
   "execution_count": 68,
   "outputs": [
    {
     "data": {
      "text/plain": "2"
     },
     "execution_count": 68,
     "metadata": {},
     "output_type": "execute_result"
    }
   ],
   "source": [
    "len(la)"
   ],
   "metadata": {
    "collapsed": false,
    "pycharm": {
     "name": "#%%\n"
    }
   }
  },
  {
   "cell_type": "code",
   "execution_count": 69,
   "outputs": [
    {
     "data": {
      "text/plain": "array([0.95979059, 0.76309987, 0.34327943, 0.35356891, 0.91992284,\n       0.83456836, 0.33884051, 0.231082  , 0.92764036, 0.93783532])"
     },
     "execution_count": 69,
     "metadata": {},
     "output_type": "execute_result"
    }
   ],
   "source": [
    "np.random.rand(10) # 0-1 사이 난수 10개 생성"
   ],
   "metadata": {
    "collapsed": false,
    "pycharm": {
     "name": "#%%\n"
    }
   }
  },
  {
   "cell_type": "code",
   "execution_count": 70,
   "outputs": [],
   "source": [
    "random_number = np.random.rand(10)*10"
   ],
   "metadata": {
    "collapsed": false,
    "pycharm": {
     "name": "#%%\n"
    }
   }
  },
  {
   "cell_type": "code",
   "execution_count": 71,
   "outputs": [],
   "source": [
    "result_ref = map(int, random_number) # 값이 저장된 주소값 반환"
   ],
   "metadata": {
    "collapsed": false,
    "pycharm": {
     "name": "#%%\n"
    }
   }
  },
  {
   "cell_type": "code",
   "execution_count": 72,
   "outputs": [
    {
     "data": {
      "text/plain": "[9, 7, 8, 2, 1, 7, 3, 4, 7, 3]"
     },
     "execution_count": 72,
     "metadata": {},
     "output_type": "execute_result"
    }
   ],
   "source": [
    "result = list(result_ref)\n",
    "result"
   ],
   "metadata": {
    "collapsed": false,
    "pycharm": {
     "name": "#%%\n"
    }
   }
  },
  {
   "cell_type": "code",
   "execution_count": 73,
   "outputs": [
    {
     "data": {
      "text/plain": "1"
     },
     "execution_count": 73,
     "metadata": {},
     "output_type": "execute_result"
    }
   ],
   "source": [
    "result.count(1) # result에 1이 몇개?"
   ],
   "metadata": {
    "collapsed": false,
    "pycharm": {
     "name": "#%%\n"
    }
   }
  },
  {
   "cell_type": "code",
   "execution_count": 74,
   "outputs": [
    {
     "name": "stdout",
     "output_type": "stream",
     "text": [
      "0: 0 개\n",
      "1: 1 개\n",
      "2: 1 개\n",
      "3: 2 개\n",
      "4: 1 개\n",
      "5: 0 개\n",
      "6: 0 개\n",
      "7: 3 개\n",
      "8: 1 개\n",
      "9: 1 개\n"
     ]
    }
   ],
   "source": [
    "for n in range(10): # 0-9\n",
    "    c = result.count(n)\n",
    "    print(\"%d: %d 개\" %(n, c))"
   ],
   "metadata": {
    "collapsed": false,
    "pycharm": {
     "name": "#%%\n"
    }
   }
  },
  {
   "cell_type": "code",
   "execution_count": 75,
   "outputs": [
    {
     "data": {
      "text/plain": "dict"
     },
     "execution_count": 75,
     "metadata": {},
     "output_type": "execute_result"
    }
   ],
   "source": [
    "dic = {        # key: value\n",
    "    \"a\": 1,\n",
    "    \"b\": 20,\n",
    "    \"c\": 11,\n",
    "    \"d\": 98\n",
    "}\n",
    "type(dic)"
   ],
   "metadata": {
    "collapsed": false,
    "pycharm": {
     "name": "#%%\n"
    }
   }
  },
  {
   "cell_type": "code",
   "execution_count": 76,
   "outputs": [
    {
     "data": {
      "text/plain": "1"
     },
     "execution_count": 76,
     "metadata": {},
     "output_type": "execute_result"
    }
   ],
   "source": [
    "dic[\"a\"]"
   ],
   "metadata": {
    "collapsed": false,
    "pycharm": {
     "name": "#%%\n"
    }
   }
  },
  {
   "cell_type": "code",
   "execution_count": 77,
   "outputs": [],
   "source": [
    "dic.keys() # key의 list 반환\n",
    "keys_list = list(dic.keys())"
   ],
   "metadata": {
    "collapsed": false,
    "pycharm": {
     "name": "#%%\n"
    }
   }
  },
  {
   "cell_type": "code",
   "execution_count": 78,
   "outputs": [
    {
     "data": {
      "text/plain": "'d'"
     },
     "execution_count": 78,
     "metadata": {},
     "output_type": "execute_result"
    }
   ],
   "source": [
    "keys_list[3]"
   ],
   "metadata": {
    "collapsed": false,
    "pycharm": {
     "name": "#%%\n"
    }
   }
  },
  {
   "cell_type": "markdown",
   "source": [
    "## 판다스\n",
    "- 열단위 추출\n",
    "- 행단위 추출\n",
    "- unique(), nuique(), value_counts()\n",
    "- apply()"
   ],
   "metadata": {
    "collapsed": false
   }
  },
  {
   "cell_type": "code",
   "execution_count": 79,
   "outputs": [],
   "source": [
    "file_path = \"/Users/jochan-u/Desktop/data-science-class/gapminder.tsv\""
   ],
   "metadata": {
    "collapsed": false,
    "pycharm": {
     "name": "#%%\n"
    }
   }
  },
  {
   "cell_type": "code",
   "execution_count": 80,
   "outputs": [
    {
     "data": {
      "text/plain": "          country continent  year  lifeExp       pop   gdpPercap\n0     Afghanistan      Asia  1952   28.801   8425333  779.445314\n1     Afghanistan      Asia  1957   30.332   9240934  820.853030\n2     Afghanistan      Asia  1962   31.997  10267083  853.100710\n3     Afghanistan      Asia  1967   34.020  11537966  836.197138\n4     Afghanistan      Asia  1972   36.088  13079460  739.981106\n...           ...       ...   ...      ...       ...         ...\n1699     Zimbabwe    Africa  1987   62.351   9216418  706.157306\n1700     Zimbabwe    Africa  1992   60.377  10704340  693.420786\n1701     Zimbabwe    Africa  1997   46.809  11404948  792.449960\n1702     Zimbabwe    Africa  2002   39.989  11926563  672.038623\n1703     Zimbabwe    Africa  2007   43.487  12311143  469.709298\n\n[1704 rows x 6 columns]",
      "text/html": "<div>\n<style scoped>\n    .dataframe tbody tr th:only-of-type {\n        vertical-align: middle;\n    }\n\n    .dataframe tbody tr th {\n        vertical-align: top;\n    }\n\n    .dataframe thead th {\n        text-align: right;\n    }\n</style>\n<table border=\"1\" class=\"dataframe\">\n  <thead>\n    <tr style=\"text-align: right;\">\n      <th></th>\n      <th>country</th>\n      <th>continent</th>\n      <th>year</th>\n      <th>lifeExp</th>\n      <th>pop</th>\n      <th>gdpPercap</th>\n    </tr>\n  </thead>\n  <tbody>\n    <tr>\n      <th>0</th>\n      <td>Afghanistan</td>\n      <td>Asia</td>\n      <td>1952</td>\n      <td>28.801</td>\n      <td>8425333</td>\n      <td>779.445314</td>\n    </tr>\n    <tr>\n      <th>1</th>\n      <td>Afghanistan</td>\n      <td>Asia</td>\n      <td>1957</td>\n      <td>30.332</td>\n      <td>9240934</td>\n      <td>820.853030</td>\n    </tr>\n    <tr>\n      <th>2</th>\n      <td>Afghanistan</td>\n      <td>Asia</td>\n      <td>1962</td>\n      <td>31.997</td>\n      <td>10267083</td>\n      <td>853.100710</td>\n    </tr>\n    <tr>\n      <th>3</th>\n      <td>Afghanistan</td>\n      <td>Asia</td>\n      <td>1967</td>\n      <td>34.020</td>\n      <td>11537966</td>\n      <td>836.197138</td>\n    </tr>\n    <tr>\n      <th>4</th>\n      <td>Afghanistan</td>\n      <td>Asia</td>\n      <td>1972</td>\n      <td>36.088</td>\n      <td>13079460</td>\n      <td>739.981106</td>\n    </tr>\n    <tr>\n      <th>...</th>\n      <td>...</td>\n      <td>...</td>\n      <td>...</td>\n      <td>...</td>\n      <td>...</td>\n      <td>...</td>\n    </tr>\n    <tr>\n      <th>1699</th>\n      <td>Zimbabwe</td>\n      <td>Africa</td>\n      <td>1987</td>\n      <td>62.351</td>\n      <td>9216418</td>\n      <td>706.157306</td>\n    </tr>\n    <tr>\n      <th>1700</th>\n      <td>Zimbabwe</td>\n      <td>Africa</td>\n      <td>1992</td>\n      <td>60.377</td>\n      <td>10704340</td>\n      <td>693.420786</td>\n    </tr>\n    <tr>\n      <th>1701</th>\n      <td>Zimbabwe</td>\n      <td>Africa</td>\n      <td>1997</td>\n      <td>46.809</td>\n      <td>11404948</td>\n      <td>792.449960</td>\n    </tr>\n    <tr>\n      <th>1702</th>\n      <td>Zimbabwe</td>\n      <td>Africa</td>\n      <td>2002</td>\n      <td>39.989</td>\n      <td>11926563</td>\n      <td>672.038623</td>\n    </tr>\n    <tr>\n      <th>1703</th>\n      <td>Zimbabwe</td>\n      <td>Africa</td>\n      <td>2007</td>\n      <td>43.487</td>\n      <td>12311143</td>\n      <td>469.709298</td>\n    </tr>\n  </tbody>\n</table>\n<p>1704 rows × 6 columns</p>\n</div>"
     },
     "execution_count": 80,
     "metadata": {},
     "output_type": "execute_result"
    }
   ],
   "source": [
    "df = pd.read_csv(file_path, sep=\"\\t\") #tsv는 \\t로 구분해놓은 파일 => \\t로 나눠버려야함 ㅇㅇ\n",
    "df"
   ],
   "metadata": {
    "collapsed": false,
    "pycharm": {
     "name": "#%%\n"
    }
   }
  },
  {
   "cell_type": "markdown",
   "source": [
    "### 열 단위 축출"
   ],
   "metadata": {
    "collapsed": false
   }
  },
  {
   "cell_type": "code",
   "execution_count": 81,
   "outputs": [
    {
     "data": {
      "text/plain": "pandas.core.series.Series"
     },
     "execution_count": 81,
     "metadata": {},
     "output_type": "execute_result"
    }
   ],
   "source": [
    "type(df[\"country\"]) #series"
   ],
   "metadata": {
    "collapsed": false,
    "pycharm": {
     "name": "#%%\n"
    }
   }
  },
  {
   "cell_type": "code",
   "execution_count": 82,
   "outputs": [
    {
     "data": {
      "text/plain": "          country\n0     Afghanistan\n1     Afghanistan\n2     Afghanistan\n3     Afghanistan\n4     Afghanistan\n...           ...\n1699     Zimbabwe\n1700     Zimbabwe\n1701     Zimbabwe\n1702     Zimbabwe\n1703     Zimbabwe\n\n[1704 rows x 1 columns]",
      "text/html": "<div>\n<style scoped>\n    .dataframe tbody tr th:only-of-type {\n        vertical-align: middle;\n    }\n\n    .dataframe tbody tr th {\n        vertical-align: top;\n    }\n\n    .dataframe thead th {\n        text-align: right;\n    }\n</style>\n<table border=\"1\" class=\"dataframe\">\n  <thead>\n    <tr style=\"text-align: right;\">\n      <th></th>\n      <th>country</th>\n    </tr>\n  </thead>\n  <tbody>\n    <tr>\n      <th>0</th>\n      <td>Afghanistan</td>\n    </tr>\n    <tr>\n      <th>1</th>\n      <td>Afghanistan</td>\n    </tr>\n    <tr>\n      <th>2</th>\n      <td>Afghanistan</td>\n    </tr>\n    <tr>\n      <th>3</th>\n      <td>Afghanistan</td>\n    </tr>\n    <tr>\n      <th>4</th>\n      <td>Afghanistan</td>\n    </tr>\n    <tr>\n      <th>...</th>\n      <td>...</td>\n    </tr>\n    <tr>\n      <th>1699</th>\n      <td>Zimbabwe</td>\n    </tr>\n    <tr>\n      <th>1700</th>\n      <td>Zimbabwe</td>\n    </tr>\n    <tr>\n      <th>1701</th>\n      <td>Zimbabwe</td>\n    </tr>\n    <tr>\n      <th>1702</th>\n      <td>Zimbabwe</td>\n    </tr>\n    <tr>\n      <th>1703</th>\n      <td>Zimbabwe</td>\n    </tr>\n  </tbody>\n</table>\n<p>1704 rows × 1 columns</p>\n</div>"
     },
     "execution_count": 82,
     "metadata": {},
     "output_type": "execute_result"
    }
   ],
   "source": [
    "df[[\"country\"]] # [] 두번 조져주면 dataFrame 으로 반환"
   ],
   "metadata": {
    "collapsed": false,
    "pycharm": {
     "name": "#%%\n"
    }
   }
  },
  {
   "cell_type": "code",
   "execution_count": 83,
   "outputs": [
    {
     "data": {
      "text/plain": "       country  year\n0  Afghanistan  1952\n1  Afghanistan  1957\n2  Afghanistan  1962\n3  Afghanistan  1967\n4  Afghanistan  1972\n5  Afghanistan  1977\n6  Afghanistan  1982\n7  Afghanistan  1987\n8  Afghanistan  1992\n9  Afghanistan  1997",
      "text/html": "<div>\n<style scoped>\n    .dataframe tbody tr th:only-of-type {\n        vertical-align: middle;\n    }\n\n    .dataframe tbody tr th {\n        vertical-align: top;\n    }\n\n    .dataframe thead th {\n        text-align: right;\n    }\n</style>\n<table border=\"1\" class=\"dataframe\">\n  <thead>\n    <tr style=\"text-align: right;\">\n      <th></th>\n      <th>country</th>\n      <th>year</th>\n    </tr>\n  </thead>\n  <tbody>\n    <tr>\n      <th>0</th>\n      <td>Afghanistan</td>\n      <td>1952</td>\n    </tr>\n    <tr>\n      <th>1</th>\n      <td>Afghanistan</td>\n      <td>1957</td>\n    </tr>\n    <tr>\n      <th>2</th>\n      <td>Afghanistan</td>\n      <td>1962</td>\n    </tr>\n    <tr>\n      <th>3</th>\n      <td>Afghanistan</td>\n      <td>1967</td>\n    </tr>\n    <tr>\n      <th>4</th>\n      <td>Afghanistan</td>\n      <td>1972</td>\n    </tr>\n    <tr>\n      <th>5</th>\n      <td>Afghanistan</td>\n      <td>1977</td>\n    </tr>\n    <tr>\n      <th>6</th>\n      <td>Afghanistan</td>\n      <td>1982</td>\n    </tr>\n    <tr>\n      <th>7</th>\n      <td>Afghanistan</td>\n      <td>1987</td>\n    </tr>\n    <tr>\n      <th>8</th>\n      <td>Afghanistan</td>\n      <td>1992</td>\n    </tr>\n    <tr>\n      <th>9</th>\n      <td>Afghanistan</td>\n      <td>1997</td>\n    </tr>\n  </tbody>\n</table>\n</div>"
     },
     "execution_count": 83,
     "metadata": {},
     "output_type": "execute_result"
    }
   ],
   "source": [
    "df[[\"country\", \"year\"]][0:10]"
   ],
   "metadata": {
    "collapsed": false,
    "pycharm": {
     "name": "#%%\n"
    }
   }
  },
  {
   "cell_type": "code",
   "execution_count": 84,
   "outputs": [
    {
     "data": {
      "text/plain": "       country  year\n0  Afghanistan  1952\n1  Afghanistan  1957\n2  Afghanistan  1962\n3  Afghanistan  1967\n4  Afghanistan  1972",
      "text/html": "<div>\n<style scoped>\n    .dataframe tbody tr th:only-of-type {\n        vertical-align: middle;\n    }\n\n    .dataframe tbody tr th {\n        vertical-align: top;\n    }\n\n    .dataframe thead th {\n        text-align: right;\n    }\n</style>\n<table border=\"1\" class=\"dataframe\">\n  <thead>\n    <tr style=\"text-align: right;\">\n      <th></th>\n      <th>country</th>\n      <th>year</th>\n    </tr>\n  </thead>\n  <tbody>\n    <tr>\n      <th>0</th>\n      <td>Afghanistan</td>\n      <td>1952</td>\n    </tr>\n    <tr>\n      <th>1</th>\n      <td>Afghanistan</td>\n      <td>1957</td>\n    </tr>\n    <tr>\n      <th>2</th>\n      <td>Afghanistan</td>\n      <td>1962</td>\n    </tr>\n    <tr>\n      <th>3</th>\n      <td>Afghanistan</td>\n      <td>1967</td>\n    </tr>\n    <tr>\n      <th>4</th>\n      <td>Afghanistan</td>\n      <td>1972</td>\n    </tr>\n  </tbody>\n</table>\n</div>"
     },
     "execution_count": 84,
     "metadata": {},
     "output_type": "execute_result"
    }
   ],
   "source": [
    "df[[\"country\", \"year\"]].head() #head() 조져주면 상위 5개 보여줌 ㅇㅇ"
   ],
   "metadata": {
    "collapsed": false,
    "pycharm": {
     "name": "#%%\n"
    }
   }
  },
  {
   "cell_type": "code",
   "execution_count": 85,
   "outputs": [
    {
     "name": "stdout",
     "output_type": "stream",
     "text": [
      "<class 'pandas.core.frame.DataFrame'>\n",
      "RangeIndex: 1704 entries, 0 to 1703\n",
      "Data columns (total 6 columns):\n",
      " #   Column     Non-Null Count  Dtype  \n",
      "---  ------     --------------  -----  \n",
      " 0   country    1704 non-null   object \n",
      " 1   continent  1704 non-null   object \n",
      " 2   year       1704 non-null   int64  \n",
      " 3   lifeExp    1704 non-null   float64\n",
      " 4   pop        1704 non-null   int64  \n",
      " 5   gdpPercap  1704 non-null   float64\n",
      "dtypes: float64(2), int64(2), object(2)\n",
      "memory usage: 80.0+ KB\n"
     ]
    }
   ],
   "source": [
    "df.info()"
   ],
   "metadata": {
    "collapsed": false,
    "pycharm": {
     "name": "#%%\n"
    }
   }
  },
  {
   "cell_type": "code",
   "execution_count": 86,
   "outputs": [
    {
     "data": {
      "text/plain": "country      0\ncontinent    0\nyear         0\nlifeExp      0\npop          0\ngdpPercap    0\ndtype: int64"
     },
     "execution_count": 86,
     "metadata": {},
     "output_type": "execute_result"
    }
   ],
   "source": [
    "df.isnull().sum() #isnull 까지 하면 df형태로 true, false 보여주는데, sum 조져주면 열 별로 null값 몇개인지 보여줌 ㅇㅇ"
   ],
   "metadata": {
    "collapsed": false,
    "pycharm": {
     "name": "#%%\n"
    }
   }
  },
  {
   "cell_type": "markdown",
   "source": [
    "### 행 단위 축출 : loc[ [원하는 행, 원하는 행], [원하는 열, 원하는 열] ]"
   ],
   "metadata": {
    "collapsed": false
   }
  },
  {
   "cell_type": "code",
   "execution_count": 87,
   "outputs": [
    {
     "data": {
      "text/plain": "       country  year\n1  Afghanistan  1957\n2  Afghanistan  1962",
      "text/html": "<div>\n<style scoped>\n    .dataframe tbody tr th:only-of-type {\n        vertical-align: middle;\n    }\n\n    .dataframe tbody tr th {\n        vertical-align: top;\n    }\n\n    .dataframe thead th {\n        text-align: right;\n    }\n</style>\n<table border=\"1\" class=\"dataframe\">\n  <thead>\n    <tr style=\"text-align: right;\">\n      <th></th>\n      <th>country</th>\n      <th>year</th>\n    </tr>\n  </thead>\n  <tbody>\n    <tr>\n      <th>1</th>\n      <td>Afghanistan</td>\n      <td>1957</td>\n    </tr>\n    <tr>\n      <th>2</th>\n      <td>Afghanistan</td>\n      <td>1962</td>\n    </tr>\n  </tbody>\n</table>\n</div>"
     },
     "execution_count": 87,
     "metadata": {},
     "output_type": "execute_result"
    }
   ],
   "source": [
    "df.loc[[1,2], [\"country\", \"year\"]]"
   ],
   "metadata": {
    "collapsed": false,
    "pycharm": {
     "name": "#%%\n"
    }
   }
  },
  {
   "cell_type": "code",
   "execution_count": 88,
   "outputs": [
    {
     "data": {
      "text/plain": "       country continent  year  lifeExp       pop  gdpPercap\n1  Afghanistan      Asia  1957   30.332   9240934  820.85303\n2  Afghanistan      Asia  1962   31.997  10267083  853.10071",
      "text/html": "<div>\n<style scoped>\n    .dataframe tbody tr th:only-of-type {\n        vertical-align: middle;\n    }\n\n    .dataframe tbody tr th {\n        vertical-align: top;\n    }\n\n    .dataframe thead th {\n        text-align: right;\n    }\n</style>\n<table border=\"1\" class=\"dataframe\">\n  <thead>\n    <tr style=\"text-align: right;\">\n      <th></th>\n      <th>country</th>\n      <th>continent</th>\n      <th>year</th>\n      <th>lifeExp</th>\n      <th>pop</th>\n      <th>gdpPercap</th>\n    </tr>\n  </thead>\n  <tbody>\n    <tr>\n      <th>1</th>\n      <td>Afghanistan</td>\n      <td>Asia</td>\n      <td>1957</td>\n      <td>30.332</td>\n      <td>9240934</td>\n      <td>820.85303</td>\n    </tr>\n    <tr>\n      <th>2</th>\n      <td>Afghanistan</td>\n      <td>Asia</td>\n      <td>1962</td>\n      <td>31.997</td>\n      <td>10267083</td>\n      <td>853.10071</td>\n    </tr>\n  </tbody>\n</table>\n</div>"
     },
     "execution_count": 88,
     "metadata": {},
     "output_type": "execute_result"
    }
   ],
   "source": [
    "df.loc[[1,2]]"
   ],
   "metadata": {
    "collapsed": false,
    "pycharm": {
     "name": "#%%\n"
    }
   }
  },
  {
   "cell_type": "code",
   "execution_count": 89,
   "outputs": [
    {
     "data": {
      "text/plain": "       country continent  year  lifeExp       pop   gdpPercap\n1  Afghanistan      Asia  1957   30.332   9240934  820.853030\n2  Afghanistan      Asia  1962   31.997  10267083  853.100710\n3  Afghanistan      Asia  1967   34.020  11537966  836.197138\n4  Afghanistan      Asia  1972   36.088  13079460  739.981106\n5  Afghanistan      Asia  1977   38.438  14880372  786.113360\n6  Afghanistan      Asia  1982   39.854  12881816  978.011439\n7  Afghanistan      Asia  1987   40.822  13867957  852.395945\n8  Afghanistan      Asia  1992   41.674  16317921  649.341395",
      "text/html": "<div>\n<style scoped>\n    .dataframe tbody tr th:only-of-type {\n        vertical-align: middle;\n    }\n\n    .dataframe tbody tr th {\n        vertical-align: top;\n    }\n\n    .dataframe thead th {\n        text-align: right;\n    }\n</style>\n<table border=\"1\" class=\"dataframe\">\n  <thead>\n    <tr style=\"text-align: right;\">\n      <th></th>\n      <th>country</th>\n      <th>continent</th>\n      <th>year</th>\n      <th>lifeExp</th>\n      <th>pop</th>\n      <th>gdpPercap</th>\n    </tr>\n  </thead>\n  <tbody>\n    <tr>\n      <th>1</th>\n      <td>Afghanistan</td>\n      <td>Asia</td>\n      <td>1957</td>\n      <td>30.332</td>\n      <td>9240934</td>\n      <td>820.853030</td>\n    </tr>\n    <tr>\n      <th>2</th>\n      <td>Afghanistan</td>\n      <td>Asia</td>\n      <td>1962</td>\n      <td>31.997</td>\n      <td>10267083</td>\n      <td>853.100710</td>\n    </tr>\n    <tr>\n      <th>3</th>\n      <td>Afghanistan</td>\n      <td>Asia</td>\n      <td>1967</td>\n      <td>34.020</td>\n      <td>11537966</td>\n      <td>836.197138</td>\n    </tr>\n    <tr>\n      <th>4</th>\n      <td>Afghanistan</td>\n      <td>Asia</td>\n      <td>1972</td>\n      <td>36.088</td>\n      <td>13079460</td>\n      <td>739.981106</td>\n    </tr>\n    <tr>\n      <th>5</th>\n      <td>Afghanistan</td>\n      <td>Asia</td>\n      <td>1977</td>\n      <td>38.438</td>\n      <td>14880372</td>\n      <td>786.113360</td>\n    </tr>\n    <tr>\n      <th>6</th>\n      <td>Afghanistan</td>\n      <td>Asia</td>\n      <td>1982</td>\n      <td>39.854</td>\n      <td>12881816</td>\n      <td>978.011439</td>\n    </tr>\n    <tr>\n      <th>7</th>\n      <td>Afghanistan</td>\n      <td>Asia</td>\n      <td>1987</td>\n      <td>40.822</td>\n      <td>13867957</td>\n      <td>852.395945</td>\n    </tr>\n    <tr>\n      <th>8</th>\n      <td>Afghanistan</td>\n      <td>Asia</td>\n      <td>1992</td>\n      <td>41.674</td>\n      <td>16317921</td>\n      <td>649.341395</td>\n    </tr>\n  </tbody>\n</table>\n</div>"
     },
     "execution_count": 89,
     "metadata": {},
     "output_type": "execute_result"
    }
   ],
   "source": [
    "df.loc[1:8] # slice 사용 가능 - 행의 이름으로 slice 치면 그 값을 모두 포함해서 보여줌 (index 번호로 slice 치는 것과 다름!)"
   ],
   "metadata": {
    "collapsed": false,
    "pycharm": {
     "name": "#%%\n"
    }
   }
  },
  {
   "cell_type": "code",
   "execution_count": 90,
   "outputs": [
    {
     "data": {
      "text/plain": "        country  year\n0   Afghanistan  1952\n1   Afghanistan  1957\n2   Afghanistan  1962\n3   Afghanistan  1967\n4   Afghanistan  1972\n5   Afghanistan  1977\n6   Afghanistan  1982\n7   Afghanistan  1987\n8   Afghanistan  1992\n9   Afghanistan  1997\n10  Afghanistan  2002",
      "text/html": "<div>\n<style scoped>\n    .dataframe tbody tr th:only-of-type {\n        vertical-align: middle;\n    }\n\n    .dataframe tbody tr th {\n        vertical-align: top;\n    }\n\n    .dataframe thead th {\n        text-align: right;\n    }\n</style>\n<table border=\"1\" class=\"dataframe\">\n  <thead>\n    <tr style=\"text-align: right;\">\n      <th></th>\n      <th>country</th>\n      <th>year</th>\n    </tr>\n  </thead>\n  <tbody>\n    <tr>\n      <th>0</th>\n      <td>Afghanistan</td>\n      <td>1952</td>\n    </tr>\n    <tr>\n      <th>1</th>\n      <td>Afghanistan</td>\n      <td>1957</td>\n    </tr>\n    <tr>\n      <th>2</th>\n      <td>Afghanistan</td>\n      <td>1962</td>\n    </tr>\n    <tr>\n      <th>3</th>\n      <td>Afghanistan</td>\n      <td>1967</td>\n    </tr>\n    <tr>\n      <th>4</th>\n      <td>Afghanistan</td>\n      <td>1972</td>\n    </tr>\n    <tr>\n      <th>5</th>\n      <td>Afghanistan</td>\n      <td>1977</td>\n    </tr>\n    <tr>\n      <th>6</th>\n      <td>Afghanistan</td>\n      <td>1982</td>\n    </tr>\n    <tr>\n      <th>7</th>\n      <td>Afghanistan</td>\n      <td>1987</td>\n    </tr>\n    <tr>\n      <th>8</th>\n      <td>Afghanistan</td>\n      <td>1992</td>\n    </tr>\n    <tr>\n      <th>9</th>\n      <td>Afghanistan</td>\n      <td>1997</td>\n    </tr>\n    <tr>\n      <th>10</th>\n      <td>Afghanistan</td>\n      <td>2002</td>\n    </tr>\n  </tbody>\n</table>\n</div>"
     },
     "execution_count": 90,
     "metadata": {},
     "output_type": "execute_result"
    }
   ],
   "source": [
    "df.loc[0:10, [\"country\", \"year\"]]"
   ],
   "metadata": {
    "collapsed": false,
    "pycharm": {
     "name": "#%%\n"
    }
   }
  },
  {
   "cell_type": "code",
   "execution_count": 91,
   "outputs": [
    {
     "data": {
      "text/plain": "       country continent  year\n1  Afghanistan      Asia  1957\n2  Afghanistan      Asia  1962\n3  Afghanistan      Asia  1967\n4  Afghanistan      Asia  1972\n5  Afghanistan      Asia  1977\n6  Afghanistan      Asia  1982",
      "text/html": "<div>\n<style scoped>\n    .dataframe tbody tr th:only-of-type {\n        vertical-align: middle;\n    }\n\n    .dataframe tbody tr th {\n        vertical-align: top;\n    }\n\n    .dataframe thead th {\n        text-align: right;\n    }\n</style>\n<table border=\"1\" class=\"dataframe\">\n  <thead>\n    <tr style=\"text-align: right;\">\n      <th></th>\n      <th>country</th>\n      <th>continent</th>\n      <th>year</th>\n    </tr>\n  </thead>\n  <tbody>\n    <tr>\n      <th>1</th>\n      <td>Afghanistan</td>\n      <td>Asia</td>\n      <td>1957</td>\n    </tr>\n    <tr>\n      <th>2</th>\n      <td>Afghanistan</td>\n      <td>Asia</td>\n      <td>1962</td>\n    </tr>\n    <tr>\n      <th>3</th>\n      <td>Afghanistan</td>\n      <td>Asia</td>\n      <td>1967</td>\n    </tr>\n    <tr>\n      <th>4</th>\n      <td>Afghanistan</td>\n      <td>Asia</td>\n      <td>1972</td>\n    </tr>\n    <tr>\n      <th>5</th>\n      <td>Afghanistan</td>\n      <td>Asia</td>\n      <td>1977</td>\n    </tr>\n    <tr>\n      <th>6</th>\n      <td>Afghanistan</td>\n      <td>Asia</td>\n      <td>1982</td>\n    </tr>\n  </tbody>\n</table>\n</div>"
     },
     "execution_count": 91,
     "metadata": {},
     "output_type": "execute_result"
    }
   ],
   "source": [
    "df.loc[1:6, \"country\":\"year\"] # 놀랍게도 열 또한 slice 가 가능하다"
   ],
   "metadata": {
    "collapsed": false,
    "pycharm": {
     "name": "#%%\n"
    }
   }
  },
  {
   "cell_type": "code",
   "execution_count": 92,
   "outputs": [
    {
     "data": {
      "text/plain": "[0, 1, 2, 3, 4, 5, 6, 7, 8, 9]"
     },
     "execution_count": 92,
     "metadata": {},
     "output_type": "execute_result"
    }
   ],
   "source": [
    "listT = [n for n in range(10)]\n",
    "listT"
   ],
   "metadata": {
    "collapsed": false,
    "pycharm": {
     "name": "#%%\n"
    }
   }
  },
  {
   "cell_type": "code",
   "execution_count": 93,
   "outputs": [
    {
     "data": {
      "text/plain": "       country continent  year  lifeExp\n1  Afghanistan      Asia  1957   30.332\n2  Afghanistan      Asia  1962   31.997\n3  Afghanistan      Asia  1967   34.020\n4  Afghanistan      Asia  1972   36.088\n5  Afghanistan      Asia  1977   38.438",
      "text/html": "<div>\n<style scoped>\n    .dataframe tbody tr th:only-of-type {\n        vertical-align: middle;\n    }\n\n    .dataframe tbody tr th {\n        vertical-align: top;\n    }\n\n    .dataframe thead th {\n        text-align: right;\n    }\n</style>\n<table border=\"1\" class=\"dataframe\">\n  <thead>\n    <tr style=\"text-align: right;\">\n      <th></th>\n      <th>country</th>\n      <th>continent</th>\n      <th>year</th>\n      <th>lifeExp</th>\n    </tr>\n  </thead>\n  <tbody>\n    <tr>\n      <th>1</th>\n      <td>Afghanistan</td>\n      <td>Asia</td>\n      <td>1957</td>\n      <td>30.332</td>\n    </tr>\n    <tr>\n      <th>2</th>\n      <td>Afghanistan</td>\n      <td>Asia</td>\n      <td>1962</td>\n      <td>31.997</td>\n    </tr>\n    <tr>\n      <th>3</th>\n      <td>Afghanistan</td>\n      <td>Asia</td>\n      <td>1967</td>\n      <td>34.020</td>\n    </tr>\n    <tr>\n      <th>4</th>\n      <td>Afghanistan</td>\n      <td>Asia</td>\n      <td>1972</td>\n      <td>36.088</td>\n    </tr>\n    <tr>\n      <th>5</th>\n      <td>Afghanistan</td>\n      <td>Asia</td>\n      <td>1977</td>\n      <td>38.438</td>\n    </tr>\n  </tbody>\n</table>\n</div>"
     },
     "execution_count": 93,
     "metadata": {},
     "output_type": "execute_result"
    }
   ],
   "source": [
    "df.iloc[1:6, 0:4] #index로 행 축출 -> index 로 slice 치니까 6포함 ㄴㄴ, 4포함 ㄴㄴ"
   ],
   "metadata": {
    "collapsed": false,
    "pycharm": {
     "name": "#%%\n"
    }
   }
  },
  {
   "cell_type": "code",
   "execution_count": 94,
   "outputs": [
    {
     "data": {
      "text/plain": "array(['Afghanistan', 'Albania', 'Algeria', 'Angola', 'Argentina',\n       'Australia', 'Austria', 'Bahrain', 'Bangladesh', 'Belgium',\n       'Benin', 'Bolivia', 'Bosnia and Herzegovina', 'Botswana', 'Brazil',\n       'Bulgaria', 'Burkina Faso', 'Burundi', 'Cambodia', 'Cameroon',\n       'Canada', 'Central African Republic', 'Chad', 'Chile', 'China',\n       'Colombia', 'Comoros', 'Congo, Dem. Rep.', 'Congo, Rep.',\n       'Costa Rica', \"Cote d'Ivoire\", 'Croatia', 'Cuba', 'Czech Republic',\n       'Denmark', 'Djibouti', 'Dominican Republic', 'Ecuador', 'Egypt',\n       'El Salvador', 'Equatorial Guinea', 'Eritrea', 'Ethiopia',\n       'Finland', 'France', 'Gabon', 'Gambia', 'Germany', 'Ghana',\n       'Greece', 'Guatemala', 'Guinea', 'Guinea-Bissau', 'Haiti',\n       'Honduras', 'Hong Kong, China', 'Hungary', 'Iceland', 'India',\n       'Indonesia', 'Iran', 'Iraq', 'Ireland', 'Israel', 'Italy',\n       'Jamaica', 'Japan', 'Jordan', 'Kenya', 'Korea, Dem. Rep.',\n       'Korea, Rep.', 'Kuwait', 'Lebanon', 'Lesotho', 'Liberia', 'Libya',\n       'Madagascar', 'Malawi', 'Malaysia', 'Mali', 'Mauritania',\n       'Mauritius', 'Mexico', 'Mongolia', 'Montenegro', 'Morocco',\n       'Mozambique', 'Myanmar', 'Namibia', 'Nepal', 'Netherlands',\n       'New Zealand', 'Nicaragua', 'Niger', 'Nigeria', 'Norway', 'Oman',\n       'Pakistan', 'Panama', 'Paraguay', 'Peru', 'Philippines', 'Poland',\n       'Portugal', 'Puerto Rico', 'Reunion', 'Romania', 'Rwanda',\n       'Sao Tome and Principe', 'Saudi Arabia', 'Senegal', 'Serbia',\n       'Sierra Leone', 'Singapore', 'Slovak Republic', 'Slovenia',\n       'Somalia', 'South Africa', 'Spain', 'Sri Lanka', 'Sudan',\n       'Swaziland', 'Sweden', 'Switzerland', 'Syria', 'Taiwan',\n       'Tanzania', 'Thailand', 'Togo', 'Trinidad and Tobago', 'Tunisia',\n       'Turkey', 'Uganda', 'United Kingdom', 'United States', 'Uruguay',\n       'Venezuela', 'Vietnam', 'West Bank and Gaza', 'Yemen, Rep.',\n       'Zambia', 'Zimbabwe'], dtype=object)"
     },
     "execution_count": 94,
     "metadata": {},
     "output_type": "execute_result"
    }
   ],
   "source": [
    "df[\"country\"].unique() # unique 조저주면 해당 열 중첩 내용 빼고 쫙 뽑아줌 ㅋ => array 타입임 ㅇㅇ"
   ],
   "metadata": {
    "collapsed": false,
    "pycharm": {
     "name": "#%%\n"
    }
   }
  },
  {
   "cell_type": "code",
   "execution_count": 95,
   "outputs": [
    {
     "data": {
      "text/plain": "0       False\n1       False\n2       False\n3       False\n4       False\n        ...  \n1699    False\n1700    False\n1701    False\n1702    False\n1703    False\nName: country, Length: 1704, dtype: bool"
     },
     "execution_count": 95,
     "metadata": {},
     "output_type": "execute_result"
    }
   ],
   "source": [
    "df.country == \"Korea, Rep.\" # boolean 값 반환해줌 -> 행이다 행"
   ],
   "metadata": {
    "collapsed": false,
    "pycharm": {
     "name": "#%%\n"
    }
   }
  },
  {
   "cell_type": "code",
   "execution_count": 96,
   "outputs": [
    {
     "data": {
      "text/plain": "         country continent  year  lifeExp       pop     gdpPercap\n840  Korea, Rep.      Asia  1952   47.453  20947571   1030.592226\n841  Korea, Rep.      Asia  1957   52.681  22611552   1487.593537\n842  Korea, Rep.      Asia  1962   55.292  26420307   1536.344387\n843  Korea, Rep.      Asia  1967   57.716  30131000   2029.228142\n844  Korea, Rep.      Asia  1972   62.612  33505000   3030.876650\n845  Korea, Rep.      Asia  1977   64.766  36436000   4657.221020\n846  Korea, Rep.      Asia  1982   67.123  39326000   5622.942464\n847  Korea, Rep.      Asia  1987   69.810  41622000   8533.088805\n848  Korea, Rep.      Asia  1992   72.244  43805450  12104.278720\n849  Korea, Rep.      Asia  1997   74.647  46173816  15993.527960\n850  Korea, Rep.      Asia  2002   77.045  47969150  19233.988180\n851  Korea, Rep.      Asia  2007   78.623  49044790  23348.139730",
      "text/html": "<div>\n<style scoped>\n    .dataframe tbody tr th:only-of-type {\n        vertical-align: middle;\n    }\n\n    .dataframe tbody tr th {\n        vertical-align: top;\n    }\n\n    .dataframe thead th {\n        text-align: right;\n    }\n</style>\n<table border=\"1\" class=\"dataframe\">\n  <thead>\n    <tr style=\"text-align: right;\">\n      <th></th>\n      <th>country</th>\n      <th>continent</th>\n      <th>year</th>\n      <th>lifeExp</th>\n      <th>pop</th>\n      <th>gdpPercap</th>\n    </tr>\n  </thead>\n  <tbody>\n    <tr>\n      <th>840</th>\n      <td>Korea, Rep.</td>\n      <td>Asia</td>\n      <td>1952</td>\n      <td>47.453</td>\n      <td>20947571</td>\n      <td>1030.592226</td>\n    </tr>\n    <tr>\n      <th>841</th>\n      <td>Korea, Rep.</td>\n      <td>Asia</td>\n      <td>1957</td>\n      <td>52.681</td>\n      <td>22611552</td>\n      <td>1487.593537</td>\n    </tr>\n    <tr>\n      <th>842</th>\n      <td>Korea, Rep.</td>\n      <td>Asia</td>\n      <td>1962</td>\n      <td>55.292</td>\n      <td>26420307</td>\n      <td>1536.344387</td>\n    </tr>\n    <tr>\n      <th>843</th>\n      <td>Korea, Rep.</td>\n      <td>Asia</td>\n      <td>1967</td>\n      <td>57.716</td>\n      <td>30131000</td>\n      <td>2029.228142</td>\n    </tr>\n    <tr>\n      <th>844</th>\n      <td>Korea, Rep.</td>\n      <td>Asia</td>\n      <td>1972</td>\n      <td>62.612</td>\n      <td>33505000</td>\n      <td>3030.876650</td>\n    </tr>\n    <tr>\n      <th>845</th>\n      <td>Korea, Rep.</td>\n      <td>Asia</td>\n      <td>1977</td>\n      <td>64.766</td>\n      <td>36436000</td>\n      <td>4657.221020</td>\n    </tr>\n    <tr>\n      <th>846</th>\n      <td>Korea, Rep.</td>\n      <td>Asia</td>\n      <td>1982</td>\n      <td>67.123</td>\n      <td>39326000</td>\n      <td>5622.942464</td>\n    </tr>\n    <tr>\n      <th>847</th>\n      <td>Korea, Rep.</td>\n      <td>Asia</td>\n      <td>1987</td>\n      <td>69.810</td>\n      <td>41622000</td>\n      <td>8533.088805</td>\n    </tr>\n    <tr>\n      <th>848</th>\n      <td>Korea, Rep.</td>\n      <td>Asia</td>\n      <td>1992</td>\n      <td>72.244</td>\n      <td>43805450</td>\n      <td>12104.278720</td>\n    </tr>\n    <tr>\n      <th>849</th>\n      <td>Korea, Rep.</td>\n      <td>Asia</td>\n      <td>1997</td>\n      <td>74.647</td>\n      <td>46173816</td>\n      <td>15993.527960</td>\n    </tr>\n    <tr>\n      <th>850</th>\n      <td>Korea, Rep.</td>\n      <td>Asia</td>\n      <td>2002</td>\n      <td>77.045</td>\n      <td>47969150</td>\n      <td>19233.988180</td>\n    </tr>\n    <tr>\n      <th>851</th>\n      <td>Korea, Rep.</td>\n      <td>Asia</td>\n      <td>2007</td>\n      <td>78.623</td>\n      <td>49044790</td>\n      <td>23348.139730</td>\n    </tr>\n  </tbody>\n</table>\n</div>"
     },
     "execution_count": 96,
     "metadata": {},
     "output_type": "execute_result"
    }
   ],
   "source": [
    "df[df.country == \"Korea, Rep.\"]"
   ],
   "metadata": {
    "collapsed": false,
    "pycharm": {
     "name": "#%%\n"
    }
   }
  },
  {
   "cell_type": "code",
   "execution_count": 97,
   "outputs": [
    {
     "data": {
      "text/plain": "         country  year\n840  Korea, Rep.  1952\n841  Korea, Rep.  1957\n842  Korea, Rep.  1962\n843  Korea, Rep.  1967\n844  Korea, Rep.  1972\n845  Korea, Rep.  1977\n846  Korea, Rep.  1982\n847  Korea, Rep.  1987\n848  Korea, Rep.  1992\n849  Korea, Rep.  1997\n850  Korea, Rep.  2002\n851  Korea, Rep.  2007",
      "text/html": "<div>\n<style scoped>\n    .dataframe tbody tr th:only-of-type {\n        vertical-align: middle;\n    }\n\n    .dataframe tbody tr th {\n        vertical-align: top;\n    }\n\n    .dataframe thead th {\n        text-align: right;\n    }\n</style>\n<table border=\"1\" class=\"dataframe\">\n  <thead>\n    <tr style=\"text-align: right;\">\n      <th></th>\n      <th>country</th>\n      <th>year</th>\n    </tr>\n  </thead>\n  <tbody>\n    <tr>\n      <th>840</th>\n      <td>Korea, Rep.</td>\n      <td>1952</td>\n    </tr>\n    <tr>\n      <th>841</th>\n      <td>Korea, Rep.</td>\n      <td>1957</td>\n    </tr>\n    <tr>\n      <th>842</th>\n      <td>Korea, Rep.</td>\n      <td>1962</td>\n    </tr>\n    <tr>\n      <th>843</th>\n      <td>Korea, Rep.</td>\n      <td>1967</td>\n    </tr>\n    <tr>\n      <th>844</th>\n      <td>Korea, Rep.</td>\n      <td>1972</td>\n    </tr>\n    <tr>\n      <th>845</th>\n      <td>Korea, Rep.</td>\n      <td>1977</td>\n    </tr>\n    <tr>\n      <th>846</th>\n      <td>Korea, Rep.</td>\n      <td>1982</td>\n    </tr>\n    <tr>\n      <th>847</th>\n      <td>Korea, Rep.</td>\n      <td>1987</td>\n    </tr>\n    <tr>\n      <th>848</th>\n      <td>Korea, Rep.</td>\n      <td>1992</td>\n    </tr>\n    <tr>\n      <th>849</th>\n      <td>Korea, Rep.</td>\n      <td>1997</td>\n    </tr>\n    <tr>\n      <th>850</th>\n      <td>Korea, Rep.</td>\n      <td>2002</td>\n    </tr>\n    <tr>\n      <th>851</th>\n      <td>Korea, Rep.</td>\n      <td>2007</td>\n    </tr>\n  </tbody>\n</table>\n</div>"
     },
     "execution_count": 97,
     "metadata": {},
     "output_type": "execute_result"
    }
   ],
   "source": [
    "df[[\"country\", \"year\"]][df.country == \"Korea, Rep.\"]"
   ],
   "metadata": {
    "collapsed": false,
    "pycharm": {
     "name": "#%%\n"
    }
   }
  },
  {
   "cell_type": "code",
   "execution_count": 98,
   "outputs": [
    {
     "data": {
      "text/plain": "     year  lifeExp\n840  1952   47.453\n841  1957   52.681\n842  1962   55.292\n843  1967   57.716\n844  1972   62.612\n845  1977   64.766\n846  1982   67.123\n847  1987   69.810\n848  1992   72.244\n849  1997   74.647\n850  2002   77.045\n851  2007   78.623",
      "text/html": "<div>\n<style scoped>\n    .dataframe tbody tr th:only-of-type {\n        vertical-align: middle;\n    }\n\n    .dataframe tbody tr th {\n        vertical-align: top;\n    }\n\n    .dataframe thead th {\n        text-align: right;\n    }\n</style>\n<table border=\"1\" class=\"dataframe\">\n  <thead>\n    <tr style=\"text-align: right;\">\n      <th></th>\n      <th>year</th>\n      <th>lifeExp</th>\n    </tr>\n  </thead>\n  <tbody>\n    <tr>\n      <th>840</th>\n      <td>1952</td>\n      <td>47.453</td>\n    </tr>\n    <tr>\n      <th>841</th>\n      <td>1957</td>\n      <td>52.681</td>\n    </tr>\n    <tr>\n      <th>842</th>\n      <td>1962</td>\n      <td>55.292</td>\n    </tr>\n    <tr>\n      <th>843</th>\n      <td>1967</td>\n      <td>57.716</td>\n    </tr>\n    <tr>\n      <th>844</th>\n      <td>1972</td>\n      <td>62.612</td>\n    </tr>\n    <tr>\n      <th>845</th>\n      <td>1977</td>\n      <td>64.766</td>\n    </tr>\n    <tr>\n      <th>846</th>\n      <td>1982</td>\n      <td>67.123</td>\n    </tr>\n    <tr>\n      <th>847</th>\n      <td>1987</td>\n      <td>69.810</td>\n    </tr>\n    <tr>\n      <th>848</th>\n      <td>1992</td>\n      <td>72.244</td>\n    </tr>\n    <tr>\n      <th>849</th>\n      <td>1997</td>\n      <td>74.647</td>\n    </tr>\n    <tr>\n      <th>850</th>\n      <td>2002</td>\n      <td>77.045</td>\n    </tr>\n    <tr>\n      <th>851</th>\n      <td>2007</td>\n      <td>78.623</td>\n    </tr>\n  </tbody>\n</table>\n</div>"
     },
     "execution_count": 98,
     "metadata": {},
     "output_type": "execute_result"
    }
   ],
   "source": [
    "df_korea = df[df.country == \"Korea, Rep.\"]\n",
    "df_korea[[\"year\", \"lifeExp\"]] # 괄호 두개 까먹지 마셈 ㅇㅇ"
   ],
   "metadata": {
    "collapsed": false,
    "pycharm": {
     "name": "#%%\n"
    }
   }
  },
  {
   "cell_type": "code",
   "execution_count": 99,
   "outputs": [
    {
     "data": {
      "text/plain": "142"
     },
     "execution_count": 99,
     "metadata": {},
     "output_type": "execute_result"
    }
   ],
   "source": [
    "df[\"country\"].nunique() # 중복 빼고 개수 출력해줌 ㅇㅇ"
   ],
   "metadata": {
    "collapsed": false,
    "pycharm": {
     "name": "#%%\n"
    }
   }
  },
  {
   "cell_type": "code",
   "execution_count": 100,
   "outputs": [
    {
     "data": {
      "text/plain": "Afghanistan          12\nPakistan             12\nNew Zealand          12\nNicaragua            12\nNiger                12\n                     ..\nEritrea              12\nEquatorial Guinea    12\nEl Salvador          12\nEgypt                12\nZimbabwe             12\nName: country, Length: 142, dtype: int64"
     },
     "execution_count": 100,
     "metadata": {},
     "output_type": "execute_result"
    }
   ],
   "source": [
    "df.country.value_counts()"
   ],
   "metadata": {
    "collapsed": false,
    "pycharm": {
     "name": "#%%\n"
    }
   }
  },
  {
   "cell_type": "code",
   "execution_count": 103,
   "outputs": [
    {
     "data": {
      "text/plain": "array(['Asia', 'Europe', 'Africa', 'Americas', 'Oceania'], dtype=object)"
     },
     "execution_count": 103,
     "metadata": {},
     "output_type": "execute_result"
    }
   ],
   "source": [
    "df[\"continent\"].unique()"
   ],
   "metadata": {
    "collapsed": false,
    "pycharm": {
     "name": "#%%\n"
    }
   }
  },
  {
   "cell_type": "code",
   "execution_count": 107,
   "outputs": [
    {
     "name": "stderr",
     "output_type": "stream",
     "text": [
      "/Users/jochan-u/opt/anaconda3/envs/class/lib/python3.7/site-packages/ipykernel_launcher.py:1: FutureWarning: Indexing with multiple keys (implicitly converted to a tuple of keys) will be deprecated, use a list instead.\n",
      "  \"\"\"Entry point for launching an IPython kernel.\n"
     ]
    },
    {
     "data": {
      "text/plain": "             lifeExp           pop\ncontinent                         \nAfrica     48.865330  9.916003e+06\nAmericas   64.658737  2.450479e+07\nAsia       60.064903  7.703872e+07\nEurope     71.903686  1.716976e+07\nOceania    74.326208  8.874672e+06",
      "text/html": "<div>\n<style scoped>\n    .dataframe tbody tr th:only-of-type {\n        vertical-align: middle;\n    }\n\n    .dataframe tbody tr th {\n        vertical-align: top;\n    }\n\n    .dataframe thead th {\n        text-align: right;\n    }\n</style>\n<table border=\"1\" class=\"dataframe\">\n  <thead>\n    <tr style=\"text-align: right;\">\n      <th></th>\n      <th>lifeExp</th>\n      <th>pop</th>\n    </tr>\n    <tr>\n      <th>continent</th>\n      <th></th>\n      <th></th>\n    </tr>\n  </thead>\n  <tbody>\n    <tr>\n      <th>Africa</th>\n      <td>48.865330</td>\n      <td>9.916003e+06</td>\n    </tr>\n    <tr>\n      <th>Americas</th>\n      <td>64.658737</td>\n      <td>2.450479e+07</td>\n    </tr>\n    <tr>\n      <th>Asia</th>\n      <td>60.064903</td>\n      <td>7.703872e+07</td>\n    </tr>\n    <tr>\n      <th>Europe</th>\n      <td>71.903686</td>\n      <td>1.716976e+07</td>\n    </tr>\n    <tr>\n      <th>Oceania</th>\n      <td>74.326208</td>\n      <td>8.874672e+06</td>\n    </tr>\n  </tbody>\n</table>\n</div>"
     },
     "execution_count": 107,
     "metadata": {},
     "output_type": "execute_result"
    }
   ],
   "source": [
    "df.groupby(\"continent\")[\"lifeExp\", \"pop\"].mean()"
   ],
   "metadata": {
    "collapsed": false,
    "pycharm": {
     "name": "#%%\n"
    }
   }
  },
  {
   "cell_type": "code",
   "execution_count": 108,
   "outputs": [
    {
     "data": {
      "text/plain": "continent\nAfrica      52\nAmericas    25\nAsia        33\nEurope      30\nOceania      2\nName: country, dtype: int64"
     },
     "execution_count": 108,
     "metadata": {},
     "output_type": "execute_result"
    }
   ],
   "source": [
    "df.groupby(\"continent\")[\"country\"].nunique()"
   ],
   "metadata": {
    "collapsed": false,
    "pycharm": {
     "name": "#%%\n"
    }
   }
  },
  {
   "cell_type": "code",
   "execution_count": 109,
   "outputs": [
    {
     "data": {
      "text/plain": "continent  country       \nAfrica     Algeria           1\n           Angola            1\n           Benin             1\n           Botswana          1\n           Burkina Faso      1\n                            ..\nEurope     Switzerland       1\n           Turkey            1\n           United Kingdom    1\nOceania    Australia         1\n           New Zealand       1\nName: country, Length: 142, dtype: int64"
     },
     "execution_count": 109,
     "metadata": {},
     "output_type": "execute_result"
    }
   ],
   "source": [
    "df.groupby([\"continent\", \"country\"])[\"country\"].nunique()"
   ],
   "metadata": {
    "collapsed": false,
    "pycharm": {
     "name": "#%%\n"
    }
   }
  },
  {
   "cell_type": "code",
   "execution_count": 110,
   "outputs": [
    {
     "data": {
      "text/plain": "continent  country         country       \nAfrica     Algeria         Algeria           12\n           Angola          Angola            12\n           Benin           Benin             12\n           Botswana        Botswana          12\n           Burkina Faso    Burkina Faso      12\n                                             ..\nEurope     Switzerland     Switzerland       12\n           Turkey          Turkey            12\n           United Kingdom  United Kingdom    12\nOceania    Australia       Australia         12\n           New Zealand     New Zealand       12\nName: country, Length: 142, dtype: int64"
     },
     "execution_count": 110,
     "metadata": {},
     "output_type": "execute_result"
    }
   ],
   "source": [
    "df.groupby([\"continent\", \"country\"])[\"country\"].value_counts()"
   ],
   "metadata": {
    "collapsed": false,
    "pycharm": {
     "name": "#%%\n"
    }
   }
  },
  {
   "cell_type": "code",
   "execution_count": 112,
   "outputs": [
    {
     "data": {
      "text/plain": "                         mean   median\ncountry                               \nAfghanistan         37.478833  39.1460\nAlbania             68.432917  69.6750\nAlgeria             59.030167  59.6910\nAngola              37.883500  39.6945\nArgentina           69.060417  69.2115\n...                       ...      ...\nVietnam             57.479500  57.2900\nWest Bank and Gaza  60.328667  62.5855\nYemen, Rep.         46.780417  46.6440\nZambia              45.996333  46.0615\nZimbabwe            52.663167  53.1765\n\n[142 rows x 2 columns]",
      "text/html": "<div>\n<style scoped>\n    .dataframe tbody tr th:only-of-type {\n        vertical-align: middle;\n    }\n\n    .dataframe tbody tr th {\n        vertical-align: top;\n    }\n\n    .dataframe thead th {\n        text-align: right;\n    }\n</style>\n<table border=\"1\" class=\"dataframe\">\n  <thead>\n    <tr style=\"text-align: right;\">\n      <th></th>\n      <th>mean</th>\n      <th>median</th>\n    </tr>\n    <tr>\n      <th>country</th>\n      <th></th>\n      <th></th>\n    </tr>\n  </thead>\n  <tbody>\n    <tr>\n      <th>Afghanistan</th>\n      <td>37.478833</td>\n      <td>39.1460</td>\n    </tr>\n    <tr>\n      <th>Albania</th>\n      <td>68.432917</td>\n      <td>69.6750</td>\n    </tr>\n    <tr>\n      <th>Algeria</th>\n      <td>59.030167</td>\n      <td>59.6910</td>\n    </tr>\n    <tr>\n      <th>Angola</th>\n      <td>37.883500</td>\n      <td>39.6945</td>\n    </tr>\n    <tr>\n      <th>Argentina</th>\n      <td>69.060417</td>\n      <td>69.2115</td>\n    </tr>\n    <tr>\n      <th>...</th>\n      <td>...</td>\n      <td>...</td>\n    </tr>\n    <tr>\n      <th>Vietnam</th>\n      <td>57.479500</td>\n      <td>57.2900</td>\n    </tr>\n    <tr>\n      <th>West Bank and Gaza</th>\n      <td>60.328667</td>\n      <td>62.5855</td>\n    </tr>\n    <tr>\n      <th>Yemen, Rep.</th>\n      <td>46.780417</td>\n      <td>46.6440</td>\n    </tr>\n    <tr>\n      <th>Zambia</th>\n      <td>45.996333</td>\n      <td>46.0615</td>\n    </tr>\n    <tr>\n      <th>Zimbabwe</th>\n      <td>52.663167</td>\n      <td>53.1765</td>\n    </tr>\n  </tbody>\n</table>\n<p>142 rows × 2 columns</p>\n</div>"
     },
     "execution_count": 112,
     "metadata": {},
     "output_type": "execute_result"
    }
   ],
   "source": [
    "df2 = df.groupby(\"country\")[\"lifeExp\"].agg([\"mean\", \"median\"])\n",
    "df2"
   ],
   "metadata": {
    "collapsed": false,
    "pycharm": {
     "name": "#%%\n"
    }
   }
  },
  {
   "cell_type": "code",
   "execution_count": 115,
   "outputs": [
    {
     "data": {
      "text/plain": "     index             country       mean   median\n0        0         Afghanistan  37.478833  39.1460\n1        1             Albania  68.432917  69.6750\n2        2             Algeria  59.030167  59.6910\n3        3              Angola  37.883500  39.6945\n4        4           Argentina  69.060417  69.2115\n..     ...                 ...        ...      ...\n137    137             Vietnam  57.479500  57.2900\n138    138  West Bank and Gaza  60.328667  62.5855\n139    139         Yemen, Rep.  46.780417  46.6440\n140    140              Zambia  45.996333  46.0615\n141    141            Zimbabwe  52.663167  53.1765\n\n[142 rows x 4 columns]",
      "text/html": "<div>\n<style scoped>\n    .dataframe tbody tr th:only-of-type {\n        vertical-align: middle;\n    }\n\n    .dataframe tbody tr th {\n        vertical-align: top;\n    }\n\n    .dataframe thead th {\n        text-align: right;\n    }\n</style>\n<table border=\"1\" class=\"dataframe\">\n  <thead>\n    <tr style=\"text-align: right;\">\n      <th></th>\n      <th>index</th>\n      <th>country</th>\n      <th>mean</th>\n      <th>median</th>\n    </tr>\n  </thead>\n  <tbody>\n    <tr>\n      <th>0</th>\n      <td>0</td>\n      <td>Afghanistan</td>\n      <td>37.478833</td>\n      <td>39.1460</td>\n    </tr>\n    <tr>\n      <th>1</th>\n      <td>1</td>\n      <td>Albania</td>\n      <td>68.432917</td>\n      <td>69.6750</td>\n    </tr>\n    <tr>\n      <th>2</th>\n      <td>2</td>\n      <td>Algeria</td>\n      <td>59.030167</td>\n      <td>59.6910</td>\n    </tr>\n    <tr>\n      <th>3</th>\n      <td>3</td>\n      <td>Angola</td>\n      <td>37.883500</td>\n      <td>39.6945</td>\n    </tr>\n    <tr>\n      <th>4</th>\n      <td>4</td>\n      <td>Argentina</td>\n      <td>69.060417</td>\n      <td>69.2115</td>\n    </tr>\n    <tr>\n      <th>...</th>\n      <td>...</td>\n      <td>...</td>\n      <td>...</td>\n      <td>...</td>\n    </tr>\n    <tr>\n      <th>137</th>\n      <td>137</td>\n      <td>Vietnam</td>\n      <td>57.479500</td>\n      <td>57.2900</td>\n    </tr>\n    <tr>\n      <th>138</th>\n      <td>138</td>\n      <td>West Bank and Gaza</td>\n      <td>60.328667</td>\n      <td>62.5855</td>\n    </tr>\n    <tr>\n      <th>139</th>\n      <td>139</td>\n      <td>Yemen, Rep.</td>\n      <td>46.780417</td>\n      <td>46.6440</td>\n    </tr>\n    <tr>\n      <th>140</th>\n      <td>140</td>\n      <td>Zambia</td>\n      <td>45.996333</td>\n      <td>46.0615</td>\n    </tr>\n    <tr>\n      <th>141</th>\n      <td>141</td>\n      <td>Zimbabwe</td>\n      <td>52.663167</td>\n      <td>53.1765</td>\n    </tr>\n  </tbody>\n</table>\n<p>142 rows × 4 columns</p>\n</div>"
     },
     "execution_count": 115,
     "metadata": {},
     "output_type": "execute_result"
    }
   ],
   "source": [
    "df2.reset_index(inplace=True)"
   ],
   "metadata": {
    "collapsed": false,
    "pycharm": {
     "name": "#%%\n"
    }
   }
  },
  {
   "cell_type": "code",
   "execution_count": 117,
   "outputs": [
    {
     "data": {
      "text/plain": "                    index       mean   median\ncountry                                      \nAfghanistan             0  37.478833  39.1460\nAlbania                 1  68.432917  69.6750\nAlgeria                 2  59.030167  59.6910\nAngola                  3  37.883500  39.6945\nArgentina               4  69.060417  69.2115\n...                   ...        ...      ...\nVietnam               137  57.479500  57.2900\nWest Bank and Gaza    138  60.328667  62.5855\nYemen, Rep.           139  46.780417  46.6440\nZambia                140  45.996333  46.0615\nZimbabwe              141  52.663167  53.1765\n\n[142 rows x 3 columns]",
      "text/html": "<div>\n<style scoped>\n    .dataframe tbody tr th:only-of-type {\n        vertical-align: middle;\n    }\n\n    .dataframe tbody tr th {\n        vertical-align: top;\n    }\n\n    .dataframe thead th {\n        text-align: right;\n    }\n</style>\n<table border=\"1\" class=\"dataframe\">\n  <thead>\n    <tr style=\"text-align: right;\">\n      <th></th>\n      <th>index</th>\n      <th>mean</th>\n      <th>median</th>\n    </tr>\n    <tr>\n      <th>country</th>\n      <th></th>\n      <th></th>\n      <th></th>\n    </tr>\n  </thead>\n  <tbody>\n    <tr>\n      <th>Afghanistan</th>\n      <td>0</td>\n      <td>37.478833</td>\n      <td>39.1460</td>\n    </tr>\n    <tr>\n      <th>Albania</th>\n      <td>1</td>\n      <td>68.432917</td>\n      <td>69.6750</td>\n    </tr>\n    <tr>\n      <th>Algeria</th>\n      <td>2</td>\n      <td>59.030167</td>\n      <td>59.6910</td>\n    </tr>\n    <tr>\n      <th>Angola</th>\n      <td>3</td>\n      <td>37.883500</td>\n      <td>39.6945</td>\n    </tr>\n    <tr>\n      <th>Argentina</th>\n      <td>4</td>\n      <td>69.060417</td>\n      <td>69.2115</td>\n    </tr>\n    <tr>\n      <th>...</th>\n      <td>...</td>\n      <td>...</td>\n      <td>...</td>\n    </tr>\n    <tr>\n      <th>Vietnam</th>\n      <td>137</td>\n      <td>57.479500</td>\n      <td>57.2900</td>\n    </tr>\n    <tr>\n      <th>West Bank and Gaza</th>\n      <td>138</td>\n      <td>60.328667</td>\n      <td>62.5855</td>\n    </tr>\n    <tr>\n      <th>Yemen, Rep.</th>\n      <td>139</td>\n      <td>46.780417</td>\n      <td>46.6440</td>\n    </tr>\n    <tr>\n      <th>Zambia</th>\n      <td>140</td>\n      <td>45.996333</td>\n      <td>46.0615</td>\n    </tr>\n    <tr>\n      <th>Zimbabwe</th>\n      <td>141</td>\n      <td>52.663167</td>\n      <td>53.1765</td>\n    </tr>\n  </tbody>\n</table>\n<p>142 rows × 3 columns</p>\n</div>"
     },
     "execution_count": 117,
     "metadata": {},
     "output_type": "execute_result"
    }
   ],
   "source": [
    "df2.set_index(\"country\")"
   ],
   "metadata": {
    "collapsed": false,
    "pycharm": {
     "name": "#%%\n"
    }
   }
  },
  {
   "cell_type": "code",
   "execution_count": 119,
   "outputs": [
    {
     "data": {
      "text/plain": "      median\n0    391.460\n1    696.750\n2    596.910\n3    396.945\n4    692.115\n..       ...\n137  572.900\n138  625.855\n139  466.440\n140  460.615\n141  531.765\n\n[142 rows x 1 columns]",
      "text/html": "<div>\n<style scoped>\n    .dataframe tbody tr th:only-of-type {\n        vertical-align: middle;\n    }\n\n    .dataframe tbody tr th {\n        vertical-align: top;\n    }\n\n    .dataframe thead th {\n        text-align: right;\n    }\n</style>\n<table border=\"1\" class=\"dataframe\">\n  <thead>\n    <tr style=\"text-align: right;\">\n      <th></th>\n      <th>median</th>\n    </tr>\n  </thead>\n  <tbody>\n    <tr>\n      <th>0</th>\n      <td>391.460</td>\n    </tr>\n    <tr>\n      <th>1</th>\n      <td>696.750</td>\n    </tr>\n    <tr>\n      <th>2</th>\n      <td>596.910</td>\n    </tr>\n    <tr>\n      <th>3</th>\n      <td>396.945</td>\n    </tr>\n    <tr>\n      <th>4</th>\n      <td>692.115</td>\n    </tr>\n    <tr>\n      <th>...</th>\n      <td>...</td>\n    </tr>\n    <tr>\n      <th>137</th>\n      <td>572.900</td>\n    </tr>\n    <tr>\n      <th>138</th>\n      <td>625.855</td>\n    </tr>\n    <tr>\n      <th>139</th>\n      <td>466.440</td>\n    </tr>\n    <tr>\n      <th>140</th>\n      <td>460.615</td>\n    </tr>\n    <tr>\n      <th>141</th>\n      <td>531.765</td>\n    </tr>\n  </tbody>\n</table>\n<p>142 rows × 1 columns</p>\n</div>"
     },
     "execution_count": 119,
     "metadata": {},
     "output_type": "execute_result"
    }
   ],
   "source": [
    "df2[[\"median\"]]*10"
   ],
   "metadata": {
    "collapsed": false,
    "pycharm": {
     "name": "#%%\n"
    }
   }
  },
  {
   "cell_type": "code",
   "execution_count": 120,
   "outputs": [],
   "source": [
    "def multi10(x):\n",
    "    return x*10"
   ],
   "metadata": {
    "collapsed": false,
    "pycharm": {
     "name": "#%%\n"
    }
   }
  },
  {
   "cell_type": "code",
   "execution_count": 121,
   "outputs": [
    {
     "data": {
      "text/plain": "0      391.460\n1      696.750\n2      596.910\n3      396.945\n4      692.115\n        ...   \n137    572.900\n138    625.855\n139    466.440\n140    460.615\n141    531.765\nName: median, Length: 142, dtype: float64"
     },
     "execution_count": 121,
     "metadata": {},
     "output_type": "execute_result"
    }
   ],
   "source": [
    "df2[\"median\"].apply(multi10) # apply 로 함수를 열에 바로 적용 시켜버리기"
   ],
   "metadata": {
    "collapsed": false,
    "pycharm": {
     "name": "#%%\n"
    }
   }
  },
  {
   "cell_type": "code",
   "execution_count": null,
   "outputs": [],
   "source": [],
   "metadata": {
    "collapsed": false,
    "pycharm": {
     "name": "#%%\n"
    }
   }
  }
 ],
 "metadata": {
  "kernelspec": {
   "display_name": "Python 3",
   "language": "python",
   "name": "python3"
  },
  "language_info": {
   "codemirror_mode": {
    "name": "ipython",
    "version": 2
   },
   "file_extension": ".py",
   "mimetype": "text/x-python",
   "name": "python",
   "nbconvert_exporter": "python",
   "pygments_lexer": "ipython2",
   "version": "2.7.6"
  }
 },
 "nbformat": 4,
 "nbformat_minor": 0
}